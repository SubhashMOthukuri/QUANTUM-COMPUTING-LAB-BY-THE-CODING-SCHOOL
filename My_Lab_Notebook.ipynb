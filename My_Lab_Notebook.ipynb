{
  "nbformat": 4,
  "nbformat_minor": 0,
  "metadata": {
    "colab": {
      "provenance": [],
      "toc_visible": true,
      "authorship_tag": "ABX9TyOPmqzFR7cWFkF1M8o1mPNM",
      "include_colab_link": true
    },
    "kernelspec": {
      "name": "python3",
      "display_name": "Python 3"
    },
    "language_info": {
      "name": "python"
    }
  },
  "cells": [
    {
      "cell_type": "markdown",
      "metadata": {
        "id": "view-in-github",
        "colab_type": "text"
      },
      "source": [
        "<a href=\"https://colab.research.google.com/github/SubhashMOthukuri/QUANTUM-COMPUTING-LAB-BY-THE-CODING-SCHOOL/blob/main/My_Lab_Notebook.ipynb\" target=\"_parent\"><img src=\"https://colab.research.google.com/assets/colab-badge.svg\" alt=\"Open In Colab\"/></a>"
      ]
    },
    {
      "cell_type": "markdown",
      "source": [],
      "metadata": {
        "id": "tw38o9p9f4Jw"
      }
    },
    {
      "cell_type": "markdown",
      "source": [
        "# PYTHON WITH PRINT, VARAIABLES, COMMENTS, DEBUGGING FOR QUANTUM COMPUTING"
      ],
      "metadata": {
        "id": "EZ8tf7KMhDdK"
      }
    },
    {
      "cell_type": "code",
      "execution_count": null,
      "metadata": {
        "colab": {
          "base_uri": "https://localhost:8080/",
          "height": 36
        },
        "id": "livwVA8_Q4IV",
        "outputId": "2a12f546-ac1b-4d31-d9af-6d802288742b"
      },
      "outputs": [
        {
          "output_type": "execute_result",
          "data": {
            "text/plain": [
              "'THis is a text cell'"
            ],
            "application/vnd.google.colaboratory.intrinsic+json": {
              "type": "string"
            }
          },
          "metadata": {},
          "execution_count": 1
        }
      ],
      "source": [
        "# THE CODING SCHOOL WEEK 1 PARTICES TEST.\n",
        "\"THis is a text cell\""
      ]
    },
    {
      "cell_type": "code",
      "source": [
        "\"This is a code cell\""
      ],
      "metadata": {
        "colab": {
          "base_uri": "https://localhost:8080/",
          "height": 36
        },
        "id": "ZAwsv_pJRWKd",
        "outputId": "360fa9f1-54c8-47ee-faec-8f685b9ecdc8"
      },
      "execution_count": null,
      "outputs": [
        {
          "output_type": "execute_result",
          "data": {
            "text/plain": [
              "'This is a code cell'"
            ],
            "application/vnd.google.colaboratory.intrinsic+json": {
              "type": "string"
            }
          },
          "metadata": {},
          "execution_count": 2
        }
      ]
    },
    {
      "cell_type": "markdown",
      "source": [],
      "metadata": {
        "id": "hExuF4Bbf2qh"
      }
    },
    {
      "cell_type": "code",
      "source": [
        "print(\"Hello World!\")"
      ],
      "metadata": {
        "colab": {
          "base_uri": "https://localhost:8080/"
        },
        "id": "DrHWSLBKRdPj",
        "outputId": "43879f6c-0771-4144-d336-34642137ff6f"
      },
      "execution_count": null,
      "outputs": [
        {
          "output_type": "stream",
          "name": "stdout",
          "text": [
            "Hello World!\n"
          ]
        }
      ]
    },
    {
      "cell_type": "code",
      "source": [
        "#\n",
        "print (\"I am excited to learn quantum computing!\")"
      ],
      "metadata": {
        "colab": {
          "base_uri": "https://localhost:8080/"
        },
        "id": "c49aqTLzRkbb",
        "outputId": "6dab4c7c-5c58-46a4-9c92-a77a8d908bda"
      },
      "execution_count": null,
      "outputs": [
        {
          "output_type": "stream",
          "name": "stdout",
          "text": [
            "I am excited to learn quantum computing!\n"
          ]
        }
      ]
    },
    {
      "cell_type": "code",
      "source": [
        "#COMPLETE THIS CODE"
      ],
      "metadata": {
        "id": "Tpjg4a2LRyJj"
      },
      "execution_count": null,
      "outputs": []
    },
    {
      "cell_type": "code",
      "source": [
        "print(\"My name is Subhash Mothukuru \")"
      ],
      "metadata": {
        "colab": {
          "base_uri": "https://localhost:8080/"
        },
        "id": "Jx5tsPXvR_p7",
        "outputId": "10ce1d2d-4049-426e-db56-0c8ebd8c4b7d"
      },
      "execution_count": null,
      "outputs": [
        {
          "output_type": "stream",
          "name": "stdout",
          "text": [
            "My name is Subhash Mothukuru \n"
          ]
        }
      ]
    },
    {
      "cell_type": "code",
      "source": [
        "#part 3: variables\n",
        "my_school = \"CONCORDIA UNIVERSITY WISCONSIN\"\n",
        "print(my_school)"
      ],
      "metadata": {
        "colab": {
          "base_uri": "https://localhost:8080/"
        },
        "id": "Zsz7FaOfSf8s",
        "outputId": "0701f2b0-d966-4b0c-f26c-d4e97a13743c"
      },
      "execution_count": null,
      "outputs": [
        {
          "output_type": "stream",
          "name": "stdout",
          "text": [
            "CONCORDIA UNIVERSITY WISCONSIN\n"
          ]
        }
      ]
    },
    {
      "cell_type": "code",
      "source": [
        "favorite_number=\"ONE\"\n",
        "print(one)"
      ],
      "metadata": {
        "colab": {
          "base_uri": "https://localhost:8080/"
        },
        "id": "D_VdWHMxS3p9",
        "outputId": "018e1d9d-4a8f-424c-f153-00385b17bb5a"
      },
      "execution_count": null,
      "outputs": [
        {
          "output_type": "stream",
          "name": "stdout",
          "text": [
            "ONE\n"
          ]
        }
      ]
    },
    {
      "cell_type": "code",
      "source": [
        "favorite_number = \"3.3333\"\n",
        "print (favorite_number)"
      ],
      "metadata": {
        "colab": {
          "base_uri": "https://localhost:8080/"
        },
        "id": "CEwGdGo1TJQL",
        "outputId": "b11a4c2d-bbb6-46f0-81ad-b66d3c8466f8"
      },
      "execution_count": null,
      "outputs": [
        {
          "output_type": "stream",
          "name": "stdout",
          "text": [
            "3.3333\n"
          ]
        }
      ]
    },
    {
      "cell_type": "code",
      "source": [
        "favorite_fruit = \"apple\"\n",
        "print (favorite_fruit)"
      ],
      "metadata": {
        "colab": {
          "base_uri": "https://localhost:8080/"
        },
        "id": "ZNb0qdaiT2Q0",
        "outputId": "9a92ccd8-95e2-4143-a787-129e5a9edc1f"
      },
      "execution_count": null,
      "outputs": [
        {
          "output_type": "stream",
          "name": "stdout",
          "text": [
            "apple\n"
          ]
        }
      ]
    },
    {
      "cell_type": "code",
      "source": [
        "x =0\n",
        "x =2*x\n",
        "x =2**x\n",
        "x=2*x\n",
        "x =x**x\n",
        "x"
      ],
      "metadata": {
        "colab": {
          "base_uri": "https://localhost:8080/"
        },
        "id": "FJz0XmBfVt6M",
        "outputId": "429299f5-7387-4bf3-c840-441d213f69c6"
      },
      "execution_count": null,
      "outputs": [
        {
          "output_type": "execute_result",
          "data": {
            "text/plain": [
              "4"
            ]
          },
          "metadata": {},
          "execution_count": 34
        }
      ]
    },
    {
      "cell_type": "code",
      "source": [
        "#problem #4.3\n",
        "print(\"Hello World!\")"
      ],
      "metadata": {
        "colab": {
          "base_uri": "https://localhost:8080/"
        },
        "id": "j_lTHyTAWfzr",
        "outputId": "14f12e06-127c-4f93-b04c-8b0e8cfbacf1"
      },
      "execution_count": null,
      "outputs": [
        {
          "output_type": "stream",
          "name": "stdout",
          "text": [
            "Hello World!\n"
          ]
        }
      ]
    },
    {
      "cell_type": "code",
      "source": [
        "x =\"Cya\"\n",
        "y =\"later\"\n",
        "z =\"!\"\n",
        "print (x, y, z)"
      ],
      "metadata": {
        "colab": {
          "base_uri": "https://localhost:8080/"
        },
        "id": "fIrmUcyAWp26",
        "outputId": "072ace99-ebf9-4e3c-fc3a-a631a458c6b1"
      },
      "execution_count": null,
      "outputs": [
        {
          "output_type": "stream",
          "name": "stdout",
          "text": [
            "Cya later !\n"
          ]
        }
      ]
    },
    {
      "cell_type": "code",
      "source": [
        "#Comments\n",
        "x =5\n",
        "#x =10\n",
        "print(x)"
      ],
      "metadata": {
        "colab": {
          "base_uri": "https://localhost:8080/"
        },
        "id": "LaRnhWCmW8f2",
        "outputId": "6cf331d6-e535-4de3-fc00-06e1be426ff1"
      },
      "execution_count": null,
      "outputs": [
        {
          "output_type": "stream",
          "name": "stdout",
          "text": [
            "5\n"
          ]
        }
      ]
    },
    {
      "cell_type": "code",
      "source": [
        "my_message=\"Hello World!\"\n",
        "print(my_message) #\"Hello World!\""
      ],
      "metadata": {
        "colab": {
          "base_uri": "https://localhost:8080/"
        },
        "id": "ledlGScYXNLK",
        "outputId": "2dfa70d2-4fab-4170-8a0e-09045cbea9f2"
      },
      "execution_count": null,
      "outputs": [
        {
          "output_type": "stream",
          "name": "stdout",
          "text": [
            "Hello World!\n"
          ]
        }
      ]
    },
    {
      "cell_type": "code",
      "source": [
        "#print(var_var_binks)\n",
        "var_var_blinks=5\n",
        "print(var_var_blinks)"
      ],
      "metadata": {
        "colab": {
          "base_uri": "https://localhost:8080/"
        },
        "id": "g8kj7IYkXX4a",
        "outputId": "b8447307-c67a-46cd-a196-d286459c36f1"
      },
      "execution_count": null,
      "outputs": [
        {
          "output_type": "stream",
          "name": "stdout",
          "text": [
            "5\n"
          ]
        }
      ]
    },
    {
      "cell_type": "code",
      "source": [
        "word_1 = \"comment\"\n",
        "word_2 = \"bo\"\n",
        "word_3 = \"bomment\"\n",
        "word_4 = \"...\"\n",
        "word_5 = \"lomment\"\n",
        "\n",
        "print(word_1)\n",
        "#print(word_3)\n",
        "print(word_2)\n",
        "print(word_3)\n",
        "print(word_4)\n",
        "#print(word_5)\n",
        "#print(word_4)\n",
        "print(word_1)\n",
        "\n",
        "#output\n",
        "#comment\n",
        "#bo\n",
        "#bomment\n",
        "#...\n",
        "#comment"
      ],
      "metadata": {
        "colab": {
          "base_uri": "https://localhost:8080/"
        },
        "id": "mHo-ZlpSXuID",
        "outputId": "db8d106f-1bdb-47ee-8c75-69ab7ad72b50"
      },
      "execution_count": null,
      "outputs": [
        {
          "output_type": "stream",
          "name": "stdout",
          "text": [
            "comment\n",
            "bo\n",
            "bomment\n",
            "...\n",
            "comment\n"
          ]
        }
      ]
    }
  ]
}