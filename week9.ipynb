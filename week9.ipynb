{
  "cells": [
    {
      "cell_type": "markdown",
      "metadata": {
        "id": "view-in-github",
        "colab_type": "text"
      },
      "source": [
        "<a href=\"https://colab.research.google.com/github/SubhashMOthukuri/QUANTUM-COMPUTING-LAB-BY-THE-CODING-SCHOOL/blob/main/week9.ipynb\" target=\"_parent\"><img src=\"https://colab.research.google.com/assets/colab-badge.svg\" alt=\"Open In Colab\"/></a>"
      ]
    },
    {
      "cell_type": "markdown",
      "id": "2b5624a2-65dd-4659-bcd3-d1fbed560d58",
      "metadata": {
        "id": "2b5624a2-65dd-4659-bcd3-d1fbed560d58"
      },
      "source": [
        "# **Lab 9: Bell Measurement and Quantum Teleportation**\n",
        "---\n",
        "\n",
        "### **Description**:\n",
        "In today's lab, we will create Bell states and then practice identifying Bell states using Bell measurements.\n",
        "\n",
        "Then, we will delve into the practical implementation of the Quantum Teleportation protocol through Cirq. Our objectives for this session are threefold:\n",
        "\n",
        "1. To grasp one of the foundational Quantum Protocols, providing essential knowledge for those involved in this field.\n",
        "\n",
        "2. To lay a solid foundation for our upcoming discussions on Quantum Networking next semester.\n",
        "\n",
        "<br>\n",
        "\n",
        "### **Structure**\n",
        "**Part 1**: [Bell measurement](#p1)\n",
        "\n",
        "**Part 2**: [Quantum Teleportation [ADVANCED]](#p2)\n",
        "\n",
        "\n",
        "<br>\n",
        "\n",
        "### **Resources**\n",
        "* [Cirq Basics Cheat Sheet](https://docs.google.com/document/d/1j0vEwtS6fK-tD1DWAPry4tJdxEiq8fwMtXuYNGRhK_M/edit?usp=drive_link)\n",
        "\n",
        "\n",
        "<br>\n",
        "\n",
        "**Before starting, run the code below to import all necessary functions and libraries.**"
      ]
    },
    {
      "cell_type": "code",
      "execution_count": null,
      "id": "536b5e25-05bc-4923-8636-595d63809535",
      "metadata": {
        "id": "536b5e25-05bc-4923-8636-595d63809535",
        "colab": {
          "base_uri": "https://localhost:8080/"
        },
        "outputId": "9a74ba34-e891-4b8d-99c5-f95d8286fef0"
      },
      "outputs": [
        {
          "output_type": "stream",
          "name": "stdout",
          "text": [
            "installing cirq...\n",
            "\u001b[2K     \u001b[90m━━━━━━━━━━━━━━━━━━━━━━━━━━━━━━━━━━━━━━━━\u001b[0m \u001b[32m45.6/45.6 kB\u001b[0m \u001b[31m3.0 MB/s\u001b[0m eta \u001b[36m0:00:00\u001b[0m\n",
            "\u001b[?25h  Preparing metadata (setup.py) ... \u001b[?25l\u001b[?25hdone\n",
            "\u001b[2K   \u001b[90m━━━━━━━━━━━━━━━━━━━━━━━━━━━━━━━━━━━━━━━━\u001b[0m \u001b[32m1.9/1.9 MB\u001b[0m \u001b[31m30.3 MB/s\u001b[0m eta \u001b[36m0:00:00\u001b[0m\n",
            "\u001b[2K   \u001b[90m━━━━━━━━━━━━━━━━━━━━━━━━━━━━━━━━━━━━━━━━\u001b[0m \u001b[32m532.7/532.7 kB\u001b[0m \u001b[31m25.0 MB/s\u001b[0m eta \u001b[36m0:00:00\u001b[0m\n",
            "\u001b[2K   \u001b[90m━━━━━━━━━━━━━━━━━━━━━━━━━━━━━━━━━━━━━━━━\u001b[0m \u001b[32m60.5/60.5 kB\u001b[0m \u001b[31m5.6 MB/s\u001b[0m eta \u001b[36m0:00:00\u001b[0m\n",
            "\u001b[2K   \u001b[90m━━━━━━━━━━━━━━━━━━━━━━━━━━━━━━━━━━━━━━━━\u001b[0m \u001b[32m69.3/69.3 kB\u001b[0m \u001b[31m7.0 MB/s\u001b[0m eta \u001b[36m0:00:00\u001b[0m\n",
            "\u001b[2K   \u001b[90m━━━━━━━━━━━━━━━━━━━━━━━━━━━━━━━━━━━━━━━━\u001b[0m \u001b[32m596.5/596.5 kB\u001b[0m \u001b[31m36.2 MB/s\u001b[0m eta \u001b[36m0:00:00\u001b[0m\n",
            "\u001b[2K   \u001b[90m━━━━━━━━━━━━━━━━━━━━━━━━━━━━━━━━━━━━━━━━\u001b[0m \u001b[32m202.8/202.8 kB\u001b[0m \u001b[31m17.6 MB/s\u001b[0m eta \u001b[36m0:00:00\u001b[0m\n",
            "\u001b[2K   \u001b[90m━━━━━━━━━━━━━━━━━━━━━━━━━━━━━━━━━━━━━━━━\u001b[0m \u001b[32m53.0/53.0 kB\u001b[0m \u001b[31m5.1 MB/s\u001b[0m eta \u001b[36m0:00:00\u001b[0m\n",
            "\u001b[2K   \u001b[90m━━━━━━━━━━━━━━━━━━━━━━━━━━━━━━━━━━━━━━━━\u001b[0m \u001b[32m6.4/6.4 MB\u001b[0m \u001b[31m62.1 MB/s\u001b[0m eta \u001b[36m0:00:00\u001b[0m\n",
            "\u001b[2K   \u001b[90m━━━━━━━━━━━━━━━━━━━━━━━━━━━━━━━━━━━━━━━━\u001b[0m \u001b[32m2.2/2.2 MB\u001b[0m \u001b[31m50.2 MB/s\u001b[0m eta \u001b[36m0:00:00\u001b[0m\n",
            "\u001b[2K   \u001b[90m━━━━━━━━━━━━━━━━━━━━━━━━━━━━━━━━━━━━━━━━\u001b[0m \u001b[32m2.9/2.9 MB\u001b[0m \u001b[31m39.5 MB/s\u001b[0m eta \u001b[36m0:00:00\u001b[0m\n",
            "\u001b[2K   \u001b[90m━━━━━━━━━━━━━━━━━━━━━━━━━━━━━━━━━━━━━━━━\u001b[0m \u001b[32m1.7/1.7 MB\u001b[0m \u001b[31m35.2 MB/s\u001b[0m eta \u001b[36m0:00:00\u001b[0m\n",
            "\u001b[2K   \u001b[90m━━━━━━━━━━━━━━━━━━━━━━━━━━━━━━━━━━━━━━━━\u001b[0m \u001b[32m117.8/117.8 kB\u001b[0m \u001b[31m10.3 MB/s\u001b[0m eta \u001b[36m0:00:00\u001b[0m\n",
            "\u001b[2K   \u001b[90m━━━━━━━━━━━━━━━━━━━━━━━━━━━━━━━━━━━━━━━━\u001b[0m \u001b[32m722.2/722.2 kB\u001b[0m \u001b[31m25.1 MB/s\u001b[0m eta \u001b[36m0:00:00\u001b[0m\n",
            "\u001b[?25h  Building wheel for rpcq (setup.py) ... \u001b[?25l\u001b[?25hdone\n",
            "installed cirq.\n"
          ]
        }
      ],
      "source": [
        "import random\n",
        "import matplotlib.pyplot as plt\n",
        "import numpy as np\n",
        "def binary_labels(num_qubits):\n",
        "    return [bin(x)[2:].zfill(num_qubits) for x in range(2 ** num_qubits)]\n",
        "plt.rcParams.update({'font.size': 8})\n",
        "try:\n",
        "    import cirq\n",
        "except ImportError:\n",
        "    print(\"installing cirq...\")\n",
        "    !pip install cirq --quiet\n",
        "    import cirq\n",
        "    print(\"installed cirq.\")"
      ]
    },
    {
      "cell_type": "markdown",
      "source": [
        "<a name=\"p1\"></a>\n",
        "\n",
        "---\n",
        "## **Part 1: Bell Measurement**\n",
        "---\n",
        "In this part, you will review how to create and work with quantum circuits in Cirq."
      ],
      "metadata": {
        "id": "zHBGjz26c9QP"
      },
      "id": "zHBGjz26c9QP"
    },
    {
      "cell_type": "markdown",
      "source": [
        "####**Problem #1.1**\n",
        "**Together**, create a circuit that produces an anti-correlated Bell state with a plus-phase. Output the state in ket notation."
      ],
      "metadata": {
        "id": "0b_cr7tpTTS6"
      },
      "id": "0b_cr7tpTTS6"
    },
    {
      "cell_type": "code",
      "source": [
        "my_qubits = # COMPLETE THIS CODE\n",
        "my_circuit = # COMPLETE THIS CODE"
      ],
      "metadata": {
        "id": "m5irwvFVNSbT"
      },
      "id": "m5irwvFVNSbT",
      "execution_count": null,
      "outputs": []
    },
    {
      "cell_type": "code",
      "source": [
        "# COMPLETE THIS CODE"
      ],
      "metadata": {
        "id": "xEw63GEpNZGF"
      },
      "id": "xEw63GEpNZGF",
      "execution_count": null,
      "outputs": []
    },
    {
      "cell_type": "markdown",
      "source": [
        "######**Solution**"
      ],
      "metadata": {
        "id": "cuiWmlQ5NXmm"
      },
      "id": "cuiWmlQ5NXmm"
    },
    {
      "cell_type": "code",
      "source": [
        "my_qubits = cirq.NamedQubit.range(2, prefix = 'q')\n",
        "my_circuit = cirq.Circuit()\n",
        "my_circuit.append(cirq.H(my_qubits[0]))\n",
        "#my_circuit.append(cirq.X(my_qubits[1]))\n",
        "my_circuit.append(cirq.CNOT(my_qubits[0],my_qubits[1]))\n",
        "my_circuit"
      ],
      "metadata": {
        "colab": {
          "base_uri": "https://localhost:8080/",
          "height": 69
        },
        "id": "6HzYOUCKT0Vz",
        "outputId": "a69cbe95-ceca-44f4-9abd-ae076848b901"
      },
      "id": "6HzYOUCKT0Vz",
      "execution_count": null,
      "outputs": [
        {
          "output_type": "execute_result",
          "data": {
            "text/plain": [
              "q0: ───H───@───\n",
              "           │\n",
              "q1: ───────X───"
            ],
            "text/html": [
              "<pre style=\"overflow: auto; white-space: pre;\">q0: ───H───@───\n",
              "           │\n",
              "q1: ───────X───</pre>"
            ]
          },
          "metadata": {},
          "execution_count": 72
        }
      ]
    },
    {
      "cell_type": "code",
      "source": [
        "cirq.dirac_notation(cirq.final_state_vector(my_circuit))"
      ],
      "metadata": {
        "colab": {
          "base_uri": "https://localhost:8080/",
          "height": 36
        },
        "id": "6zJ2RE32UFYl",
        "outputId": "f8162989-b4eb-4553-e380-3caad2e87ef2"
      },
      "id": "6zJ2RE32UFYl",
      "execution_count": null,
      "outputs": [
        {
          "output_type": "execute_result",
          "data": {
            "text/plain": [
              "'0.71|01⟩ + 0.71|10⟩'"
            ],
            "application/vnd.google.colaboratory.intrinsic+json": {
              "type": "string"
            }
          },
          "metadata": {},
          "execution_count": 9
        }
      ]
    },
    {
      "cell_type": "markdown",
      "source": [
        "####**Problem #1.2**\n",
        "**Together**, create a circuit modified from problem #1.1 so the Bell state now has a minus-phase. This is done by adding an X gate to q0 before applying the H gate. Output the state in ket notation."
      ],
      "metadata": {
        "id": "GYW7_WCGUUna"
      },
      "id": "GYW7_WCGUUna"
    },
    {
      "cell_type": "code",
      "source": [
        "my_qubits = # COMPLETE THIS CODE\n",
        "my_circuit = # COMPLETE THIS CODE\n",
        "# COMPLETE THIS CODE\n",
        "my_circuit.append(cirq.H(my_qubits[0]))\n",
        "my_circuit.append(cirq.X(my_qubits[1]))\n",
        "my_circuit.append(cirq.CNOT(my_qubits[0],my_qubits[1]))\n",
        "my_circuit"
      ],
      "metadata": {
        "id": "imIxUOOHNfbl"
      },
      "id": "imIxUOOHNfbl",
      "execution_count": null,
      "outputs": []
    },
    {
      "cell_type": "code",
      "source": [
        "# COMPLETE THIS CODE"
      ],
      "metadata": {
        "id": "w_qF9cLjNm-y"
      },
      "id": "w_qF9cLjNm-y",
      "execution_count": null,
      "outputs": []
    },
    {
      "cell_type": "markdown",
      "source": [
        "######**Solution**"
      ],
      "metadata": {
        "id": "At7fZ3XfNojp"
      },
      "id": "At7fZ3XfNojp"
    },
    {
      "cell_type": "code",
      "source": [
        "my_qubits = cirq.NamedQubit.range(2, prefix = 'q')\n",
        "my_circuit = cirq.Circuit()\n",
        "my_circuit.append(cirq.X(my_qubits[0]))\n",
        "my_circuit.append(cirq.H(my_qubits[0]))\n",
        "my_circuit.append(cirq.X(my_qubits[1]))\n",
        "my_circuit.append(cirq.CNOT(my_qubits[0],my_qubits[1]))\n",
        "my_circuit"
      ],
      "metadata": {
        "colab": {
          "base_uri": "https://localhost:8080/",
          "height": 69
        },
        "id": "AncYjXCoWX8F",
        "outputId": "4653fcbb-cfdc-4ac6-b3bf-6944607ec76a"
      },
      "id": "AncYjXCoWX8F",
      "execution_count": null,
      "outputs": [
        {
          "output_type": "execute_result",
          "data": {
            "text/plain": [
              "q0: ───X───H───@───\n",
              "               │\n",
              "q1: ───X───────X───"
            ],
            "text/html": [
              "<pre style=\"overflow: auto; white-space: pre;\">q0: ───X───H───@───\n",
              "               │\n",
              "q1: ───X───────X───</pre>"
            ]
          },
          "metadata": {},
          "execution_count": 16
        }
      ]
    },
    {
      "cell_type": "code",
      "source": [
        "cirq.dirac_notation(cirq.final_state_vector(my_circuit))"
      ],
      "metadata": {
        "colab": {
          "base_uri": "https://localhost:8080/",
          "height": 36
        },
        "id": "nxGMBbr4Wurv",
        "outputId": "57728783-2f86-4b58-9d7c-41934bcd3082"
      },
      "id": "nxGMBbr4Wurv",
      "execution_count": null,
      "outputs": [
        {
          "output_type": "execute_result",
          "data": {
            "text/plain": [
              "'0.71|01⟩ - 0.71|10⟩'"
            ],
            "application/vnd.google.colaboratory.intrinsic+json": {
              "type": "string"
            }
          },
          "metadata": {},
          "execution_count": 17
        }
      ]
    },
    {
      "cell_type": "markdown",
      "source": [
        "####**Problem #1.3**\n",
        "**Together**, re-create the circuit from problem #1.2 and measure the qubits. Conduct a simulation with 1000 repetitions of the measurement results. Output a histogram desplaying the measurement results of the Bell state. Based only on the measurement results, can you tell exactly which Bell state was measured?"
      ],
      "metadata": {
        "id": "iUPnG5oIdteZ"
      },
      "id": "iUPnG5oIdteZ"
    },
    {
      "cell_type": "code",
      "source": [
        "my_qubits = # COMPLETE THIS CODE\n",
        "my_circuit = # COMPLETE THIS CODE"
      ],
      "metadata": {
        "id": "Vvmi2gaINqbt"
      },
      "id": "Vvmi2gaINqbt",
      "execution_count": null,
      "outputs": []
    },
    {
      "cell_type": "code",
      "source": [
        "# COMPLETE THIS CODE"
      ],
      "metadata": {
        "id": "b4leLcp-NwON"
      },
      "id": "b4leLcp-NwON",
      "execution_count": null,
      "outputs": []
    },
    {
      "cell_type": "code",
      "source": [
        "hist = cirq.plot_state_histogram(results, plt.subplot(), title = 'Qubit States', xlabel = 'States', ylabel = 'Occurrences', tick_label=binary_labels(2))\n",
        "\n",
        "plt.show()"
      ],
      "metadata": {
        "id": "q3fBT7Z7zSqq"
      },
      "id": "q3fBT7Z7zSqq",
      "execution_count": null,
      "outputs": []
    },
    {
      "cell_type": "markdown",
      "source": [
        "######**Solution**"
      ],
      "metadata": {
        "id": "59o5jT8DNxwA"
      },
      "id": "59o5jT8DNxwA"
    },
    {
      "cell_type": "code",
      "source": [
        "my_qubits = cirq.NamedQubit.range( 2, prefix = \"q\")\n",
        "my_circuit = cirq.Circuit()\n",
        "my_circuit.append(cirq.X(my_qubits[0]))\n",
        "my_circuit.append(cirq.H(my_qubits[0]))\n",
        "my_circuit.append(cirq.X(my_qubits[1]))\n",
        "my_circuit.append(cirq.CNOT(my_qubits[0], my_qubits[1]))\n",
        "my_circuit.append(cirq.measure(my_qubits))\n",
        "my_circuit"
      ],
      "metadata": {
        "colab": {
          "base_uri": "https://localhost:8080/",
          "height": 69
        },
        "id": "bBOxGXeuds3m",
        "outputId": "0a80d7ee-c480-45b0-caef-7c5e40e76f36"
      },
      "id": "bBOxGXeuds3m",
      "execution_count": null,
      "outputs": [
        {
          "output_type": "execute_result",
          "data": {
            "text/plain": [
              "q0: ───X───H───@───M───\n",
              "               │   │\n",
              "q1: ───X───────X───M───"
            ],
            "text/html": [
              "<pre style=\"overflow: auto; white-space: pre;\">q0: ───X───H───@───M───\n",
              "               │   │\n",
              "q1: ───X───────X───M───</pre>"
            ]
          },
          "metadata": {},
          "execution_count": 20
        }
      ]
    },
    {
      "cell_type": "code",
      "source": [
        "sim = cirq.Simulator()\n",
        "results = sim.run(my_circuit,repetitions = 1000)\n",
        "results"
      ],
      "metadata": {
        "colab": {
          "base_uri": "https://localhost:8080/"
        },
        "id": "hkerQlDveTyS",
        "outputId": "d259b389-0331-4849-842c-e1b4606a2aa1"
      },
      "id": "hkerQlDveTyS",
      "execution_count": null,
      "outputs": [
        {
          "output_type": "execute_result",
          "data": {
            "text/plain": [
              "q0,q1=0010000111011000010001011011011011000000000001110000101001100110111011100110010100011101100010001011100000110111001110010111010010110011111001111001010111100000110000000001000001110010101011111101111100111010100100111000010111000001001011101111110010111100110010111101111001111011001010011011011010011011000001000000110011000000110100001000011010100001000101001000110111011000100000001110101110111111100100011111100101100110011010100010001010011111111011010111100111010010011110100011000101001110101010101100001010111011101110010001110001010011100111110101001000010100001100100111101001011000001001111111100010000101001010001111111011011010000111110101010100101000011101110110001111110001111111000010110111001100111101101110010101101110100111111111010110011001101110000001000110000010001110101011101111101000000011011111100011101001100101001011011000111111001001111110100100100011000010000011101010101100111001010110101011001001100011000101110011000100011110001001010111000010111000011110101011100000, 1101111000100111101110100100100100111111111110001111010110011001000100011001101011100010011101110100011111001000110001101000101101001100000110000110101000011111001111111110111110001101010100000010000011000101011011000111101000111110110100010000001101000011001101000010000110000100110101100100100101100100111110111111001100111111001011110111100101011110111010110111001000100111011111110001010001000000011011100000011010011001100101011101110101100000000100101000011000101101100001011100111010110001010101010011110101000100010001101110001110101100011000001010110111101011110011011000010110100111110110000000011101111010110101110000000100100101111000001010101011010111100010001001110000001110000000111101001000110011000010010001101010010001011000000000101001100110010001111110111001111101110001010100010000010111111100100000011100010110011010110100100111000000110110000001011011011100111101111100010101010011000110101001010100110110011100111010001100111011100001110110101000111101000111100001010100011111"
            ]
          },
          "metadata": {},
          "execution_count": 28
        }
      ]
    },
    {
      "cell_type": "code",
      "source": [
        "hist = cirq.plot_state_histogram(results, plt.subplot(), title = 'Qubit States', xlabel = 'States', ylabel = 'Occurrences', tick_label=binary_labels(2))\n",
        "\n",
        "plt.show()"
      ],
      "metadata": {
        "colab": {
          "base_uri": "https://localhost:8080/",
          "height": 460
        },
        "id": "KioLuEPlypXR",
        "outputId": "b88e5efc-28da-4351-9477-20822e0b01db"
      },
      "id": "KioLuEPlypXR",
      "execution_count": null,
      "outputs": [
        {
          "output_type": "display_data",
          "data": {
            "text/plain": [
              "<Figure size 640x480 with 1 Axes>"
            ],
            "image/png": "[encoded data removed]"
          },
          "metadata": {}
        }
      ]
    },
    {
      "cell_type": "markdown",
      "source": [
        "####**Problem #1.4**\n",
        "**Independently**, create a circuit that produces an correlated Bell state with a plus-phase. Output the state in ket notation."
      ],
      "metadata": {
        "id": "BvoSr58ZecFA"
      },
      "id": "BvoSr58ZecFA"
    },
    {
      "cell_type": "code",
      "source": [
        "# COMPLETE THIS CODE"
      ],
      "metadata": {
        "id": "udpaVmCyN0xa"
      },
      "id": "udpaVmCyN0xa",
      "execution_count": null,
      "outputs": []
    },
    {
      "cell_type": "code",
      "source": [
        "# COMPLETE THIS CODE"
      ],
      "metadata": {
        "id": "XEdibwxzN0oU"
      },
      "id": "XEdibwxzN0oU",
      "execution_count": null,
      "outputs": []
    },
    {
      "cell_type": "markdown",
      "source": [
        "######**Solution**"
      ],
      "metadata": {
        "id": "H8RJ2MxtN1Vl"
      },
      "id": "H8RJ2MxtN1Vl"
    },
    {
      "cell_type": "code",
      "source": [
        "my_qubits = cirq.NamedQubit.range(2, prefix = 'q')\n",
        "my_circuit = cirq.Circuit()\n",
        "my_circuit.append(cirq.H(my_qubits[0]))\n",
        "my_circuit.append(cirq.CNOT(my_qubits[0],my_qubits[1]))\n",
        "my_circuit"
      ],
      "metadata": {
        "colab": {
          "base_uri": "https://localhost:8080/",
          "height": 69
        },
        "id": "PMB6HLWwe93C",
        "outputId": "f3bc910a-56a0-4538-b8e1-591765a48ad7"
      },
      "id": "PMB6HLWwe93C",
      "execution_count": null,
      "outputs": [
        {
          "output_type": "execute_result",
          "data": {
            "text/plain": [
              "q0: ───H───@───\n",
              "           │\n",
              "q1: ───────X───"
            ],
            "text/html": [
              "<pre style=\"overflow: auto; white-space: pre;\">q0: ───H───@───\n",
              "           │\n",
              "q1: ───────X───</pre>"
            ]
          },
          "metadata": {},
          "execution_count": 31
        }
      ]
    },
    {
      "cell_type": "code",
      "source": [
        "cirq.dirac_notation(cirq.final_state_vector(my_circuit))"
      ],
      "metadata": {
        "colab": {
          "base_uri": "https://localhost:8080/",
          "height": 36
        },
        "id": "Fafsem29fByx",
        "outputId": "e355a5eb-a5a3-4a66-e54e-7faf86fca0d0"
      },
      "id": "Fafsem29fByx",
      "execution_count": null,
      "outputs": [
        {
          "output_type": "execute_result",
          "data": {
            "text/plain": [
              "'0.71|00⟩ + 0.71|11⟩'"
            ],
            "application/vnd.google.colaboratory.intrinsic+json": {
              "type": "string"
            }
          },
          "metadata": {},
          "execution_count": 32
        }
      ]
    },
    {
      "cell_type": "markdown",
      "source": [
        "####**Problem #1.5**\n",
        "**Independently**, re-create the circuit from problem #1.4 and measure the qubits. Conduct a simulation with 100 repetitions of the measurement results."
      ],
      "metadata": {
        "id": "sluP_oWLfFg1"
      },
      "id": "sluP_oWLfFg1"
    },
    {
      "cell_type": "code",
      "source": [
        "# COMPLETE THIS CODE"
      ],
      "metadata": {
        "id": "skYn2cIaOAZs"
      },
      "id": "skYn2cIaOAZs",
      "execution_count": null,
      "outputs": []
    },
    {
      "cell_type": "code",
      "source": [
        "# COMPLETE THIS CODE"
      ],
      "metadata": {
        "id": "ks5WROPuN_tW"
      },
      "id": "ks5WROPuN_tW",
      "execution_count": null,
      "outputs": []
    },
    {
      "cell_type": "markdown",
      "source": [
        "######**Solution**"
      ],
      "metadata": {
        "id": "99KKaqpxOD1A"
      },
      "id": "99KKaqpxOD1A"
    },
    {
      "cell_type": "code",
      "source": [
        "my_qubits = cirq.NamedQubit.range(2, prefix = 'q')\n",
        "my_circuit = cirq.Circuit()\n",
        "my_circuit.append(cirq.H(my_qubits[0]))\n",
        "my_circuit.append(cirq.CNOT(my_qubits[0],my_qubits[1]))\n",
        "my_circuit.append(cirq.measure(my_qubits))\n",
        "my_circuit"
      ],
      "metadata": {
        "colab": {
          "base_uri": "https://localhost:8080/",
          "height": 69
        },
        "id": "z2NWuhjWfdsn",
        "outputId": "75c82551-d08b-4e97-fd3f-abe939e49661"
      },
      "id": "z2NWuhjWfdsn",
      "execution_count": null,
      "outputs": [
        {
          "output_type": "execute_result",
          "data": {
            "text/plain": [
              "q0: ───H───@───M───\n",
              "           │   │\n",
              "q1: ───────X───M───"
            ],
            "text/html": [
              "<pre style=\"overflow: auto; white-space: pre;\">q0: ───H───@───M───\n",
              "           │   │\n",
              "q1: ───────X───M───</pre>"
            ]
          },
          "metadata": {},
          "execution_count": 34
        }
      ]
    },
    {
      "cell_type": "code",
      "source": [
        "sim = cirq.Simulator()\n",
        "results = sim.run(my_circuit,repetitions = 100)\n",
        "results"
      ],
      "metadata": {
        "colab": {
          "base_uri": "https://localhost:8080/"
        },
        "id": "0hZkQ7EtfsnG",
        "outputId": "e40854a8-fd75-429b-af31-0cd1c63b681a"
      },
      "id": "0hZkQ7EtfsnG",
      "execution_count": null,
      "outputs": [
        {
          "output_type": "execute_result",
          "data": {
            "text/plain": [
              "q0,q1=0110100010000010000101110110010101001011010011101111111000100001101100100101011001000111101111111100, 0110100010000010000101110110010101001011010011101111111000100001101100100101011001000111101111111100"
            ]
          },
          "metadata": {},
          "execution_count": 35
        }
      ]
    },
    {
      "cell_type": "markdown",
      "source": [
        "####**Problem #1.6**\n",
        "**Independently**, use a histogram to display the measurement results from problem #1.5"
      ],
      "metadata": {
        "id": "fmH3MS7Pf5Ri"
      },
      "id": "fmH3MS7Pf5Ri"
    },
    {
      "cell_type": "code",
      "source": [
        "#COMPLETE THIS CODE\n",
        "hist = cirq.plot_state_histogram(, plt.subplot(), title = 'Qubit States', xlabel = 'States', ylabel = 'Occurrences', tick_label=binary_labels(2))\n",
        "\n",
        "plt.show()"
      ],
      "metadata": {
        "id": "fFAGZoCWOF41"
      },
      "id": "fFAGZoCWOF41",
      "execution_count": null,
      "outputs": []
    },
    {
      "cell_type": "markdown",
      "source": [
        "######**Solution**"
      ],
      "metadata": {
        "id": "LHBq2TfQOI-Z"
      },
      "id": "LHBq2TfQOI-Z"
    },
    {
      "cell_type": "code",
      "source": [
        "hist = cirq.plot_state_histogram(results, plt.subplot(), title = 'Qubit States', xlabel = 'States', ylabel = 'Occurrences', tick_label=binary_labels(2))\n",
        "\n",
        "plt.show()"
      ],
      "metadata": {
        "colab": {
          "base_uri": "https://localhost:8080/",
          "height": 460
        },
        "id": "R2aaYaOvgV34",
        "outputId": "0dbe9d21-876f-42dd-a59e-86f788fad51d"
      },
      "id": "R2aaYaOvgV34",
      "execution_count": null,
      "outputs": [
        {
          "output_type": "display_data",
          "data": {
            "text/plain": [
              "<Figure size 640x480 with 1 Axes>"
            ],
            "image/png": "[encoded data removed]"
          },
          "metadata": {}
        }
      ]
    },
    {
      "cell_type": "markdown",
      "source": [
        "####**Problem #1.7**\n",
        "**Together**, create a circuit that produces an anti-correlated, minus-phase Bell state (just as in problem #1.4) and performs a Bell measurement on it. Output the circuit."
      ],
      "metadata": {
        "id": "E6-kVW7rg0c-"
      },
      "id": "E6-kVW7rg0c-"
    },
    {
      "cell_type": "code",
      "source": [
        "my_qubits = cirq.NamedQubit.range(2, prefix = 'q')\n",
        "my_circuit = cirq.Circuit()\n",
        "my_circuit.append(cirq.X(my_qubits[0]))\n",
        "my_circuit.append(cirq.H(my_qubits[0]))\n",
        "my_circuit.append(cirq.X(my_qubits[1]))\n",
        "my_circuit.append(cirq.CNOT(my_qubits[0],my_qubits[1]))\n",
        "\n",
        "# COMPLETE THIS CODE\n"
      ],
      "metadata": {
        "id": "fL5nkYmGOKY-"
      },
      "id": "fL5nkYmGOKY-",
      "execution_count": null,
      "outputs": []
    },
    {
      "cell_type": "code",
      "source": [
        "my_circuit"
      ],
      "metadata": {
        "id": "m2LoCfLE2MJN",
        "colab": {
          "base_uri": "https://localhost:8080/",
          "height": 69
        },
        "outputId": "05e87673-b1b3-4387-8387-32c74117a209"
      },
      "id": "m2LoCfLE2MJN",
      "execution_count": null,
      "outputs": [
        {
          "output_type": "execute_result",
          "data": {
            "text/plain": [
              "q0: ───X───Z───H───@───\n",
              "                   │\n",
              "q1: ───────────────X───"
            ],
            "text/html": [
              "<pre style=\"overflow: auto; white-space: pre;\">q0: ───X───Z───H───@───\n",
              "                   │\n",
              "q1: ───────────────X───</pre>"
            ]
          },
          "metadata": {},
          "execution_count": 15
        }
      ]
    },
    {
      "cell_type": "code",
      "source": [
        "cirq.dirac_notation(cirq.final_state_vector(my_circuit))"
      ],
      "metadata": {
        "colab": {
          "base_uri": "https://localhost:8080/",
          "height": 36
        },
        "id": "Bbc3a9xScMwO",
        "outputId": "7fee450d-9055-4a63-b64d-2b63b3510214"
      },
      "id": "Bbc3a9xScMwO",
      "execution_count": null,
      "outputs": [
        {
          "output_type": "execute_result",
          "data": {
            "text/plain": [
              "'0.71|01⟩ - 0.71|10⟩'"
            ],
            "application/vnd.google.colaboratory.intrinsic+json": {
              "type": "string"
            }
          },
          "metadata": {},
          "execution_count": 20
        }
      ]
    },
    {
      "cell_type": "markdown",
      "source": [
        "######**Solution**"
      ],
      "metadata": {
        "id": "cJRGsfHrONtB"
      },
      "id": "cJRGsfHrONtB"
    },
    {
      "cell_type": "code",
      "source": [
        "my_qubits = cirq.NamedQubit.range(2, prefix = 'q')\n",
        "my_circuit = cirq.Circuit()\n",
        "my_circuit.append(cirq.X(my_qubits[0]))\n",
        "my_circuit.append(cirq.X(my_qubits[1]))\n",
        "my_circuit.append(cirq.H(my_qubits[0]))\n",
        "my_circuit.append(cirq.CNOT(my_qubits[0],my_qubits[1]))\n",
        "my_circuit.append(cirq.CNOT(my_qubits[0],my_qubits[1]))\n",
        "my_circuit.append(cirq.H(my_qubits[0]))\n",
        "my_circuit.append(cirq.measure(my_qubits))"
      ],
      "metadata": {
        "id": "iarb5UW-hAEA"
      },
      "id": "iarb5UW-hAEA",
      "execution_count": null,
      "outputs": []
    },
    {
      "cell_type": "code",
      "source": [
        "my_circuit"
      ],
      "metadata": {
        "colab": {
          "base_uri": "https://localhost:8080/",
          "height": 69
        },
        "id": "nsJrk4s22R-M",
        "outputId": "15880217-a66b-4993-94f5-084d636f0bf8"
      },
      "id": "nsJrk4s22R-M",
      "execution_count": null,
      "outputs": [
        {
          "output_type": "execute_result",
          "data": {
            "text/plain": [
              "q0: ───X───H───@───@───H───M───\n",
              "               │   │       │\n",
              "q1: ───X───────X───X───────M───"
            ],
            "text/html": [
              "<pre style=\"overflow: auto; white-space: pre;\">q0: ───X───H───@───@───H───M───\n",
              "               │   │       │\n",
              "q1: ───X───────X───X───────M───</pre>"
            ]
          },
          "metadata": {},
          "execution_count": 24
        }
      ]
    },
    {
      "cell_type": "markdown",
      "source": [
        "####**Problem #1.8**\n",
        "**Together**, conduct a simulation with 1000 repetitions of the circuit in problem #1.7 Output a histogram desplaying the measurement results of the Bell state. Based only on the measurement results, can you tell exactly which Bell state was measured?"
      ],
      "metadata": {
        "id": "eoPWpuAFhgdD"
      },
      "id": "eoPWpuAFhgdD"
    },
    {
      "cell_type": "code",
      "source": [
        "my_qubits = cirq.NamedQubit.range(2, prefix = 'q')\n",
        "my_circuit = cirq.Circuit()\n",
        "# COMPLETE THIS CODE\n",
        "my_circuit.append(cirq.H(my_qubits[0]))\n",
        "my_circuit.append(cirq.CNOT(my_qubits[0],my_qubits[1]))\n",
        "# COMPLETE THIS CODE\n",
        "my_circuit.append(cirq.H(my_qubits[0]))\n",
        "# COMPLETE THIS CODE\n",
        "my_circuit"
      ],
      "metadata": {
        "id": "vs5PV8zMOO-q"
      },
      "id": "vs5PV8zMOO-q",
      "execution_count": null,
      "outputs": []
    },
    {
      "cell_type": "code",
      "source": [
        "# COMPLETE THIS CODE"
      ],
      "metadata": {
        "id": "_kMSjFSAORNv"
      },
      "id": "_kMSjFSAORNv",
      "execution_count": null,
      "outputs": []
    },
    {
      "cell_type": "code",
      "source": [
        "hist = cirq.plot_state_histogram(, plt.subplot(), title = 'Qubit States', xlabel = 'States', ylabel = 'Occurrences', tick_label=binary_labels(2))\n",
        "\n",
        "plt.show()"
      ],
      "metadata": {
        "id": "PngRALwbOVkl"
      },
      "id": "PngRALwbOVkl",
      "execution_count": null,
      "outputs": []
    },
    {
      "cell_type": "markdown",
      "source": [
        "######**Solution**"
      ],
      "metadata": {
        "id": "ridoLMUqOT3j"
      },
      "id": "ridoLMUqOT3j"
    },
    {
      "cell_type": "code",
      "source": [
        "my_qubits = cirq.NamedQubit.range(2, prefix = 'q')\n",
        "my_circuit = cirq.Circuit()\n",
        "my_circuit.append(cirq.X(my_qubits[0]))\n",
        "my_circuit.append(cirq.X(my_qubits[1]))\n",
        "my_circuit.append(cirq.H(my_qubits[0]))\n",
        "my_circuit.append(cirq.CNOT(my_qubits[0],my_qubits[1]))\n",
        "my_circuit.append(cirq.CNOT(my_qubits[0],my_qubits[1]))\n",
        "my_circuit.append(cirq.H(my_qubits[0]))\n",
        "my_circuit.append(cirq.measure(my_qubits))\n",
        "my_circuit"
      ],
      "metadata": {
        "colab": {
          "base_uri": "https://localhost:8080/",
          "height": 69
        },
        "id": "crnaDlh6iO76",
        "outputId": "95e82453-3c7d-4cef-c35f-8af1045b84f6"
      },
      "id": "crnaDlh6iO76",
      "execution_count": null,
      "outputs": [
        {
          "output_type": "execute_result",
          "data": {
            "text/plain": [
              "q0: ───X───H───@───@───H───M───\n",
              "               │   │       │\n",
              "q1: ───X───────X───X───────M───"
            ],
            "text/html": [
              "<pre style=\"overflow: auto; white-space: pre;\">q0: ───X───H───@───@───H───M───\n",
              "               │   │       │\n",
              "q1: ───X───────X───X───────M───</pre>"
            ]
          },
          "metadata": {},
          "execution_count": 26
        }
      ]
    },
    {
      "cell_type": "code",
      "source": [
        "sim = cirq.Simulator()\n",
        "result = sim.run(my_circuit, repetitions = 1000)"
      ],
      "metadata": {
        "id": "-Ck19rXFBK-g"
      },
      "id": "-Ck19rXFBK-g",
      "execution_count": null,
      "outputs": []
    },
    {
      "cell_type": "code",
      "source": [
        "hist = cirq.plot_state_histogram(result, plt.subplot(), title = 'Qubit States', xlabel = 'States', ylabel = 'Occurrences', tick_label=binary_labels(2))\n",
        "\n",
        "plt.show()"
      ],
      "metadata": {
        "colab": {
          "base_uri": "https://localhost:8080/",
          "height": 460
        },
        "id": "orJxlNmDA8Gq",
        "outputId": "c3c39086-e702-4b22-eb37-317fee796aa3"
      },
      "id": "orJxlNmDA8Gq",
      "execution_count": null,
      "outputs": [
        {
          "output_type": "display_data",
          "data": {
            "text/plain": [
              "<Figure size 640x480 with 1 Axes>"
            ],
            "image/png": "[encoded data removed]"
          },
          "metadata": {}
        }
      ]
    },
    {
      "cell_type": "markdown",
      "source": [
        "####**Problem #1.9**\n",
        "Based on your results, why is it (or not) now be possible to determine the identity of the specific Bell state? Discuss the difference between problem #1.3 and problem #1.8. Print your thoughts below."
      ],
      "metadata": {
        "id": "-WZjMn7WB-iS"
      },
      "id": "-WZjMn7WB-iS"
    },
    {
      "cell_type": "code",
      "source": [
        "print(# COMPLETE THIS CODE"
      ],
      "metadata": {
        "id": "eocGqPyVOlqu"
      },
      "id": "eocGqPyVOlqu",
      "execution_count": null,
      "outputs": []
    },
    {
      "cell_type": "markdown",
      "source": [
        "######**Solution**"
      ],
      "metadata": {
        "id": "tcqyP47sOqrP"
      },
      "id": "tcqyP47sOqrP"
    },
    {
      "cell_type": "code",
      "source": [
        "print(\"Without a Bell measurement, we lose information about the phase the Bell state had, making it possible to only distinguish by correlation type\")\n",
        "print(\"\")\n",
        "print(\"With a Bell measurement, the phase information of the Bell state is perserved, allowing us to tell all 4 Bell states apart by a unique label\")"
      ],
      "metadata": {
        "colab": {
          "base_uri": "https://localhost:8080/"
        },
        "id": "ecQ0XzUiCI3p",
        "outputId": "66418fc4-b332-4951-c465-3effd124a629"
      },
      "id": "ecQ0XzUiCI3p",
      "execution_count": null,
      "outputs": [
        {
          "output_type": "stream",
          "name": "stdout",
          "text": [
            "Without a Bell measurement, we lose information about the phase the Bell state had, making it possible to only distinguish by correlation type\n",
            "\n",
            "With a Bell measurement, the phase information of the Bell state is perserved, allowing us to tell all 4 Bell states apart by a unique label\n"
          ]
        }
      ]
    },
    {
      "cell_type": "markdown",
      "id": "b5exHTC2gHzt",
      "metadata": {
        "id": "b5exHTC2gHzt"
      },
      "source": [
        "<a name=\"p2\"></a>\n",
        "\n",
        "---\n",
        "## **Part 2: Implementing Quantum Teleportation**\n",
        "---\n",
        "\n",
        "In this section, we will work together to implement Quantum Teleportation."
      ]
    },
    {
      "cell_type": "markdown",
      "id": "l5EADlD_ij0W",
      "metadata": {
        "id": "l5EADlD_ij0W"
      },
      "source": [
        "#### **Step 1: Alice and Bob share a Bell pair and go their separate ways.**\n",
        "\n",
        "**Together**, let's create a circuit as follows:\n",
        "* It has one qubit that represents the message to be sent, one for Alice, and one for Bob.\n",
        "* It has one classical bit for each qubit measurement.\n",
        "* Creates a Bell state with Alice's and Bob's qubits.\n"
      ]
    },
    {
      "cell_type": "code",
      "execution_count": null,
      "id": "f-Hijs9uj0LU",
      "metadata": {
        "id": "f-Hijs9uj0LU"
      },
      "outputs": [],
      "source": [
        "# Instantiate the circuit\n",
        "\n",
        "\n",
        "# Define three qubits\n",
        "msg = cirq.NamedQubit(\"Message\")\n",
        "alice =\n",
        "bob =\n",
        "# Entangle Alice and Bob's qubits\n",
        "\n",
        "\n",
        "# You can visualize the circuit if needed\n",
        "print(circuit)\n"
      ]
    },
    {
      "cell_type": "markdown",
      "id": "zZP56Gx-j3Mj",
      "metadata": {
        "id": "zZP56Gx-j3Mj"
      },
      "source": [
        "###### **Solution**"
      ]
    },
    {
      "cell_type": "code",
      "execution_count": null,
      "id": "jr9cM3BKE8Wx",
      "metadata": {
        "colab": {
          "base_uri": "https://localhost:8080/"
        },
        "id": "jr9cM3BKE8Wx",
        "outputId": "1c56716d-fb95-47da-e6cb-1f15be728a7f"
      },
      "outputs": [
        {
          "output_type": "stream",
          "name": "stdout",
          "text": [
            "Alice: ───H───@───\n",
            "              │\n",
            "Bob: ─────────X───\n"
          ]
        }
      ],
      "source": [
        "# Instantiate the circuit\n",
        "circuit = cirq.Circuit()\n",
        "\n",
        "# Define three qubits\n",
        "msg = cirq.NamedQubit(\"Message\")\n",
        "alice = cirq.NamedQubit(\"Alice\")\n",
        "bob = cirq.NamedQubit(\"Bob\")\n",
        "\n",
        "# Entangle Alice and Bob's qubits\n",
        "circuit.append([cirq.H(alice), cirq.CNOT(alice, bob)])\n",
        "\n",
        "# You can visualize the circuit if needed\n",
        "print(circuit)\n"
      ]
    },
    {
      "cell_type": "markdown",
      "id": "oAd1jMzOiuTB",
      "metadata": {
        "id": "oAd1jMzOiuTB"
      },
      "source": [
        "#### **Step 2. Alice prepares a special state to teleport to Bob.**\n",
        "\n",
        "**Together**, prepare the teleportation qubit in the $|1\\rangle$ state."
      ]
    },
    {
      "cell_type": "code",
      "execution_count": null,
      "id": "CWS8BdIakAuK",
      "metadata": {
        "id": "CWS8BdIakAuK"
      },
      "outputs": [],
      "source": [
        "# PREPARE THE |1> STATE\n",
        "\n",
        "\n",
        "# You can visualize the circuit if needed\n",
        "print(circuit)"
      ]
    },
    {
      "cell_type": "markdown",
      "id": "j3wO4QXLkA8h",
      "metadata": {
        "id": "j3wO4QXLkA8h"
      },
      "source": [
        "###### **Solution**"
      ]
    },
    {
      "cell_type": "code",
      "execution_count": null,
      "id": "QqNDTTioixC2",
      "metadata": {
        "colab": {
          "base_uri": "https://localhost:8080/"
        },
        "id": "QqNDTTioixC2",
        "outputId": "04f68606-8d80-4965-9923-c0eec1e4e359"
      },
      "outputs": [
        {
          "output_type": "stream",
          "name": "stdout",
          "text": [
            "Alice: ─────H───@───\n",
            "                │\n",
            "Bob: ───────────X───\n",
            "\n",
            "Message: ───X───────\n"
          ]
        }
      ],
      "source": [
        "# PREPARE THE |1> STATE\n",
        "circuit.append([cirq.X(msg)])\n",
        "\n",
        "# You can visualize the circuit if needed\n",
        "print(circuit)"
      ]
    },
    {
      "cell_type": "markdown",
      "id": "Xc8hoMhOjntY",
      "metadata": {
        "id": "Xc8hoMhOjntY"
      },
      "source": [
        "#### **Step 3. Alice measures her half of the entangled pair and her special state in the “Entangled basis”.**\n",
        "\n",
        "**Together**, add the following to the quantum circuit:\n",
        "* A CX gate applied to the message and Alice's qubits.\n",
        "* An H gate applied to the message qubit.\n",
        "* A measurement of the message and Alice's qubits.\n"
      ]
    },
    {
      "cell_type": "code",
      "execution_count": null,
      "id": "Oq3ru1J2k1Tr",
      "metadata": {
        "id": "Oq3ru1J2k1Tr"
      },
      "outputs": [],
      "source": []
    },
    {
      "cell_type": "markdown",
      "id": "3Fy-59jFk1jx",
      "metadata": {
        "id": "3Fy-59jFk1jx"
      },
      "source": [
        "###### **Solution**"
      ]
    },
    {
      "cell_type": "code",
      "execution_count": null,
      "id": "Uqr_TTmNjsPx",
      "metadata": {
        "colab": {
          "base_uri": "https://localhost:8080/"
        },
        "id": "Uqr_TTmNjsPx",
        "outputId": "4286b584-da4f-477d-dfc3-78dbc31aba91"
      },
      "outputs": [
        {
          "output_type": "stream",
          "name": "stdout",
          "text": [
            "Alice: ─────H───@───X───────M───\n",
            "                │   │       │\n",
            "Bob: ───────────X───┼───────┼───\n",
            "                    │       │\n",
            "Message: ───X───────@───H───M───\n"
          ]
        }
      ],
      "source": [
        "circuit.append([cirq.CNOT(msg, alice), cirq.H(msg), cirq.measure(msg, alice)])\n",
        "# You can visualize the circuit if needed\n",
        "print(circuit)"
      ]
    },
    {
      "cell_type": "markdown",
      "id": "-co5r9qdkATU",
      "metadata": {
        "id": "-co5r9qdkATU"
      },
      "source": [
        "\n",
        "#### **Step 4. Alice sends Bob her measurement results over a classical channel.**\n"
      ]
    },
    {
      "cell_type": "markdown",
      "id": "hWoLuv_1kGPq",
      "metadata": {
        "id": "hWoLuv_1kGPq"
      },
      "source": [
        "#### **Steps 5. Bob adjusts his half of the Bell pair based on Alice’s measurement results.**\n",
        "\n",
        "**Together**, add the following to the quantum circuit:\n",
        "* An X gate applied to Bob's qubit *if* the result of measuring Alice's qubit was 1.\n",
        "* A Z gate applied to Bob's qubit *if* the result of measuring the teleportation qubit was 1.\n",
        "* A measurement of Bob's qubit."
      ]
    },
    {
      "cell_type": "code",
      "execution_count": null,
      "id": "6f65e479",
      "metadata": {
        "id": "6f65e479"
      },
      "outputs": [],
      "source": [
        "# Apply CNOT between Alice and Bob's qubits\n",
        "# Apply CZ between the message qubit and Bob\n",
        "# Measure Bob's qubit"
      ]
    },
    {
      "cell_type": "markdown",
      "id": "fDYRaKXPla_G",
      "metadata": {
        "id": "fDYRaKXPla_G"
      },
      "source": [
        "###### **Solution**"
      ]
    },
    {
      "cell_type": "code",
      "execution_count": null,
      "id": "YpiPitW_kEpg",
      "metadata": {
        "id": "YpiPitW_kEpg",
        "colab": {
          "base_uri": "https://localhost:8080/",
          "height": 104
        },
        "outputId": "41ee4f25-6a3c-49a4-a3be-7dba8f212098"
      },
      "outputs": [
        {
          "output_type": "execute_result",
          "data": {
            "text/plain": [
              "Alice: ─────H───@───X───────M───@───────────@───────────\n",
              "                │   │       │   │           │\n",
              "Bob: ───────────X───┼───────┼───X───@───M───X───@───M───\n",
              "                    │       │       │           │\n",
              "Message: ───X───────@───H───M───────@───────────@───────"
            ],
            "text/html": [
              "<pre style=\"overflow: auto; white-space: pre;\">Alice: ─────H───@───X───────M───@───────────@───────────\n",
              "                │   │       │   │           │\n",
              "Bob: ───────────X───┼───────┼───X───@───M───X───@───M───\n",
              "                    │       │       │           │\n",
              "Message: ───X───────@───H───M───────@───────────@───────</pre>"
            ]
          },
          "metadata": {},
          "execution_count": 50
        }
      ],
      "source": [
        "circuit.append([cirq.CNOT(alice, bob), cirq.CZ(msg, bob), cirq.measure(bob)])\n",
        "circuit"
      ]
    },
    {
      "cell_type": "markdown",
      "id": "98Qz4ym-yOjS",
      "metadata": {
        "id": "98Qz4ym-yOjS"
      },
      "source": [
        "#### **Simulating Quantum Teleportation**\n",
        "\n",
        "**Together**, simulate quantum teleportation:\n",
        "1. Simulate our circuit as usual and plot the histogram of results.\n",
        "2. Estimate only Bob's state, getting rid of Alice's states, from the measurement results.\n",
        "\n",
        "In the histogram, when we observe that the third qubit is in the state \"1,\" it confirms that the \"1\" state has indeed been successfully teleported."
      ]
    },
    {
      "cell_type": "code",
      "execution_count": null,
      "id": "78de7529",
      "metadata": {
        "id": "78de7529"
      },
      "outputs": [],
      "source": [
        "# Helper function for plotting\n",
        " def binary_labels(num_qubits):\n",
        "    return [bin(x)[2:].zfill(num_qubits) for x in range(2 ** num_qubits)]\n"
      ]
    },
    {
      "cell_type": "code",
      "source": [
        "# COMPLETE THIS CODE"
      ],
      "metadata": {
        "id": "EHkS1bNsQhia"
      },
      "id": "EHkS1bNsQhia",
      "execution_count": null,
      "outputs": []
    },
    {
      "cell_type": "code",
      "source": [
        "_ =  cirq.plot_state_histogram(result, plt.subplot(), title = 'Teleportation', xlabel = 'Qubit State', ylabel = 'Result count', tick_label=binary_labels(3))\n",
        "#plt.show()"
      ],
      "metadata": {
        "id": "PaEJ-ZK88ehJ"
      },
      "id": "PaEJ-ZK88ehJ",
      "execution_count": null,
      "outputs": []
    },
    {
      "cell_type": "markdown",
      "source": [
        "######**Solution**"
      ],
      "metadata": {
        "id": "HRgiMI-PDbES"
      },
      "id": "HRgiMI-PDbES"
    },
    {
      "cell_type": "code",
      "execution_count": null,
      "id": "ffb4ab53",
      "metadata": {
        "id": "ffb4ab53",
        "outputId": "059f134f-07e3-44e8-cd3f-902498974742",
        "colab": {
          "base_uri": "https://localhost:8080/"
        }
      },
      "outputs": [
        {
          "output_type": "execute_result",
          "data": {
            "text/plain": [
              "Bob=1111111111111111111111111111111111111111111111111111111111111111111111111111111111111111111111111111\n",
              "Message,Alice=0110001101100100000010111101000100000000011001101000101001011110001010010101010000001011001000110000, 0011001100000000111001000111001000100110000001011000010010010111100001011000100101110110100100010000"
            ]
          },
          "metadata": {},
          "execution_count": 60
        }
      ],
      "source": [
        "\"\"\"Simulate the teleportation circuit and get the final state of Bob's qubit.\"\"\"\n",
        "# Get a simulator.\n",
        "sim = cirq.Simulator()\n",
        "\n",
        "# Simulate the teleportation circuit.\n",
        "result = sim.run(circuit, repetitions=100)\n",
        "\n",
        "result"
      ]
    },
    {
      "cell_type": "code",
      "source": [
        "_ =  cirq.plot_state_histogram(result, plt.subplot(), title = 'Teleportation', xlabel = 'Qubit State', ylabel = 'Result count', tick_label=binary_labels(3))\n",
        "#plt.show()"
      ],
      "metadata": {
        "colab": {
          "base_uri": "https://localhost:8080/",
          "height": 460
        },
        "id": "mSJX1Xwc8wk2",
        "outputId": "46c80770-8f11-4d00-b92d-9a59b073ad8b"
      },
      "id": "mSJX1Xwc8wk2",
      "execution_count": null,
      "outputs": [
        {
          "output_type": "display_data",
          "data": {
            "text/plain": [
              "<Figure size 640x480 with 1 Axes>"
            ],
            "image/png": "[encoded data removed]"
          },
          "metadata": {}
        }
      ]
    },
    {
      "cell_type": "markdown",
      "id": "d94376b4",
      "metadata": {
        "id": "d94376b4"
      },
      "source": [
        "---\n",
        "\n",
        "####**Teleportation in Full**\n",
        "\n",
        "The full Teleportation protocol implementation and simulation is given in the 2 cells below. Complete the exercises based on these 2 cells.\n",
        "\n",
        "---"
      ]
    },
    {
      "cell_type": "code",
      "execution_count": null,
      "id": "ded626f4",
      "metadata": {
        "id": "ded626f4",
        "colab": {
          "base_uri": "https://localhost:8080/"
        },
        "outputId": "7b440174-586a-4ed4-cbf7-0123307a99dc"
      },
      "outputs": [
        {
          "output_type": "stream",
          "name": "stdout",
          "text": [
            "Alice: ─────H───@───X───────M───@───────────\n",
            "                │   │       │   │\n",
            "Bob: ───────────X───┼───────┼───X───@───M───\n",
            "                    │       │       │\n",
            "Message: ───X───────@───H───M───────@───────\n"
          ]
        }
      ],
      "source": [
        "#=========\n",
        "# STEP #1\n",
        "#=========\n",
        "# Instantiate the circuit\n",
        "circuit = cirq.Circuit()\n",
        "\n",
        "# Define three qubits\n",
        "msg = cirq.NamedQubit(\"Message\")\n",
        "alice = cirq.NamedQubit(\"Alice\")\n",
        "bob = cirq.NamedQubit(\"Bob\")\n",
        "\n",
        "# Create an entangled state between Alice and Bob's qubits\n",
        "circuit.append([cirq.H(alice), cirq.CNOT(alice, bob)])\n",
        "\n",
        "\n",
        "#=========\n",
        "# STEP #2\n",
        "#=========\n",
        "# PREPARE THE |1> STATE\n",
        "circuit.append([cirq.X(msg)])\n",
        "\n",
        "\n",
        "#=========\n",
        "# STEP #3\n",
        "#=========\n",
        "circuit.append([cirq.CNOT(msg, alice), cirq.H(msg), cirq.measure(msg, alice)])\n",
        "\n",
        "\n",
        "#=============\n",
        "# STEPS #4 - 5\n",
        "#=============\n",
        "circuit.append([cirq.CNOT(alice, bob), cirq.CZ(msg, bob), cirq.measure(bob)])\n",
        "\n",
        "# You can visualize the circuit if needed\n",
        "print(circuit)"
      ]
    },
    {
      "cell_type": "code",
      "execution_count": null,
      "id": "64e598a3",
      "metadata": {
        "id": "64e598a3",
        "colab": {
          "base_uri": "https://localhost:8080/",
          "height": 460
        },
        "outputId": "7ce81b76-82a1-4e2b-cd69-9be96c36afb4"
      },
      "outputs": [
        {
          "output_type": "display_data",
          "data": {
            "text/plain": [
              "<Figure size 640x480 with 1 Axes>"
            ],
            "image/png": "[encoded data removed]"
          },
          "metadata": {}
        }
      ],
      "source": [
        "\"\"\"Simulate the teleportation circuit and get the final state of Bob's qubit.\"\"\"\n",
        "# Get a simulator.\n",
        "sim = cirq.Simulator()\n",
        "\n",
        "# Simulate the teleportation circuit.\n",
        "result = sim.run(circuit, repetitions=100)\n",
        "\n",
        "_ = cirq.plot_state_histogram(result, plt.subplot(), title = 'Teleportation', xlabel = 'Qubit State', ylabel = 'Result count', tick_label=binary_labels(3))\n",
        "plt.show()\n"
      ]
    },
    {
      "cell_type": "markdown",
      "id": "00-dWsePA2ht",
      "metadata": {
        "id": "00-dWsePA2ht"
      },
      "source": [
        "#### **Problem #2.1 [ADVANCED]**\n",
        "\n",
        "**Independently**, modify the code above to teleport the $|+\\rangle$ state. How do we make sure that the $|+\\rangle$ state has indeed been teleported?\n",
        "\n",
        "Hint: One way of doing this is by **reversing the operations** that we start with for the message qubit. To create the $|+\\rangle$ state, we apply the Hadamard gate. To go from the $|+\\rangle$ state to the $|0\\rangle$ state, what gate can we use?"
      ]
    },
    {
      "cell_type": "code",
      "source": [
        "# COMPLETE THIS CODE"
      ],
      "metadata": {
        "id": "MtX_vNWhSNfN"
      },
      "id": "MtX_vNWhSNfN",
      "execution_count": null,
      "outputs": []
    },
    {
      "cell_type": "code",
      "source": [
        "# COMPLETE THIS CODE"
      ],
      "metadata": {
        "id": "CyYOKLWbSNVO"
      },
      "id": "CyYOKLWbSNVO",
      "execution_count": null,
      "outputs": []
    },
    {
      "cell_type": "markdown",
      "source": [
        "######**Solution**"
      ],
      "metadata": {
        "id": "8It0m_PDQsbq"
      },
      "id": "8It0m_PDQsbq"
    },
    {
      "cell_type": "code",
      "execution_count": null,
      "id": "d0f90584",
      "metadata": {
        "id": "d0f90584",
        "colab": {
          "base_uri": "https://localhost:8080/"
        },
        "outputId": "70ea0061-8049-49f8-c3b9-7df768594dbf"
      },
      "outputs": [
        {
          "output_type": "stream",
          "name": "stdout",
          "text": [
            "Alice: ─────H───@───X───────M───@───────────\n",
            "                │   │       │   │\n",
            "Bob: ───────────X───┼───────┼───X───@───M───\n",
            "                    │       │       │\n",
            "Message: ───H───────@───H───M───────@───────\n"
          ]
        }
      ],
      "source": [
        "#=========\n",
        "# STEP #1\n",
        "#=========\n",
        "# Instantiate the circuit\n",
        "circuit = cirq.Circuit()\n",
        "\n",
        "# Define three qubits\n",
        "msg = cirq.NamedQubit(\"Message\")\n",
        "alice = cirq.NamedQubit(\"Alice\")\n",
        "bob = cirq.NamedQubit(\"Bob\")\n",
        "\n",
        "# Create an entangled state between Alice and Bob's qubits\n",
        "circuit.append([cirq.H(alice), cirq.CNOT(alice, bob)])\n",
        "\n",
        "\n",
        "#=========\n",
        "# STEP #2\n",
        "#=========\n",
        "# PREPARE THE |+> STATE\n",
        "circuit.append([cirq.H(msg)])\n",
        "\n",
        "\n",
        "#=========\n",
        "# STEP #3\n",
        "#=========\n",
        "circuit.append([cirq.CNOT(msg, alice), cirq.H(msg), cirq.measure(msg, alice)])\n",
        "\n",
        "\n",
        "#=============\n",
        "# STEPS #4 - 5\n",
        "#=============\n",
        "circuit.append([cirq.CNOT(alice, bob), cirq.CZ(msg, bob), cirq.measure(bob)])\n",
        "\n",
        "# You can visualize the circuit if needed\n",
        "print(circuit)"
      ]
    },
    {
      "cell_type": "code",
      "source": [
        "\"\"\"Simulate the teleportation circuit and get the final state of Bob's qubit.\"\"\"\n",
        "# Get a simulator.\n",
        "sim = cirq.Simulator()\n",
        "\n",
        "# Simulate the teleportation circuit.\n",
        "result = sim.run(circuit, repetitions=100)\n",
        "\n",
        "_ = cirq.plot_state_histogram(result, plt.subplot(), title = 'Teleportation', xlabel = 'Qubit State', ylabel = 'Result count', tick_label=binary_labels(3))\n",
        "plt.show()"
      ],
      "metadata": {
        "colab": {
          "base_uri": "https://localhost:8080/",
          "height": 460
        },
        "id": "S8-kq7PwREo0",
        "outputId": "d4a433ea-d60d-4138-9b5f-7f08b2a37fa1"
      },
      "id": "S8-kq7PwREo0",
      "execution_count": null,
      "outputs": [
        {
          "output_type": "display_data",
          "data": {
            "text/plain": [
              "<Figure size 640x480 with 1 Axes>"
            ],
            "image/png": "[encoded data removed]"
          },
          "metadata": {}
        }
      ]
    },
    {
      "cell_type": "markdown",
      "id": "33b1424a",
      "metadata": {
        "id": "33b1424a"
      },
      "source": [
        "####**Problem #2.2 [ADVANCED]**\n",
        "\n",
        "**Independently**, modify the code above to teleport the $|-\\rangle$ state. How do we make sure that the $|-\\rangle$ state has indeed been teleported?"
      ]
    },
    {
      "cell_type": "code",
      "source": [
        "# COMPLETE THIS CODE"
      ],
      "metadata": {
        "id": "ZHYvYZ1TSRV8"
      },
      "id": "ZHYvYZ1TSRV8",
      "execution_count": null,
      "outputs": []
    },
    {
      "cell_type": "code",
      "source": [
        "# COMPLETE THIS CODE"
      ],
      "metadata": {
        "id": "sPNCdGVNSSzz"
      },
      "id": "sPNCdGVNSSzz",
      "execution_count": null,
      "outputs": []
    },
    {
      "cell_type": "markdown",
      "source": [
        "######**Solution**"
      ],
      "metadata": {
        "id": "n3k2Q_DUQwZe"
      },
      "id": "n3k2Q_DUQwZe"
    },
    {
      "cell_type": "code",
      "source": [
        "#=========\n",
        "# STEP #1\n",
        "#=========\n",
        "# Instantiate the circuit\n",
        "circuit = cirq.Circuit()\n",
        "\n",
        "# Define three qubits\n",
        "msg = cirq.NamedQubit(\"Message\")\n",
        "alice = cirq.NamedQubit(\"Alice\")\n",
        "bob = cirq.NamedQubit(\"Bob\")\n",
        "\n",
        "# Create an entangled state between Alice and Bob's qubits\n",
        "circuit.append([cirq.H(alice), cirq.CNOT(alice, bob)])\n",
        "\n",
        "\n",
        "#=========\n",
        "# STEP #2\n",
        "#=========\n",
        "# PREPARE THE |-> STATE\n",
        "circuit.append([cirq.H(msg)])\n",
        "circuit.append(cirq.Z(msg))\n",
        "\n",
        "\n",
        "#=========\n",
        "# STEP #3\n",
        "#=========\n",
        "circuit.append([cirq.CNOT(msg, alice), cirq.H(msg), cirq.measure(msg, alice)])\n",
        "\n",
        "\n",
        "#=============\n",
        "# STEPS #4 - 5\n",
        "#=============\n",
        "circuit.append([cirq.CNOT(alice, bob), cirq.CZ(msg, bob), cirq.measure(bob)])\n",
        "\n",
        "# You can visualize the circuit if needed\n",
        "print(circuit)"
      ],
      "metadata": {
        "colab": {
          "base_uri": "https://localhost:8080/"
        },
        "id": "qnGv99wKRfw_",
        "outputId": "db9e197d-7462-4e26-b483-0f5f69bf94a3"
      },
      "id": "qnGv99wKRfw_",
      "execution_count": null,
      "outputs": [
        {
          "output_type": "stream",
          "name": "stdout",
          "text": [
            "Alice: ─────H───@───X───────M───@───────────\n",
            "                │   │       │   │\n",
            "Bob: ───────────X───┼───────┼───X───@───M───\n",
            "                    │       │       │\n",
            "Message: ───H───Z───@───H───M───────@───────\n"
          ]
        }
      ]
    },
    {
      "cell_type": "code",
      "source": [
        "\"\"\"Simulate the teleportation circuit and get the final state of Bob's qubit.\"\"\"\n",
        "# Get a simulator.\n",
        "sim = cirq.Simulator()\n",
        "\n",
        "# Simulate the teleportation circuit.\n",
        "result = sim.run(circuit, repetitions=100)\n",
        "\n",
        "_ = cirq.plot_state_histogram(result, plt.subplot(), title = 'Teleportation', xlabel = 'Qubit State', ylabel = 'Result count', tick_label=binary_labels(3))\n",
        "plt.show()"
      ],
      "metadata": {
        "colab": {
          "base_uri": "https://localhost:8080/",
          "height": 460
        },
        "id": "szC2uFpaRq6z",
        "outputId": "00e38bda-c999-46a4-a8a6-e1f67a146201"
      },
      "id": "szC2uFpaRq6z",
      "execution_count": null,
      "outputs": [
        {
          "output_type": "display_data",
          "data": {
            "text/plain": [
              "<Figure size 640x480 with 1 Axes>"
            ],
            "image/png": "[encoded data removed]"
          },
          "metadata": {}
        }
      ]
    },
    {
      "cell_type": "markdown",
      "id": "kODXtMmfCPym",
      "metadata": {
        "id": "kODXtMmfCPym"
      },
      "source": [
        "#### **Problem #2.3 [ADVANCED]**\n",
        "\n",
        "**Independently**, change the order of Bob's X and Z gates in Step #5 and rerun the protocol. What happens to the results? Does the order of these gates matter?"
      ]
    },
    {
      "cell_type": "code",
      "source": [
        "# COMPLETE THIS CODE"
      ],
      "metadata": {
        "id": "xQ9OG3U7SVAV"
      },
      "id": "xQ9OG3U7SVAV",
      "execution_count": null,
      "outputs": []
    },
    {
      "cell_type": "code",
      "source": [
        "# COMPLETE THIS CODE"
      ],
      "metadata": {
        "id": "C7REt9rGSWNZ"
      },
      "id": "C7REt9rGSWNZ",
      "execution_count": null,
      "outputs": []
    },
    {
      "cell_type": "markdown",
      "source": [
        "######**Solution**"
      ],
      "metadata": {
        "id": "xaj0ERNTQxAE"
      },
      "id": "xaj0ERNTQxAE"
    },
    {
      "cell_type": "code",
      "source": [
        "#=========\n",
        "# STEP #1\n",
        "#=========\n",
        "# Instantiate the circuit\n",
        "circuit = cirq.Circuit()\n",
        "\n",
        "# Define three qubits\n",
        "msg = cirq.NamedQubit(\"Message\")\n",
        "alice = cirq.NamedQubit(\"Alice\")\n",
        "bob = cirq.NamedQubit(\"Bob\")\n",
        "\n",
        "# Create an entangled state between Alice and Bob's qubits\n",
        "circuit.append([cirq.H(alice), cirq.CNOT(alice, bob)])\n",
        "\n",
        "\n",
        "#=========\n",
        "# STEP #2\n",
        "#=========\n",
        "# PREPARE THE |-> STATE\n",
        "circuit.append([cirq.H(msg)])\n",
        "circuit.append(cirq.Z(msg))\n",
        "\n",
        "\n",
        "#=========\n",
        "# STEP #3\n",
        "#=========\n",
        "circuit.append([cirq.CNOT(msg, alice), cirq.H(msg), cirq.measure(msg, alice)])\n",
        "\n",
        "\n",
        "#=============\n",
        "# STEPS #4 - 5\n",
        "#=============\n",
        "circuit.append([cirq.CZ(msg, bob), cirq.CNOT(alice, bob), cirq.measure(bob)])\n",
        "\n",
        "# You can visualize the circuit if needed\n",
        "print(circuit)"
      ],
      "metadata": {
        "colab": {
          "base_uri": "https://localhost:8080/"
        },
        "id": "45yBqBNaRy2D",
        "outputId": "2644b7cc-ecc6-44f0-e47d-2390f8d81690"
      },
      "id": "45yBqBNaRy2D",
      "execution_count": null,
      "outputs": [
        {
          "output_type": "stream",
          "name": "stdout",
          "text": [
            "Alice: ─────H───@───X───────M───────@───────\n",
            "                │   │       │       │\n",
            "Bob: ───────────X───┼───────┼───@───X───M───\n",
            "                    │       │   │\n",
            "Message: ───H───Z───@───H───M───@───────────\n"
          ]
        }
      ]
    },
    {
      "cell_type": "code",
      "source": [
        "\"\"\"Simulate the teleportation circuit and get the final state of Bob's qubit.\"\"\"\n",
        "# Get a simulator.\n",
        "sim = cirq.Simulator()\n",
        "\n",
        "# Simulate the teleportation circuit.\n",
        "result = sim.run(circuit, repetitions=100)\n",
        "\n",
        "_ = cirq.plot_state_histogram(result, plt.subplot(), title = 'Teleportation', xlabel = 'Qubit State', ylabel = 'Result count', tick_label=binary_labels(3))\n",
        "plt.show()"
      ],
      "metadata": {
        "colab": {
          "base_uri": "https://localhost:8080/",
          "height": 460
        },
        "id": "TFnhQpIhSBwX",
        "outputId": "8db4e21d-e7e4-42c2-f12a-6edbd06dbf98"
      },
      "id": "TFnhQpIhSBwX",
      "execution_count": null,
      "outputs": [
        {
          "output_type": "display_data",
          "data": {
            "text/plain": [
              "<Figure size 640x480 with 1 Axes>"
            ],
            "image/png": "[encoded data removed]"
          },
          "metadata": {}
        }
      ]
    },
    {
      "cell_type": "markdown",
      "id": "BF1dNzrLntod",
      "metadata": {
        "id": "BF1dNzrLntod"
      },
      "source": [
        "# End of Lab\n",
        "\n",
        "---\n",
        "\n",
        "© 2024 The Coding School, All rights reserved"
      ]
    }
  ],
  "metadata": {
    "colab": {
      "provenance": [],
      "collapsed_sections": [
        "0b_cr7tpTTS6",
        "GYW7_WCGUUna",
        "iUPnG5oIdteZ",
        "99KKaqpxOD1A",
        "-WZjMn7WB-iS",
        "l5EADlD_ij0W",
        "oAd1jMzOiuTB",
        "Xc8hoMhOjntY",
        "hWoLuv_1kGPq",
        "98Qz4ym-yOjS",
        "00-dWsePA2ht",
        "8It0m_PDQsbq",
        "33b1424a",
        "kODXtMmfCPym"
      ],
      "include_colab_link": true
    },
    "kernelspec": {
      "display_name": "Python 3 (ipykernel)",
      "language": "python",
      "name": "python3"
    },
    "language_info": {
      "codemirror_mode": {
        "name": "ipython",
        "version": 3
      },
      "file_extension": ".py",
      "mimetype": "text/x-python",
      "name": "python",
      "nbconvert_exporter": "python",
      "pygments_lexer": "ipython3",
      "version": "3.10.8"
    }
  },
  "nbformat": 4,
  "nbformat_minor": 5
}