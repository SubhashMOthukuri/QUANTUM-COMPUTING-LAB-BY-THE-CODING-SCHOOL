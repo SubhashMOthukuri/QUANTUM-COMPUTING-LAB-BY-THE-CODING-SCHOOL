{
  "nbformat": 4,
  "nbformat_minor": 0,
  "metadata": {
    "colab": {
      "provenance": [],
      "collapsed_sections": [
        "uoxLVJr_90UA",
        "S1k9Gvhz-b79",
        "ofCYaVDM-xcq",
        "Pf0GxyHR-xcq",
        "FqOCeyhT_ogB",
        "glE_a2Nq_ogD",
        "5-F31zLd_4GW",
        "WDFmUUK3_4GY",
        "gNsyRF1VHrtJ",
        "618U4RgGH1XD",
        "7jxk0nCoILBD",
        "TOhsc2weILBF",
        "HBnUXcCF8Y1J",
        "Xlr2O9CcT94I",
        "ao1-SBISUCxn",
        "_UiBPbGzUCxz",
        "rGV0R-SVUFOL",
        "uSWRyBMgUFON",
        "0rVaw9cBUFUg",
        "CcuTzCexUFUg",
        "8v16IsdnYdh6",
        "QT9y4lMqYdiH",
        "lnEuQ9xKdKt4",
        "oC7GlIq4YdiH",
        "DEIVNaKWYdiH",
        "wmQVspDIYdiI",
        "FAbhgjuzYdiI",
        "czRG4eqZYdiI",
        "A81EUA2LX1-_",
        "yTIGkCy9X1_M",
        "Nnp_PQXvX1_N",
        "kdMUXmAlX1_N",
        "kRtinaAWX1_N",
        "bmGjeCbkX1_O",
        "llLLgDy6X1_O",
        "EHlKkH6rX1_O",
        "7AiX_1NaX1_O",
        "B8CgyW8mb7gi",
        "XP6iikQvb7gv",
        "oHBNTNSdZO9r",
        "m8Gl0bvrZbqv",
        "Q-YVYV9th6C8",
        "aDHGOIw4h8ih",
        "byPBEl41Zdue",
        "KiElIkKOjETK",
        "X0xFAMvbjanr",
        "3Kmof1D0l6Sl",
        "yklSlM3-l6Sx"
      ],
      "toc_visible": true,
      "include_colab_link": true
    },
    "kernelspec": {
      "name": "python3",
      "display_name": "Python 3"
    },
    "language_info": {
      "name": "python"
    }
  },
  "cells": [
    {
      "cell_type": "markdown",
      "metadata": {
        "id": "view-in-github",
        "colab_type": "text"
      },
      "source": [
        "<a href=\"https://colab.research.google.com/github/SubhashMOthukuri/QUANTUM-COMPUTING-LAB-BY-THE-CODING-SCHOOL/blob/main/Week_16_Lab_Notebook_%5BSOLUTIONS%5D.ipynb\" target=\"_parent\"><img src=\"https://colab.research.google.com/assets/colab-badge.svg\" alt=\"Open In Colab\"/></a>"
      ]
    },
    {
      "cell_type": "markdown",
      "source": [
        "# **Lab 16: Noisy Simulations and Benchmarking**\n",
        "---\n",
        "\n",
        "### **Description**\n",
        "In this week's lab, we will see how to run noisy simulations and characterize the effects of noise using the swap test.\n",
        "\n",
        "<br>\n",
        "\n",
        "### **Structure**\n",
        "**Part 1**: [Noisy Simulations](#p1)\n",
        "> **Part 1.1**: [Adding General Noise](#p1.1)\n",
        "\n",
        "> **Part 1.2**: [Appending Noise to a Specific Moment](#p1.2)\n",
        "\n",
        "\n",
        "**Part 2**: [Noise Characterization with the Swap Test](#p2)\n",
        "\n",
        "> **Part 2.1**: [Calculating Fidelity with the Swap Test](#p2.1)\n",
        "\n",
        "> **Part 2.2**: [Characterizing Noise with the Swap Test](#p2.1)\n",
        "\n",
        "\n",
        "<br>\n",
        "\n",
        "### **Learning Objectives**\n",
        "By the end of this lab, we will:\n",
        "* Recognize how to run simulations in cirq with noise throughout a circuit and at specific moments of a circuit.\n",
        "* Recognize how to use the swap test to measure fidelity.\n",
        "* Recognize how to use the swap test to characterize noise in a circuit.\n",
        "\n",
        "<br>\n",
        "\n",
        "### **Resources**\n",
        "* [Noisy Simulations Cheat Sheet\n",
        "](https://docs.google.com/document/d/1Ex2m3dp5-_z8XN8EiBv6PUptHWrTLDpsKYU662oTy4A/edit#heading=h.exb19quwqzr9)\n",
        "\n",
        "* [Cirq Cheat Sheet](https://docs.google.com/document/d/1j0vEwtS6fK-tD1DWAPry4tJdxEiq8fwMtXuYNGRhK_M)\n",
        "\n",
        "\n",
        "<br>\n",
        "\n",
        "**Before starting, run the code below to import all necessary functions and libraries.**\n"
      ],
      "metadata": {
        "id": "mbZXQ3rA3NwL"
      }
    },
    {
      "cell_type": "code",
      "source": [
        "import random\n",
        "import matplotlib.pyplot as plt\n",
        "import numpy as np\n",
        "\n",
        "def binary_labels(num_qubits):\n",
        "    return [bin(x)[2:].zfill(num_qubits) for x in range(2 ** num_qubits)]\n",
        "plt.rcParams.update({'font.size': 8})\n",
        "\n",
        "try:\n",
        "    import cirq\n",
        "except ImportError:\n",
        "    print(\"installing cirq...\")\n",
        "    !pip install cirq --quiet\n",
        "    import cirq\n",
        "    print(\"installed cirq.\")\n",
        "\n",
        "print(\"Libraries Successfully Imported\")"
      ],
      "metadata": {
        "id": "YAvvLhRIoqYp",
        "colab": {
          "base_uri": "https://localhost:8080/"
        },
        "outputId": "8dca9ea7-018b-438b-c429-2068fe01d940"
      },
      "execution_count": null,
      "outputs": [
        {
          "output_type": "stream",
          "name": "stdout",
          "text": [
            "installing cirq...\n",
            "\u001b[2K     \u001b[90m━━━━━━━━━━━━━━━━━━━━━━━━━━━━━━━━━━━━━━━━\u001b[0m \u001b[32m45.6/45.6 kB\u001b[0m \u001b[31m1.9 MB/s\u001b[0m eta \u001b[36m0:00:00\u001b[0m\n",
            "\u001b[?25h  Preparing metadata (setup.py) ... \u001b[?25l\u001b[?25hdone\n",
            "\u001b[2K   \u001b[90m━━━━━━━━━━━━━━━━━━━━━━━━━━━━━━━━━━━━━━━━\u001b[0m \u001b[32m1.9/1.9 MB\u001b[0m \u001b[31m29.9 MB/s\u001b[0m eta \u001b[36m0:00:00\u001b[0m\n",
            "\u001b[2K   \u001b[90m━━━━━━━━━━━━━━━━━━━━━━━━━━━━━━━━━━━━━━━━\u001b[0m \u001b[32m532.7/532.7 kB\u001b[0m \u001b[31m22.5 MB/s\u001b[0m eta \u001b[36m0:00:00\u001b[0m\n",
            "\u001b[2K   \u001b[90m━━━━━━━━━━━━━━━━━━━━━━━━━━━━━━━━━━━━━━━━\u001b[0m \u001b[32m60.5/60.5 kB\u001b[0m \u001b[31m3.6 MB/s\u001b[0m eta \u001b[36m0:00:00\u001b[0m\n",
            "\u001b[2K   \u001b[90m━━━━━━━━━━━━━━━━━━━━━━━━━━━━━━━━━━━━━━━━\u001b[0m \u001b[32m69.3/69.3 kB\u001b[0m \u001b[31m4.2 MB/s\u001b[0m eta \u001b[36m0:00:00\u001b[0m\n",
            "\u001b[2K   \u001b[90m━━━━━━━━━━━━━━━━━━━━━━━━━━━━━━━━━━━━━━━━\u001b[0m \u001b[32m596.5/596.5 kB\u001b[0m \u001b[31m31.3 MB/s\u001b[0m eta \u001b[36m0:00:00\u001b[0m\n",
            "\u001b[2K   \u001b[90m━━━━━━━━━━━━━━━━━━━━━━━━━━━━━━━━━━━━━━━━\u001b[0m \u001b[32m202.9/202.9 kB\u001b[0m \u001b[31m12.0 MB/s\u001b[0m eta \u001b[36m0:00:00\u001b[0m\n",
            "\u001b[2K   \u001b[90m━━━━━━━━━━━━━━━━━━━━━━━━━━━━━━━━━━━━━━━━\u001b[0m \u001b[32m53.0/53.0 kB\u001b[0m \u001b[31m2.3 MB/s\u001b[0m eta \u001b[36m0:00:00\u001b[0m\n",
            "\u001b[2K   \u001b[90m━━━━━━━━━━━━━━━━━━━━━━━━━━━━━━━━━━━━━━━━\u001b[0m \u001b[32m6.3/6.3 MB\u001b[0m \u001b[31m55.7 MB/s\u001b[0m eta \u001b[36m0:00:00\u001b[0m\n",
            "\u001b[2K   \u001b[90m━━━━━━━━━━━━━━━━━━━━━━━━━━━━━━━━━━━━━━━━\u001b[0m \u001b[32m2.2/2.2 MB\u001b[0m \u001b[31m52.2 MB/s\u001b[0m eta \u001b[36m0:00:00\u001b[0m\n",
            "\u001b[2K   \u001b[90m━━━━━━━━━━━━━━━━━━━━━━━━━━━━━━━━━━━━━━━━\u001b[0m \u001b[32m2.9/2.9 MB\u001b[0m \u001b[31m60.3 MB/s\u001b[0m eta \u001b[36m0:00:00\u001b[0m\n",
            "\u001b[2K   \u001b[90m━━━━━━━━━━━━━━━━━━━━━━━━━━━━━━━━━━━━━━━━\u001b[0m \u001b[32m1.7/1.7 MB\u001b[0m \u001b[31m54.4 MB/s\u001b[0m eta \u001b[36m0:00:00\u001b[0m\n",
            "\u001b[2K   \u001b[90m━━━━━━━━━━━━━━━━━━━━━━━━━━━━━━━━━━━━━━━━\u001b[0m \u001b[32m117.7/117.7 kB\u001b[0m \u001b[31m8.3 MB/s\u001b[0m eta \u001b[36m0:00:00\u001b[0m\n",
            "\u001b[2K   \u001b[90m━━━━━━━━━━━━━━━━━━━━━━━━━━━━━━━━━━━━━━━━\u001b[0m \u001b[32m739.1/739.1 kB\u001b[0m \u001b[31m31.1 MB/s\u001b[0m eta \u001b[36m0:00:00\u001b[0m\n",
            "\u001b[?25h  Building wheel for rpcq (setup.py) ... \u001b[?25l\u001b[?25hdone\n",
            "installed cirq.\n"
          ]
        }
      ]
    },
    {
      "cell_type": "markdown",
      "source": [
        "<a name=\"p1\"></a>\n",
        "\n",
        "---\n",
        "## **Part 1: Noisy Simulations**\n",
        "---\n",
        "\n",
        "In this section, we will explore two different ways to perform noisy simulations."
      ],
      "metadata": {
        "id": "idga37M2FsMR"
      }
    },
    {
      "cell_type": "markdown",
      "source": [
        "<a name=\"p1.1\"></a>\n",
        "\n",
        "---\n",
        "\n",
        "### **Part 1.1: Adding General Noise**\n",
        "\n",
        "---\n",
        "\n",
        "In this section, we will see how to simulate noise by adding it generally to the circuit using the `.with_noise(...)` method.\n",
        "\n",
        "<br>\n",
        "\n",
        "**Run the code below to create the circuit we will be using for the first few problems.**"
      ],
      "metadata": {
        "id": "1JpX47FYQLGK"
      }
    },
    {
      "cell_type": "code",
      "source": [
        "# Create qubits and circuit\n",
        "qubits = cirq.NamedQubit.range(2, prefix = 'q')\n",
        "circuit = cirq.Circuit()\n",
        "\n",
        "circuit.append(cirq.H(qubits[0]))\n",
        "circuit.append(cirq.CNOT(qubits[0], qubits[1]))\n",
        "circuit.append(cirq.measure(qubits))"
      ],
      "metadata": {
        "id": "IG6hAg7wRMXK"
      },
      "execution_count": null,
      "outputs": []
    },
    {
      "cell_type": "markdown",
      "source": [
        "#### **Problem #1.1.1**\n",
        "\n",
        "**Together**, let's use simulate this circuit with a 5% chance of depolarizing noise."
      ],
      "metadata": {
        "id": "uoxLVJr_90UA"
      }
    },
    {
      "cell_type": "code",
      "source": [
        "# Define a noise model\n",
        "noise = cirq.depolarize(# COMPLETE THIS CODE\n",
        "\n",
        "# Create a simulator that uses the noise model\n",
        "simulator = cirq.Simulator()\n",
        "\n",
        "# Simulate the circuit\n",
        "result = simulator.run(circuit.with_noise(# COMPLETE THIS CODE\n",
        "\n",
        "# Get the results\n",
        "hist = cirq.plot_state_histogram(result, plt.subplot(), title = '5% Depolarization', xlabel = 'States', ylabel = 'Occurrences', tick_label=binary_labels(2))\n",
        "\n",
        "plt.show()"
      ],
      "metadata": {
        "id": "lpC-pJiL-azh"
      },
      "execution_count": null,
      "outputs": []
    },
    {
      "cell_type": "markdown",
      "source": [
        "##### **Solution**"
      ],
      "metadata": {
        "id": "S1k9Gvhz-b79"
      }
    },
    {
      "cell_type": "code",
      "execution_count": null,
      "metadata": {
        "colab": {
          "base_uri": "https://localhost:8080/",
          "height": 460
        },
        "id": "s4Xm4v5PQxNL",
        "outputId": "8aa4e051-46ff-4677-b64f-3552a0102b7d"
      },
      "outputs": [
        {
          "output_type": "display_data",
          "data": {
            "text/plain": [
              "<Figure size 640x480 with 1 Axes>"
            ],
            "image/png": "[encoded data removed]"
          },
          "metadata": {}
        }
      ],
      "source": [
        "# Define a noise model\n",
        "noise = cirq.depolarize(0.05)\n",
        "\n",
        "# Create a simulator that uses the noise model\n",
        "simulator = cirq.Simulator()\n",
        "\n",
        "# Simulate the circuit\n",
        "result = simulator.run(circuit.with_noise(noise), repetitions=100)\n",
        "\n",
        "# Get the results\n",
        "hist = cirq.plot_state_histogram(result, plt.subplot(), title = '5% Depolarization', xlabel = 'States', ylabel = 'Occurrences', tick_label=binary_labels(2))\n",
        "\n",
        "plt.show()"
      ]
    },
    {
      "cell_type": "markdown",
      "source": [
        "#### **Problem #1.1.2**\n",
        "\n",
        "**Independently**, simulate this circuit with a 25% chance of depolarizing noise."
      ],
      "metadata": {
        "id": "ofCYaVDM-xcq"
      }
    },
    {
      "cell_type": "code",
      "source": [
        "# Define a noise model\n",
        "noise = cirq.depolarize(# COMPLETE THIS CODE\n",
        "\n",
        "# Create a simulator that uses the noise model\n",
        "simulator = cirq.Simulator()\n",
        "\n",
        "# Simulate the circuit\n",
        "result = simulator.run(# COMPLETE THIS CODE\n",
        "\n",
        "# Get the results\n",
        "hist = cirq.plot_state_histogram(result, plt.subplot(), title = '25% Depolarization', xlabel = 'States', ylabel = 'Occurrences', tick_label=binary_labels(2))\n",
        "\n",
        "plt.show()"
      ],
      "metadata": {
        "id": "UfgAgcIX-xcq"
      },
      "execution_count": null,
      "outputs": []
    },
    {
      "cell_type": "markdown",
      "source": [
        "##### **Solution**"
      ],
      "metadata": {
        "id": "Pf0GxyHR-xcq"
      }
    },
    {
      "cell_type": "code",
      "execution_count": null,
      "metadata": {
        "colab": {
          "base_uri": "https://localhost:8080/",
          "height": 460
        },
        "outputId": "e2821176-1093-41b8-a993-87ffee8a5e36",
        "id": "vsXwEMmT-xcq"
      },
      "outputs": [
        {
          "output_type": "display_data",
          "data": {
            "text/plain": [
              "<Figure size 640x480 with 1 Axes>"
            ],
            "image/png": "[encoded data removed]"
          },
          "metadata": {}
        }
      ],
      "source": [
        "# Define a noise model\n",
        "noise = cirq.depolarize(0.25)\n",
        "\n",
        "# Create a simulator that uses the noise model\n",
        "simulator = cirq.Simulator()\n",
        "\n",
        "# Simulate the circuit\n",
        "result = simulator.run(circuit.with_noise(noise), repetitions=100)\n",
        "\n",
        "# Get the results\n",
        "hist = cirq.plot_state_histogram(result, plt.subplot(), title = '25% Depolarization', xlabel = 'States', ylabel = 'Occurrences', tick_label=binary_labels(2))\n",
        "\n",
        "plt.show()"
      ]
    },
    {
      "cell_type": "markdown",
      "source": [
        "#### **Problem #1.1.3**\n",
        "\n",
        "**Independently**, simulate this circuit with a 100% chance of depolarizing noise."
      ],
      "metadata": {
        "id": "FqOCeyhT_ogB"
      }
    },
    {
      "cell_type": "code",
      "source": [
        "# COMPLETE THIS CODE"
      ],
      "metadata": {
        "id": "GfDoYJbn_ogC"
      },
      "execution_count": null,
      "outputs": []
    },
    {
      "cell_type": "markdown",
      "source": [
        "##### **Solution**"
      ],
      "metadata": {
        "id": "glE_a2Nq_ogD"
      }
    },
    {
      "cell_type": "code",
      "execution_count": null,
      "metadata": {
        "colab": {
          "base_uri": "https://localhost:8080/",
          "height": 460
        },
        "outputId": "417d4bb9-4057-475e-f4a3-838594b4f282",
        "id": "dENytN0M_ogD"
      },
      "outputs": [
        {
          "output_type": "display_data",
          "data": {
            "text/plain": [
              "<Figure size 640x480 with 1 Axes>"
            ],
            "image/png": "[encoded data removed]"
          },
          "metadata": {}
        }
      ],
      "source": [
        "# Define a noise model\n",
        "noise = cirq.depolarize(1.0)\n",
        "\n",
        "# Create a simulator that uses the noise model\n",
        "simulator = cirq.Simulator()\n",
        "\n",
        "# Simulate the circuit\n",
        "result = simulator.run(circuit.with_noise(noise), repetitions=100)\n",
        "\n",
        "# Get the results\n",
        "hist = cirq.plot_state_histogram(result, plt.subplot(), title = '100% Depolarization', xlabel = 'States', ylabel = 'Occurrences', tick_label=binary_labels(2))\n",
        "\n",
        "plt.show()"
      ]
    },
    {
      "cell_type": "markdown",
      "source": [
        "<a name=\"p1.2\"></a>\n",
        "\n",
        "---\n",
        "\n",
        "### **Part 1.2: Appending Noise to a Specific Moment**\n",
        "\n",
        "---\n",
        "\n",
        "In this section, we will see how to simulate noise by appending noise to a specific moment in a circuit. This leaves the rest of the circuit are completely noise free. This offers more granular, precise control over the noise, but tends to be less realistic."
      ],
      "metadata": {
        "id": "2D37msH5Qbnr"
      }
    },
    {
      "cell_type": "markdown",
      "source": [
        "#### **Problem #1.2.1**\n",
        "\n",
        "**Together**, let's simulate this circuit with a 100% chance of depolarizing noise on just $q_0$ before applying the H gate."
      ],
      "metadata": {
        "id": "5-F31zLd_4GW"
      }
    },
    {
      "cell_type": "code",
      "source": [
        "# Define a noise model\n",
        "noise = # COMPLETE THIS CODE\n",
        "\n",
        "\n",
        "# Create qubits and circuit\n",
        "qubits = cirq.NamedQubit.range(2, prefix = 'q')\n",
        "circuit = cirq.Circuit()\n",
        "\n",
        "circuit.append(noise.on_each(# COMPLETE THIS CODE\n",
        "circuit.append(cirq.H(qubits[0]))\n",
        "circuit.append(cirq.CNOT(qubits[0], qubits[1]))\n",
        "circuit.append(cirq.measure(qubits))\n",
        "\n",
        "print(circuit)"
      ],
      "metadata": {
        "id": "-H9FpP6A_4GX"
      },
      "execution_count": null,
      "outputs": []
    },
    {
      "cell_type": "code",
      "source": [
        "# Create a simulator that uses the noise model\n",
        "simulator = cirq.Simulator()\n",
        "result = simulator.run(circuit, repetitions=1000)\n",
        "\n",
        "# Get the results\n",
        "hist = cirq.plot_state_histogram(result, plt.subplot(), title = 'Qubit States', xlabel = 'States', ylabel = 'Occurrences', tick_label=binary_labels(2))\n",
        "\n",
        "plt.show()"
      ],
      "metadata": {
        "id": "_3vgdhCdICX2"
      },
      "execution_count": null,
      "outputs": []
    },
    {
      "cell_type": "markdown",
      "source": [
        "##### **Solution**"
      ],
      "metadata": {
        "id": "WDFmUUK3_4GY"
      }
    },
    {
      "cell_type": "code",
      "source": [
        "# Define a noise model\n",
        "noise = cirq.depolarize(1.0)\n",
        "\n",
        "\n",
        "# Create qubits and circuit\n",
        "qubits = cirq.NamedQubit.range(2, prefix = 'q')\n",
        "circuit = cirq.Circuit()\n",
        "\n",
        "circuit.append(noise.on_each(qubits[0]))\n",
        "circuit.append(cirq.H(qubits[0]))\n",
        "circuit.append(cirq.CNOT(qubits[0], qubits[1]))\n",
        "circuit.append(cirq.measure(qubits))\n",
        "\n",
        "print(circuit)"
      ],
      "metadata": {
        "id": "7fKqDLTpIAQk",
        "colab": {
          "base_uri": "https://localhost:8080/"
        },
        "outputId": "b631820b-e638-4273-f701-a29c7f611d08"
      },
      "execution_count": null,
      "outputs": [
        {
          "output_type": "stream",
          "name": "stdout",
          "text": [
            "q0: ───D(1)───H───@───M───\n",
            "                  │   │\n",
            "q1: ──────────────X───M───\n"
          ]
        }
      ]
    },
    {
      "cell_type": "code",
      "source": [
        "# Create a simulator that uses the noise model\n",
        "simulator = cirq.Simulator()\n",
        "result = simulator.run(circuit, repetitions=1000)\n",
        "\n",
        "# Get the results\n",
        "hist = cirq.plot_state_histogram(result, plt.subplot(), title = 'Qubit States', xlabel = 'States', ylabel = 'Occurrences', tick_label=binary_labels(2))\n",
        "\n",
        "plt.show()"
      ],
      "metadata": {
        "colab": {
          "base_uri": "https://localhost:8080/",
          "height": 514
        },
        "id": "DkPYqMHsQ4f2",
        "outputId": "a8b6707f-4a74-46bb-9c35-4270a5b9e3ff"
      },
      "execution_count": null,
      "outputs": [
        {
          "output_type": "stream",
          "name": "stdout",
          "text": [
            "q0: ───D(1)───H───@───M───\n",
            "                  │   │\n",
            "q1: ──────────────X───M───\n"
          ]
        },
        {
          "output_type": "display_data",
          "data": {
            "text/plain": [
              "<Figure size 640x480 with 1 Axes>"
            ],
            "image/png": "[encoded data removed]"
          },
          "metadata": {}
        }
      ]
    },
    {
      "cell_type": "markdown",
      "source": [
        "#### **Problem #1.2.2**\n",
        "\n",
        "**Independently**, simulate this circuit with a 100% chance of depolarizing noise on just $q_0$ after applying the H gate and before applying the CNOT gate."
      ],
      "metadata": {
        "id": "gNsyRF1VHrtJ"
      }
    },
    {
      "cell_type": "code",
      "source": [
        "# COMPLETE THIS CODE"
      ],
      "metadata": {
        "id": "VdVIMvlRH0lG"
      },
      "execution_count": null,
      "outputs": []
    },
    {
      "cell_type": "markdown",
      "source": [
        "##### **Solution**"
      ],
      "metadata": {
        "id": "618U4RgGH1XD"
      }
    },
    {
      "cell_type": "code",
      "source": [
        "# Define a noise model\n",
        "noise = cirq.depolarize(1.0)\n",
        "\n",
        "\n",
        "# Create qubits and circuit\n",
        "qubits = cirq.NamedQubit.range(2, prefix = 'q')\n",
        "circuit = cirq.Circuit()\n",
        "\n",
        "circuit.append(cirq.H(qubits[0]))\n",
        "circuit.append(noise.on_each(qubits[0]))\n",
        "circuit.append(cirq.CNOT(qubits[0], qubits[1]))\n",
        "circuit.append(cirq.measure(qubits))\n",
        "\n",
        "print(circuit)"
      ],
      "metadata": {
        "colab": {
          "base_uri": "https://localhost:8080/"
        },
        "id": "7e6iV6BXIHSl",
        "outputId": "708b89ca-09c1-44ad-f294-5d0d8722b3f6"
      },
      "execution_count": null,
      "outputs": [
        {
          "output_type": "stream",
          "name": "stdout",
          "text": [
            "q0: ───H───D(1)───@───M───\n",
            "                  │   │\n",
            "q1: ──────────────X───M───\n"
          ]
        }
      ]
    },
    {
      "cell_type": "code",
      "source": [
        "# Create a simulator that uses the noise model\n",
        "simulator = cirq.Simulator()\n",
        "result = simulator.run(circuit, repetitions=1000)\n",
        "\n",
        "# Get the results\n",
        "hist = cirq.plot_state_histogram(result, plt.subplot(), title = 'Qubit States', xlabel = 'States', ylabel = 'Occurrences', tick_label=binary_labels(2))\n",
        "\n",
        "plt.show()"
      ],
      "metadata": {
        "colab": {
          "base_uri": "https://localhost:8080/",
          "height": 460
        },
        "outputId": "a4b3f758-7464-4d48-be23-1b0ab092df1c",
        "id": "X5Og7yDbIHSt"
      },
      "execution_count": null,
      "outputs": [
        {
          "output_type": "display_data",
          "data": {
            "text/plain": [
              "<Figure size 640x480 with 1 Axes>"
            ],
            "image/png": "[encoded data removed]"
          },
          "metadata": {}
        }
      ]
    },
    {
      "cell_type": "markdown",
      "source": [
        "#### **Problem #1.2.3**\n",
        "\n",
        "**Independently**, simulate this circuit with a 100% chance of depolarizing noise on just $q_0$ after the CNOT gate, but before the measurement."
      ],
      "metadata": {
        "id": "7jxk0nCoILBD"
      }
    },
    {
      "cell_type": "code",
      "source": [
        "# COMPLETE THIS CODE"
      ],
      "metadata": {
        "id": "cHgymLoSILBF"
      },
      "execution_count": null,
      "outputs": []
    },
    {
      "cell_type": "markdown",
      "source": [
        "##### **Solution**"
      ],
      "metadata": {
        "id": "TOhsc2weILBF"
      }
    },
    {
      "cell_type": "code",
      "source": [
        "# Define a noise model\n",
        "noise = cirq.depolarize(1.0)\n",
        "\n",
        "\n",
        "# Create qubits and circuit\n",
        "qubits = cirq.NamedQubit.range(2, prefix = 'q')\n",
        "circuit = cirq.Circuit()\n",
        "\n",
        "circuit.append(cirq.H(qubits[0]))\n",
        "circuit.append(cirq.CNOT(qubits[0], qubits[1]))\n",
        "circuit.append(noise.on_each(qubits[0]))\n",
        "circuit.append(cirq.measure(qubits))\n",
        "\n",
        "print(circuit)"
      ],
      "metadata": {
        "colab": {
          "base_uri": "https://localhost:8080/"
        },
        "outputId": "8388c697-9f8f-4707-f51d-d1bacd08946a",
        "id": "xVbO8YGyILBF"
      },
      "execution_count": null,
      "outputs": [
        {
          "output_type": "stream",
          "name": "stdout",
          "text": [
            "q0: ───H───@───D(1)───M───\n",
            "           │          │\n",
            "q1: ───────X──────────M───\n"
          ]
        }
      ]
    },
    {
      "cell_type": "code",
      "source": [
        "# Create a simulator that uses the noise model\n",
        "simulator = cirq.Simulator()\n",
        "result = simulator.run(circuit, repetitions=1000)\n",
        "\n",
        "# Get the results\n",
        "hist = cirq.plot_state_histogram(result, plt.subplot(), title = 'Qubit States', xlabel = 'States', ylabel = 'Occurrences', tick_label=binary_labels(2))\n",
        "\n",
        "plt.show()"
      ],
      "metadata": {
        "colab": {
          "base_uri": "https://localhost:8080/",
          "height": 460
        },
        "outputId": "e333adf9-3b49-4db2-86db-238e9329316b",
        "id": "ZjfKzoaxILBF"
      },
      "execution_count": null,
      "outputs": [
        {
          "output_type": "display_data",
          "data": {
            "text/plain": [
              "<Figure size 640x480 with 1 Axes>"
            ],
            "image/png": "[encoded data removed]"
          },
          "metadata": {}
        }
      ]
    },
    {
      "cell_type": "markdown",
      "source": [
        "<a name=\"p2\"></a>\n",
        "\n",
        "---\n",
        "## **Part 2: Noise Characterization with the Swap Test**\n",
        "---\n",
        "\n",
        "In this section, we will see how to perform a swap test to calculate fidelity generally and use it specifically to characterize the noise present in a circuit."
      ],
      "metadata": {
        "id": "-y0p2cPs8Y08"
      }
    },
    {
      "cell_type": "markdown",
      "source": [
        "<a name=\"p2.1\"></a>\n",
        "\n",
        "---\n",
        "\n",
        "### **Part 2.1: Calculating Fidelity with the Swap Test**\n",
        "\n",
        "---"
      ],
      "metadata": {
        "id": "C0dLKb-1SgPv"
      }
    },
    {
      "cell_type": "markdown",
      "source": [
        "#### **Problem #2.1.1**\n",
        "\n",
        "**Together**, let's see how to implement a swap test for two states: $|0\\rangle$ and $|1\\rangle$. We will do this in four steps:\n",
        "\n",
        "1. Prepare 2 qubits in the given states and 1 ancilla qubit in the $|0\\rangle$ state.\n",
        "\n",
        "2. Append the swap test circuit.\n",
        "\n",
        "3. Run the circuit.\n",
        "\n",
        "4. Calculate the fidelity."
      ],
      "metadata": {
        "id": "HBnUXcCF8Y1J"
      }
    },
    {
      "cell_type": "markdown",
      "source": [
        "##### **1. Prepare 2 qubits in the given states and 1 ancilla qubit in the $|0\\rangle$ state.**\n",
        "\n",
        "Specifically,\n",
        "* Put $q_0$ into the $|0\\rangle$ state.\n",
        "* Put $q_1$ into the $|1\\rangle$ state.\n",
        "* Put $\\text{ancilla}$ into the $|0\\rangle$ state."
      ],
      "metadata": {
        "id": "Xlr2O9CcT94I"
      }
    },
    {
      "cell_type": "code",
      "source": [
        "# Create qubits\n",
        "q0 = cirq.NamedQubit('state 0')\n",
        "q1 = cirq.NamedQubit('state 1')\n",
        "ancilla = cirq.NamedQubit('anc')\n",
        "\n",
        "\n",
        "# Prepare the qubit states\n",
        "circuit_0 = cirq.Circuit()\n",
        "circuit_0.append(# COMPLETE THIS CODE\n",
        "\n",
        "circuit_1 = cirq.Circuit()\n",
        "circuit_1.append(# COMPLETE THIS CODE\n",
        "\n",
        "circuit = # COMPLETE THIS CODE"
      ],
      "metadata": {
        "id": "ZKGH0L0KdTjo"
      },
      "execution_count": null,
      "outputs": []
    },
    {
      "cell_type": "markdown",
      "source": [
        "###### **Solution**\n"
      ],
      "metadata": {
        "id": "M5wg4PmodTj2"
      }
    },
    {
      "cell_type": "code",
      "source": [
        "# Create qubits\n",
        "q0 = cirq.NamedQubit('state 0')\n",
        "q1 = cirq.NamedQubit('state 1')\n",
        "ancilla = cirq.NamedQubit('anc')\n",
        "\n",
        "\n",
        "# Prepare the qubit states\n",
        "circuit_0 = cirq.Circuit()\n",
        "circuit_0.append(cirq.I(q0))\n",
        "\n",
        "circuit_1 = cirq.Circuit()\n",
        "circuit_1.append(cirq.X(q1))\n",
        "\n",
        "circuit = circuit_0 + circuit_1"
      ],
      "metadata": {
        "id": "WeFJx1fXdTj2"
      },
      "execution_count": null,
      "outputs": []
    },
    {
      "cell_type": "markdown",
      "source": [
        "##### **2. Append the swap test circuit.**\n",
        "\n",
        "This is always the same circuit with the following steps:\n",
        "\n",
        "1. Apply an H gate on the ancilla.\n",
        "2. Apply a *controlled* swap gate with the ancilla as the control and the two other qubits as the targets.\n",
        "3. Apply an H gate on the ancilla.\n",
        "4. Measure the ancilla qubit."
      ],
      "metadata": {
        "id": "ao1-SBISUCxn"
      }
    },
    {
      "cell_type": "code",
      "source": [
        "# Put ancilla in superposition\n",
        "circuit.append(# COMPLETE THIS CODE\n",
        "\n",
        "# Controlled-Swap controlled by ancilla and targeting q0 and q1\n",
        "circuit.append(cirq.CSWAP(# COMPLETE THIS CODE\n",
        "\n",
        "# Apply an H gate on the ancilla.\n",
        "circuit.append(# COMPLETE THIS CODE\n",
        "\n",
        "# Measure ancilla\n",
        "circuit.append(cirq.measure(ancilla))\n",
        "\n",
        "\n",
        "circuit"
      ],
      "metadata": {
        "id": "v_keCYq0UCxz"
      },
      "execution_count": null,
      "outputs": []
    },
    {
      "cell_type": "markdown",
      "source": [
        "###### **Solution**\n"
      ],
      "metadata": {
        "id": "_UiBPbGzUCxz"
      }
    },
    {
      "cell_type": "code",
      "source": [
        "# Put ancilla in superposition\n",
        "circuit.append(cirq.H(ancilla))\n",
        "\n",
        "# Controlled-Swap controlled by ancilla and targeting q0 and q1\n",
        "circuit.append(cirq.CSWAP(ancilla, q0, q1))\n",
        "\n",
        "# Apply an H gate on the ancilla.\n",
        "circuit.append(cirq.H(ancilla))\n",
        "\n",
        "# Measure ancilla\n",
        "circuit.append(cirq.measure(ancilla))\n",
        "\n",
        "circuit"
      ],
      "metadata": {
        "colab": {
          "base_uri": "https://localhost:8080/",
          "height": 104
        },
        "id": "erMKuPIyWOk-",
        "outputId": "9eb41f25-eea9-4b89-e0cf-5295f3c0dec0"
      },
      "execution_count": null,
      "outputs": [
        {
          "output_type": "execute_result",
          "data": {
            "text/plain": [
              "anc: ───────H───────@───H───M───\n",
              "                    │\n",
              "state 0: ───I───────×───────────\n",
              "                    │\n",
              "state 1: ───────X───×───────────"
            ],
            "text/html": [
              "<pre style=\"overflow: auto; white-space: pre;\">anc: ───────H───────@───H───M───\n",
              "                    │\n",
              "state 0: ───I───────×───────────\n",
              "                    │\n",
              "state 1: ───────X───×───────────</pre>"
            ]
          },
          "metadata": {},
          "execution_count": 14
        }
      ]
    },
    {
      "cell_type": "markdown",
      "source": [
        "##### **3. Run the circuit.**\n",
        "\n",
        "Now, run the circuit 1000 times using a simulator."
      ],
      "metadata": {
        "id": "rGV0R-SVUFOL"
      }
    },
    {
      "cell_type": "code",
      "source": [
        "simulator = cirq.Simulator()\n",
        "result = simulator.run(circuit, repetitions=# COMPLETE THIS CODE\n",
        "result"
      ],
      "metadata": {
        "id": "VpiJiyybUFON"
      },
      "execution_count": null,
      "outputs": []
    },
    {
      "cell_type": "markdown",
      "source": [
        "###### **Solution**\n"
      ],
      "metadata": {
        "id": "uSWRyBMgUFON"
      }
    },
    {
      "cell_type": "code",
      "source": [
        "simulator = cirq.Simulator()\n",
        "result = simulator.run(circuit, repetitions=1000)\n",
        "\n",
        "hist = cirq.plot_state_histogram(result, plt.subplot(), title = 'Swap Test Outcome', xlabel = 'Ancilla State', ylabel = 'Occurrences', tick_label=binary_labels(1))\n",
        "plt.show()"
      ],
      "metadata": {
        "colab": {
          "base_uri": "https://localhost:8080/",
          "height": 460
        },
        "id": "VO9nn7TRUFON",
        "outputId": "658c4d78-1645-4c87-cbdd-2e8979487f92"
      },
      "execution_count": null,
      "outputs": [
        {
          "output_type": "display_data",
          "data": {
            "text/plain": [
              "<Figure size 640x480 with 1 Axes>"
            ],
            "image/png": "[encoded data removed]"
          },
          "metadata": {}
        }
      ]
    },
    {
      "cell_type": "markdown",
      "source": [
        "##### **4. Calculate the fidelity.**\n",
        "\n",
        "Typically, we use the swap test measurements to calculate fidelity by applying the following equation: $\\mathbf{\\text{fidelity} = 1 - 2*\\text{prob}(0)}$."
      ],
      "metadata": {
        "id": "0rVaw9cBUFUg"
      }
    },
    {
      "cell_type": "code",
      "source": [
        "prob_0 = np.sum(result.measurements['anc']) / len(result.measurements['anc'])\n",
        "\n",
        "fidelity = # COMPLETE THIS CODE\n",
        "\n",
        "fidelity"
      ],
      "metadata": {
        "id": "ADQ7zyLCUFUg"
      },
      "execution_count": null,
      "outputs": []
    },
    {
      "cell_type": "markdown",
      "source": [
        "###### **Solution**\n"
      ],
      "metadata": {
        "id": "CcuTzCexUFUg"
      }
    },
    {
      "cell_type": "code",
      "source": [
        "prob_0 = np.sum(result.measurements['anc']) / len(result.measurements['anc'])\n",
        "\n",
        "fidelity = 1 - 2*prob_0\n",
        "\n",
        "fidelity"
      ],
      "metadata": {
        "colab": {
          "base_uri": "https://localhost:8080/"
        },
        "id": "LJEtGZwDUFUh",
        "outputId": "458a8ee3-6703-4c30-d46a-024be563780a"
      },
      "execution_count": null,
      "outputs": [
        {
          "output_type": "execute_result",
          "data": {
            "text/plain": [
              "-0.05600000000000005"
            ]
          },
          "metadata": {},
          "execution_count": 16
        }
      ]
    },
    {
      "cell_type": "markdown",
      "source": [
        "#### **Problem #2.1.2**\n",
        "\n",
        "**Independently**, implement a swap test for two states: $|1\\rangle$ and $|1\\rangle$, following our four steps:\n",
        "\n",
        "1. Prepare 2 qubits in the given states and 1 ancilla qubit in the $|0\\rangle$ state.\n",
        "\n",
        "2. Append the swap test circuit.\n",
        "\n",
        "3. Run the circuit.\n",
        "\n",
        "4. Calculate the fidelity."
      ],
      "metadata": {
        "id": "8v16IsdnYdh6"
      }
    },
    {
      "cell_type": "markdown",
      "source": [
        "##### **1. Prepare 2 qubits in the given states and 1 ancilla qubit in the $|0\\rangle$ state.**\n",
        "\n",
        "Specifically,\n",
        "* Put $q_0$ into the $|1\\rangle$ state.\n",
        "* Put $q_1$ into the $|1\\rangle$ state.\n",
        "* Put $\\text{ancilla}$ into the $|0\\rangle$ state."
      ],
      "metadata": {
        "id": "QT9y4lMqYdiH"
      }
    },
    {
      "cell_type": "code",
      "source": [
        "# Create qubits\n",
        "q0 = cirq.NamedQubit('state 0')\n",
        "q1 = cirq.NamedQubit('state 1')\n",
        "ancilla = cirq.NamedQubit('anc')\n",
        "\n",
        "\n",
        "# Prepare the qubit states\n",
        "circuit_0 = cirq.Circuit()\n",
        "circuit_0.append(# COMPLETE THIS CODE\n",
        "\n",
        "circuit_1 = cirq.Circuit()\n",
        "circuit_1.append(# COMPLETE THIS CODE\n",
        "\n",
        "circuit = # COMPLETE THIS CODE"
      ],
      "metadata": {
        "id": "gh1RplhcdKt3"
      },
      "execution_count": null,
      "outputs": []
    },
    {
      "cell_type": "markdown",
      "source": [
        "###### **Solution**\n"
      ],
      "metadata": {
        "id": "lnEuQ9xKdKt4"
      }
    },
    {
      "cell_type": "code",
      "source": [
        "# Create qubits\n",
        "q0 = cirq.NamedQubit('state 0')\n",
        "q1 = cirq.NamedQubit('state 1')\n",
        "ancilla = cirq.NamedQubit('anc')\n",
        "\n",
        "\n",
        "# Prepare the qubit states\n",
        "circuit_0 = cirq.Circuit()\n",
        "circuit_0.append(cirq.X(q0))\n",
        "\n",
        "circuit_1 = cirq.Circuit()\n",
        "circuit_1.append(cirq.X(q1))\n",
        "\n",
        "circuit = circuit_0 + circuit_1"
      ],
      "metadata": {
        "id": "8T3t_tpndKt4"
      },
      "execution_count": null,
      "outputs": []
    },
    {
      "cell_type": "markdown",
      "source": [
        "##### **2. Append the swap test circuit.**\n",
        "\n",
        "This is always the same circuit with the following steps:\n",
        "\n",
        "1. Put the ancilla qubit into superposition.\n",
        "2. Apply a *controlled* swap gate with the ancilla as the control and the two other qubits as the targets.\n",
        "3. Take the ancilla qubit out of superposition.\n",
        "4. Measure the ancilla qubit."
      ],
      "metadata": {
        "id": "oC7GlIq4YdiH"
      }
    },
    {
      "cell_type": "code",
      "source": [
        "# Put ancilla in superposition\n",
        "circuit.append(# COMPLETE THIS CODE\n",
        "\n",
        "# Controlled-Swap controlled by ancilla and targeting q0 and q1\n",
        "circuit.append(# COMPLETE THIS CODE\n",
        "\n",
        "# Apply an H gate on the ancilla.\n",
        "circuit.append(# COMPLETE THIS CODE\n",
        "\n",
        "# Measure ancilla\n",
        "circuit.append(# COMPLETE THIS CODE\n",
        "\n",
        "\n",
        "circuit"
      ],
      "metadata": {
        "id": "2_X56VSsYdiH"
      },
      "execution_count": null,
      "outputs": []
    },
    {
      "cell_type": "markdown",
      "source": [
        "###### **Solution**\n"
      ],
      "metadata": {
        "id": "DEIVNaKWYdiH"
      }
    },
    {
      "cell_type": "code",
      "source": [
        "# Put ancilla in superposition\n",
        "circuit.append(cirq.H(ancilla))\n",
        "\n",
        "# Controlled-Swap controlled by ancilla and targeting q0 and q1\n",
        "circuit.append(cirq.CSWAP(ancilla, q0, q1))\n",
        "\n",
        "# Apply an H gate on the ancilla.\n",
        "circuit.append(cirq.H(ancilla))\n",
        "\n",
        "# Measure ancilla\n",
        "circuit.append(cirq.measure(ancilla))\n",
        "\n",
        "circuit"
      ],
      "metadata": {
        "colab": {
          "base_uri": "https://localhost:8080/",
          "height": 104
        },
        "outputId": "242d5492-d75d-4540-e1c2-338f8299bebe",
        "id": "dD2H8kroYdiI"
      },
      "execution_count": null,
      "outputs": [
        {
          "output_type": "execute_result",
          "data": {
            "text/plain": [
              "anc: ───────H───────@───H───M───\n",
              "                    │\n",
              "state 0: ───X───────×───────────\n",
              "                    │\n",
              "state 1: ───────X───×───────────"
            ],
            "text/html": [
              "<pre style=\"overflow: auto; white-space: pre;\">anc: ───────H───────@───H───M───\n",
              "                    │\n",
              "state 0: ───X───────×───────────\n",
              "                    │\n",
              "state 1: ───────X───×───────────</pre>"
            ]
          },
          "metadata": {},
          "execution_count": 18
        }
      ]
    },
    {
      "cell_type": "markdown",
      "source": [
        "##### **3. Run the circuit.**\n",
        "\n",
        "Now, run the circuit 1000 times using a simulator."
      ],
      "metadata": {
        "id": "wmQVspDIYdiI"
      }
    },
    {
      "cell_type": "code",
      "source": [
        "simulator = cirq.Simulator()\n",
        "result = simulator.run(circuit, repetitions=# COMPLETE THIS CODE\n",
        "result"
      ],
      "metadata": {
        "id": "YFlE2pyYYdiI"
      },
      "execution_count": null,
      "outputs": []
    },
    {
      "cell_type": "markdown",
      "source": [
        "###### **Solution**\n"
      ],
      "metadata": {
        "id": "SeY-h9M8YdiI"
      }
    },
    {
      "cell_type": "code",
      "source": [
        "simulator = cirq.Simulator()\n",
        "result = simulator.run(circuit, repetitions=1000)\n",
        "\n",
        "hist = cirq.plot_state_histogram(result, plt.subplot(), title = 'Swap Test Outcome', xlabel = 'Ancilla State', ylabel = 'Occurrences', tick_label=binary_labels(1))\n",
        "plt.show()"
      ],
      "metadata": {
        "colab": {
          "base_uri": "https://localhost:8080/",
          "height": 460
        },
        "outputId": "32fc14ee-ea07-47d2-e00e-70f25a7a306c",
        "id": "b61a91H3YdiI"
      },
      "execution_count": null,
      "outputs": [
        {
          "output_type": "display_data",
          "data": {
            "text/plain": [
              "<Figure size 640x480 with 1 Axes>"
            ],
            "image/png": "[encoded data removed]"
          },
          "metadata": {}
        }
      ]
    },
    {
      "cell_type": "markdown",
      "source": [
        "##### **4. Calculate the fidelity.**\n",
        "\n",
        "Typically, we use the swap test measurements to calculate fidelity by applying the following equation: $\\mathbf{\\text{fidelity} = 1 - 2*\\text{prob}(0)}$."
      ],
      "metadata": {
        "id": "FAbhgjuzYdiI"
      }
    },
    {
      "cell_type": "code",
      "source": [
        "prob_0 = np.sum(result.measurements['anc']) / len(result.measurements['anc'])\n",
        "\n",
        "fidelity = # COMPLETE THIS CODE\n",
        "\n",
        "fidelity"
      ],
      "metadata": {
        "id": "4xuI6J_ZYdiI"
      },
      "execution_count": null,
      "outputs": []
    },
    {
      "cell_type": "markdown",
      "source": [
        "###### **Solution**\n"
      ],
      "metadata": {
        "id": "czRG4eqZYdiI"
      }
    },
    {
      "cell_type": "code",
      "source": [
        "prob_0 = np.sum(result.measurements['anc']) / len(result.measurements['anc'])\n",
        "\n",
        "fidelity = 1 - 2*prob_0\n",
        "\n",
        "fidelity"
      ],
      "metadata": {
        "colab": {
          "base_uri": "https://localhost:8080/"
        },
        "outputId": "ffa08281-3a4d-4340-a3bb-70d4c37b8d2d",
        "id": "hfUaxwfIYdiI"
      },
      "execution_count": null,
      "outputs": [
        {
          "output_type": "execute_result",
          "data": {
            "text/plain": [
              "1.0"
            ]
          },
          "metadata": {},
          "execution_count": 20
        }
      ]
    },
    {
      "cell_type": "markdown",
      "source": [
        "#### **Problem #2.1.3**\n",
        "\n",
        "**Independently**, implement a swap test for two states: $|1\\rangle$ and $|+\\rangle$, following our four steps:\n",
        "\n",
        "1. Prepare 2 qubits in the given states and 1 ancilla qubit in the $|0\\rangle$ state.\n",
        "\n",
        "2. Append the swap test circuit.\n",
        "\n",
        "3. Run the circuit.\n",
        "\n",
        "4. Calculate the fidelity."
      ],
      "metadata": {
        "id": "A81EUA2LX1-_"
      }
    },
    {
      "cell_type": "markdown",
      "source": [
        "##### **1. Prepare 2 qubits in the given states and 1 ancilla qubit in the $|0\\rangle$ state.**\n",
        "\n",
        "Specifically,\n",
        "* Put $q_0$ into the $|1\\rangle$ state.\n",
        "* Put $q_1$ into the $|+\\rangle$ state.\n",
        "* Put $\\text{ancilla}$ into the $|0\\rangle$ state."
      ],
      "metadata": {
        "id": "yTIGkCy9X1_M"
      }
    },
    {
      "cell_type": "code",
      "source": [
        "# COMPLETE THIS CODE"
      ],
      "metadata": {
        "id": "Ves74hBzX1_N"
      },
      "execution_count": null,
      "outputs": []
    },
    {
      "cell_type": "markdown",
      "source": [
        "###### **Solution**\n"
      ],
      "metadata": {
        "id": "Nnp_PQXvX1_N"
      }
    },
    {
      "cell_type": "code",
      "source": [
        "# Create qubits\n",
        "q0 = cirq.NamedQubit('state 0')\n",
        "q1 = cirq.NamedQubit('state 1')\n",
        "ancilla = cirq.NamedQubit('anc')\n",
        "\n",
        "\n",
        "# Prepare the qubit states\n",
        "circuit_0 = cirq.Circuit()\n",
        "circuit_0.append(cirq.X(q0))\n",
        "\n",
        "circuit_1 = cirq.Circuit()\n",
        "circuit_1.append(cirq.H(q1))\n",
        "\n",
        "circuit = circuit_0 + circuit_1"
      ],
      "metadata": {
        "id": "fK1DOdMkX1_N"
      },
      "execution_count": null,
      "outputs": []
    },
    {
      "cell_type": "markdown",
      "source": [
        "##### **2. Append the swap test circuit.**\n",
        "\n",
        "This is always the same circuit with the following steps:\n",
        "\n",
        "1. Put the ancilla qubit into superposition.\n",
        "2. Apply a *controlled* swap gate with the ancilla as the control and the two other qubits as the targets.\n",
        "3. Take the ancilla qubit out of superposition.\n",
        "4. Measure the ancilla qubit."
      ],
      "metadata": {
        "id": "kdMUXmAlX1_N"
      }
    },
    {
      "cell_type": "code",
      "source": [
        "# COMPLETE THIS CODE"
      ],
      "metadata": {
        "id": "OrZ6516mX1_N"
      },
      "execution_count": null,
      "outputs": []
    },
    {
      "cell_type": "markdown",
      "source": [
        "###### **Solution**\n"
      ],
      "metadata": {
        "id": "kRtinaAWX1_N"
      }
    },
    {
      "cell_type": "code",
      "source": [
        "# Put ancilla in superposition\n",
        "circuit.append(cirq.H(ancilla))\n",
        "\n",
        "# Controlled-Swap controlled by ancilla and targeting q0 and q1\n",
        "circuit.append(cirq.CSWAP(ancilla, q0, q1))\n",
        "\n",
        "# Apply an H gate on the ancilla.\n",
        "circuit.append(cirq.H(ancilla))\n",
        "\n",
        "# Measure ancilla\n",
        "circuit.append(cirq.measure(ancilla))\n",
        "\n",
        "circuit"
      ],
      "metadata": {
        "colab": {
          "base_uri": "https://localhost:8080/",
          "height": 104
        },
        "outputId": "b26f8099-dfb5-4962-8a32-ec65483ecea2",
        "id": "nPsja7WcX1_N"
      },
      "execution_count": null,
      "outputs": [
        {
          "output_type": "execute_result",
          "data": {
            "text/plain": [
              "anc: ───────H───────@───H───M───\n",
              "                    │\n",
              "state 0: ───X───────×───────────\n",
              "                    │\n",
              "state 1: ───────H───×───────────"
            ],
            "text/html": [
              "<pre style=\"overflow: auto; white-space: pre;\">anc: ───────H───────@───H───M───\n",
              "                    │\n",
              "state 0: ───X───────×───────────\n",
              "                    │\n",
              "state 1: ───────H───×───────────</pre>"
            ]
          },
          "metadata": {},
          "execution_count": 22
        }
      ]
    },
    {
      "cell_type": "markdown",
      "source": [
        "##### **3. Run the circuit.**\n",
        "\n",
        "Now, run the circuit 1000 times using a simulator."
      ],
      "metadata": {
        "id": "bmGjeCbkX1_O"
      }
    },
    {
      "cell_type": "code",
      "source": [
        "simulator = cirq.Simulator()\n",
        "result = simulator.run(circuit, repetitions=# COMPLETE THIS CODE\n",
        "result"
      ],
      "metadata": {
        "id": "cWDiVz1nX1_O"
      },
      "execution_count": null,
      "outputs": []
    },
    {
      "cell_type": "markdown",
      "source": [
        "###### **Solution**\n"
      ],
      "metadata": {
        "id": "llLLgDy6X1_O"
      }
    },
    {
      "cell_type": "code",
      "source": [
        "simulator = cirq.Simulator()\n",
        "result = simulator.run(circuit, repetitions=1000)\n",
        "\n",
        "hist = cirq.plot_state_histogram(result, plt.subplot(), title = 'Swap Test Outcome', xlabel = 'Ancilla State', ylabel = 'Occurrences', tick_label=binary_labels(1))\n",
        "plt.show()"
      ],
      "metadata": {
        "colab": {
          "base_uri": "https://localhost:8080/",
          "height": 460
        },
        "outputId": "cd640699-90c2-47bd-989a-603033ff0dcf",
        "id": "9EP0Ui76X1_O"
      },
      "execution_count": null,
      "outputs": [
        {
          "output_type": "display_data",
          "data": {
            "text/plain": [
              "<Figure size 640x480 with 1 Axes>"
            ],
            "image/png": "[encoded data removed]"
          },
          "metadata": {}
        }
      ]
    },
    {
      "cell_type": "markdown",
      "source": [
        "##### **4. Calculate the fidelity.**\n",
        "\n",
        "Typically, we use the swap test measurements to calculate fidelity by applying the following equation: $\\mathbf{\\text{fidelity} = 1 - 2*\\text{prob}(0)}$."
      ],
      "metadata": {
        "id": "EHlKkH6rX1_O"
      }
    },
    {
      "cell_type": "code",
      "source": [
        "prob_0 = np.sum(result.measurements['anc']) / len(result.measurements['anc'])\n",
        "\n",
        "fidelity = # COMPLETE THIS CODE\n",
        "\n",
        "fidelity"
      ],
      "metadata": {
        "id": "5thaD64cX1_O"
      },
      "execution_count": null,
      "outputs": []
    },
    {
      "cell_type": "markdown",
      "source": [
        "###### **Solution**\n"
      ],
      "metadata": {
        "id": "7AiX_1NaX1_O"
      }
    },
    {
      "cell_type": "code",
      "source": [
        "prob_0 = np.sum(result.measurements['anc']) / len(result.measurements['anc'])\n",
        "\n",
        "fidelity = 1 - 2*prob_0\n",
        "\n",
        "fidelity"
      ],
      "metadata": {
        "colab": {
          "base_uri": "https://localhost:8080/"
        },
        "outputId": "31948c23-c33c-4b49-a65c-d85f7c712e8f",
        "id": "qIsKyzOVX1_O"
      },
      "execution_count": null,
      "outputs": [
        {
          "output_type": "execute_result",
          "data": {
            "text/plain": [
              "0.554"
            ]
          },
          "metadata": {},
          "execution_count": 25
        }
      ]
    },
    {
      "cell_type": "markdown",
      "source": [
        "#### **Problem #2.1.4**\n",
        "\n",
        "**Independently**, combine these steps exactly as you have them from Problem #2.1.3 into one large cell below."
      ],
      "metadata": {
        "id": "B8CgyW8mb7gi"
      }
    },
    {
      "cell_type": "code",
      "source": [
        "# 1. PREPARE QUBITS\n",
        "#===================\n",
        "# COMPLETE THIS CODE\n",
        "\n",
        "\n",
        "# 2. SWAP TEST CIRCUIT\n",
        "#======================\n",
        "# COMPLETE THIS CODE\n",
        "\n",
        "\n",
        "\n",
        "# 3. RUN CIRCUIT\n",
        "#================\n",
        "# COMPLETE THIS CODE\n",
        "\n",
        "\n",
        "\n",
        "# 4. CALCULATE FIDELITY\n",
        "#=======================\n",
        "# COMPLETE THIS CODE\n",
        "\n",
        "\n",
        "fidelity"
      ],
      "metadata": {
        "id": "zdoEP3zMb7gu"
      },
      "execution_count": null,
      "outputs": []
    },
    {
      "cell_type": "markdown",
      "source": [
        "###### **Solution**"
      ],
      "metadata": {
        "id": "XP6iikQvb7gv"
      }
    },
    {
      "cell_type": "code",
      "source": [
        "# 1. PREPARE QUBITS\n",
        "#===================\n",
        "# Create qubits\n",
        "q0 = cirq.NamedQubit('state 0')\n",
        "q1 = cirq.NamedQubit('state 1')\n",
        "ancilla = cirq.NamedQubit('anc')\n",
        "\n",
        "# Prepare the given states\n",
        "circuit_0 = cirq.Circuit()\n",
        "circuit_0.append(cirq.X(q0))\n",
        "\n",
        "circuit_1 = cirq.Circuit()\n",
        "circuit_1.append(cirq.H(q1))\n",
        "\n",
        "\n",
        "circuit = circuit_0 + circuit_1\n",
        "\n",
        "\n",
        "\n",
        "# 2. SWAP TEST CIRCUIT\n",
        "#======================\n",
        "# Put ancilla in superposition\n",
        "circuit.append(cirq.H(ancilla))\n",
        "\n",
        "# Controlled-Swap controlled by ancilla and targeting q0 and q1\n",
        "circuit.append(cirq.CSWAP(ancilla, q0, q1))\n",
        "\n",
        "# Apply an H gate on the ancilla.\n",
        "circuit.append(cirq.H(ancilla))\n",
        "\n",
        "# Measure ancilla\n",
        "circuit.append(cirq.measure(ancilla))\n",
        "\n",
        "\n",
        "\n",
        "# 3. RUN CIRCUIT\n",
        "#================\n",
        "simulator = cirq.Simulator()\n",
        "result = simulator.run(circuit, repetitions=1000)\n",
        "\n",
        "\n",
        "\n",
        "# 4. CALCULATE FIDELITY\n",
        "#=======================\n",
        "prob_0 = np.sum(result.measurements['anc']) / len(result.measurements['anc'])\n",
        "fidelity = 1 - 2*prob_0\n",
        "fidelity"
      ],
      "metadata": {
        "colab": {
          "base_uri": "https://localhost:8080/"
        },
        "id": "vBP1WjHNcSlf",
        "outputId": "22e7add4-55f9-4876-8c96-395fb2d80792"
      },
      "execution_count": null,
      "outputs": [
        {
          "output_type": "execute_result",
          "data": {
            "text/plain": [
              "0.496"
            ]
          },
          "metadata": {},
          "execution_count": 26
        }
      ]
    },
    {
      "cell_type": "markdown",
      "source": [
        "<a name=\"p2.2\"></a>\n",
        "\n",
        "---\n",
        "\n",
        "### **Part 2.2: Characterizing Noise with the Swap Test**\n",
        "\n",
        "---\n",
        "\n",
        "\n",
        "In this section, we will apply what we learned above to characterize the effects of noise using swap tests."
      ],
      "metadata": {
        "id": "8e6e5_3xSrpg"
      }
    },
    {
      "cell_type": "markdown",
      "source": [
        "#### **Problem #2.2.1**\n",
        "\n",
        "**Together**, let's calculate the fidelity of $q_0$ in our typical \"ideal\" $|0\\rangle$ state (meaning there's no noise) and $q_1$ in a $|0\\rangle$ state prepared with a 5% chance of depolarization."
      ],
      "metadata": {
        "id": "oHBNTNSdZO9r"
      }
    },
    {
      "cell_type": "code",
      "source": [
        "# 1. PREPARE QUBITS\n",
        "#===================\n",
        "# Create qubits\n",
        "q0 = cirq.NamedQubit('state 0')\n",
        "q1 = cirq.NamedQubit('state 1')\n",
        "ancilla = cirq.NamedQubit('anc')\n",
        "\n",
        "# Prepare the given states\n",
        "circuit_0 = cirq.Circuit()\n",
        "circuit_0.append(cirq.I(q0))\n",
        "\n",
        "circuit_1 = cirq.Circuit()\n",
        "circuit_1.append(cirq.I(q1))\n",
        "\n",
        "\n",
        "noise = cirq.depolarize(# COMPLETE THIS CODE\n",
        "circuit = circuit_0 + circuit_1.with_noise(# COMPLETE THIS CODE\n",
        "\n",
        "\n",
        "\n",
        "# 2. SWAP TEST CIRCUIT\n",
        "#======================\n",
        "# Put ancilla in superposition\n",
        "circuit.append(cirq.H(ancilla))\n",
        "\n",
        "# Controlled-Swap controlled by ancilla and targeting q0 and q1\n",
        "circuit.append(cirq.CSWAP(ancilla, q0, q1))\n",
        "\n",
        "# Apply an H gate on the ancilla.\n",
        "circuit.append(cirq.H(ancilla))\n",
        "\n",
        "# Measure ancilla\n",
        "circuit.append(cirq.measure(ancilla))\n",
        "\n",
        "\n",
        "\n",
        "# 3. RUN CIRCUIT\n",
        "#================\n",
        "simulator = cirq.Simulator()\n",
        "result = simulator.run(circuit, repetitions=1000)\n",
        "\n",
        "\n",
        "\n",
        "# 4. CALCULATE FIDELITY\n",
        "#=======================\n",
        "prob_0 = np.sum(result.measurements['anc']) / len(result.measurements['anc'])\n",
        "fidelity = 1 - 2*prob_0\n",
        "fidelity"
      ],
      "metadata": {
        "id": "NTPWxxEpZbXd"
      },
      "execution_count": null,
      "outputs": []
    },
    {
      "cell_type": "markdown",
      "source": [
        "###### **Solution**"
      ],
      "metadata": {
        "id": "m8Gl0bvrZbqv"
      }
    },
    {
      "cell_type": "code",
      "source": [
        "# 1. PREPARE QUBITS\n",
        "#===================\n",
        "# Create qubits\n",
        "q0 = cirq.NamedQubit('state 0')\n",
        "q1 = cirq.NamedQubit('state 1')\n",
        "ancilla = cirq.NamedQubit('anc')\n",
        "\n",
        "# Prepare the given states\n",
        "circuit_0 = cirq.Circuit()\n",
        "circuit_0.append(cirq.I(q0))\n",
        "\n",
        "circuit_1 = cirq.Circuit()\n",
        "circuit_1.append(cirq.I(q1))\n",
        "\n",
        "\n",
        "noise = cirq.depolarize(0.05)\n",
        "circuit = circuit_0 + circuit_1.with_noise(noise)\n",
        "\n",
        "\n",
        "\n",
        "# 2. SWAP TEST CIRCUIT\n",
        "#======================\n",
        "# Put ancilla in superposition\n",
        "circuit.append(cirq.H(ancilla))\n",
        "\n",
        "# Controlled-Swap controlled by ancilla and targeting q0 and q1\n",
        "circuit.append(cirq.CSWAP(ancilla, q0, q1))\n",
        "\n",
        "# Apply an H gate on the ancilla.\n",
        "circuit.append(cirq.H(ancilla))\n",
        "\n",
        "# Measure ancilla\n",
        "circuit.append(cirq.measure(ancilla))\n",
        "\n",
        "\n",
        "\n",
        "# 3. RUN CIRCUIT\n",
        "#================\n",
        "simulator = cirq.Simulator()\n",
        "result = simulator.run(circuit, repetitions=1000)\n",
        "\n",
        "\n",
        "\n",
        "# 4. CALCULATE FIDELITY\n",
        "#=======================\n",
        "prob_0 = np.sum(result.measurements['anc']) / len(result.measurements['anc'])\n",
        "fidelity = 1 - 2*prob_0\n",
        "fidelity"
      ],
      "metadata": {
        "colab": {
          "base_uri": "https://localhost:8080/"
        },
        "id": "MNAmAP0OZdG0",
        "outputId": "3a867bf0-bf65-4ca7-bf4c-67e64ef09b1d"
      },
      "execution_count": null,
      "outputs": [
        {
          "output_type": "execute_result",
          "data": {
            "text/plain": [
              "0.97"
            ]
          },
          "metadata": {},
          "execution_count": 27
        }
      ]
    },
    {
      "cell_type": "markdown",
      "source": [
        "#### **Problem #2.2.2**\n",
        "\n",
        "**Together**, let's calculate the fidelity of $q_0$ in our typical \"ideal\" $|0\\rangle$ state (meaning there's no noise) and $q_1$ in a $|0\\rangle$ state prepared with a 50% chance of depolarization."
      ],
      "metadata": {
        "id": "Q-YVYV9th6C8"
      }
    },
    {
      "cell_type": "code",
      "source": [
        "# 1. PREPARE QUBITS\n",
        "#===================\n",
        "# Create qubits\n",
        "q0 = cirq.NamedQubit('state 0')\n",
        "q1 = cirq.NamedQubit('state 1')\n",
        "ancilla = cirq.NamedQubit('anc')\n",
        "\n",
        "# Prepare the given states\n",
        "circuit_0 = cirq.Circuit()\n",
        "circuit_0.append(cirq.I(q0))\n",
        "\n",
        "circuit_1 = cirq.Circuit()\n",
        "circuit_1.append(cirq.I(q1))\n",
        "\n",
        "\n",
        "noise = cirq.depolarize(# COMPLETE THIS CODE\n",
        "circuit = circuit_0 + circuit_1.with_noise(# COMPLETE THIS CODE\n",
        "\n",
        "\n",
        "\n",
        "# 2. SWAP TEST CIRCUIT\n",
        "#======================\n",
        "# Put ancilla in superposition\n",
        "circuit.append(cirq.H(ancilla))\n",
        "\n",
        "# Controlled-Swap controlled by ancilla and targeting q0 and q1\n",
        "circuit.append(cirq.CSWAP(ancilla, q0, q1))\n",
        "\n",
        "# Apply an H gate on the ancilla.\n",
        "circuit.append(cirq.H(ancilla))\n",
        "\n",
        "# Measure ancilla\n",
        "circuit.append(cirq.measure(ancilla))\n",
        "\n",
        "\n",
        "\n",
        "# 3. RUN CIRCUIT\n",
        "#================\n",
        "simulator = cirq.Simulator()\n",
        "result = simulator.run(circuit, repetitions=1000)\n",
        "\n",
        "\n",
        "\n",
        "# 4. CALCULATE FIDELITY\n",
        "#=======================\n",
        "prob_0 = np.sum(result.measurements['anc']) / len(result.measurements['anc'])\n",
        "fidelity = 1 - 2*prob_0\n",
        "fidelity"
      ],
      "metadata": {
        "id": "UVRKysqsh8iT"
      },
      "execution_count": null,
      "outputs": []
    },
    {
      "cell_type": "markdown",
      "source": [
        "###### **Solution**"
      ],
      "metadata": {
        "id": "aDHGOIw4h8ih"
      }
    },
    {
      "cell_type": "code",
      "source": [
        "# 1. PREPARE QUBITS\n",
        "#===================\n",
        "# Create qubits\n",
        "q0 = cirq.NamedQubit('state 0')\n",
        "q1 = cirq.NamedQubit('state 1')\n",
        "ancilla = cirq.NamedQubit('anc')\n",
        "\n",
        "# Prepare the given states\n",
        "circuit_0 = cirq.Circuit()\n",
        "circuit_0.append(cirq.I(q0))\n",
        "\n",
        "circuit_1 = cirq.Circuit()\n",
        "circuit_1.append(cirq.I(q1))\n",
        "\n",
        "\n",
        "noise = cirq.depolarize(0.5)\n",
        "circuit = circuit_0 + circuit_1.with_noise(noise)\n",
        "\n",
        "\n",
        "\n",
        "# 2. SWAP TEST CIRCUIT\n",
        "#======================\n",
        "# Put ancilla in superposition\n",
        "circuit.append(cirq.H(ancilla))\n",
        "\n",
        "# Controlled-Swap controlled by ancilla and targeting q0 and q1\n",
        "circuit.append(cirq.CSWAP(ancilla, q0, q1))\n",
        "\n",
        "# Apply an H gate on the ancilla.\n",
        "circuit.append(cirq.H(ancilla))\n",
        "\n",
        "# Measure ancilla\n",
        "circuit.append(cirq.measure(ancilla))\n",
        "\n",
        "\n",
        "\n",
        "# 3. RUN CIRCUIT\n",
        "#================\n",
        "simulator = cirq.Simulator()\n",
        "result = simulator.run(circuit, repetitions=1000)\n",
        "\n",
        "\n",
        "\n",
        "# 4. CALCULATE FIDELITY\n",
        "#=======================\n",
        "prob_0 = np.sum(result.measurements['anc']) / len(result.measurements['anc'])\n",
        "fidelity = 1 - 2*prob_0\n",
        "fidelity"
      ],
      "metadata": {
        "colab": {
          "base_uri": "https://localhost:8080/"
        },
        "outputId": "63244348-4d86-4673-8620-572e35d5cfda",
        "id": "A8M5Qyzxh8ih"
      },
      "execution_count": null,
      "outputs": [
        {
          "output_type": "execute_result",
          "data": {
            "text/plain": [
              "0.708"
            ]
          },
          "metadata": {},
          "execution_count": 28
        }
      ]
    },
    {
      "cell_type": "markdown",
      "source": [
        "#### **Problem #2.2.3**\n",
        "\n",
        "**Together**, let's use a loop to run the experiments from above for the depolarization probabilities given by running the first below. **NOTE**: The only part we need to complete is specifying the exact noise model used in each iteration."
      ],
      "metadata": {
        "id": "byPBEl41Zdue"
      }
    },
    {
      "cell_type": "code",
      "source": [
        "depol_probabilities = np.linspace(0, 1, 20)\n",
        "depol_probabilities"
      ],
      "metadata": {
        "colab": {
          "base_uri": "https://localhost:8080/"
        },
        "id": "lSO9JLe_iYzJ",
        "outputId": "930011af-13dd-4dfd-bc71-8671183bfd45"
      },
      "execution_count": null,
      "outputs": [
        {
          "output_type": "execute_result",
          "data": {
            "text/plain": [
              "array([0.        , 0.05263158, 0.10526316, 0.15789474, 0.21052632,\n",
              "       0.26315789, 0.31578947, 0.36842105, 0.42105263, 0.47368421,\n",
              "       0.52631579, 0.57894737, 0.63157895, 0.68421053, 0.73684211,\n",
              "       0.78947368, 0.84210526, 0.89473684, 0.94736842, 1.        ])"
            ]
          },
          "metadata": {},
          "execution_count": 29
        }
      ]
    },
    {
      "cell_type": "code",
      "source": [
        "fidelities = []\n",
        "\n",
        "for prob in depol_probabilities:\n",
        "\n",
        "  # 1. PREPARE QUBITS\n",
        "  #===================\n",
        "  # Create qubits\n",
        "  q0 = cirq.NamedQubit('state 0')\n",
        "  q1 = cirq.NamedQubit('state 1')\n",
        "  ancilla = cirq.NamedQubit('anc')\n",
        "\n",
        "  # Prepare the given states\n",
        "  circuit_0 = cirq.Circuit()\n",
        "  circuit_0.append(cirq.I(q0))\n",
        "\n",
        "  circuit_1 = cirq.Circuit()\n",
        "  circuit_1.append(cirq.I(q1))\n",
        "\n",
        "\n",
        "  noise = # COMPLETE THIS CODE\n",
        "  circuit = circuit_0 + circuit_1.with_noise(noise)\n",
        "\n",
        "\n",
        "\n",
        "  # 2. SWAP TEST CIRCUIT\n",
        "  #======================\n",
        "  # Put ancilla in superposition\n",
        "  circuit.append(cirq.H(ancilla))\n",
        "\n",
        "  # Controlled-Swap controlled by ancilla and targeting q0 and q1\n",
        "  circuit.append(cirq.CSWAP(ancilla, q0, q1))\n",
        "\n",
        "  # Apply an H gate on the ancilla.\n",
        "  circuit.append(cirq.H(ancilla))\n",
        "\n",
        "  # Measure ancilla\n",
        "  circuit.append(cirq.measure(ancilla))\n",
        "\n",
        "\n",
        "\n",
        "  # 3. RUN CIRCUIT\n",
        "  #================\n",
        "  simulator = cirq.Simulator()\n",
        "  result = simulator.run(circuit, repetitions=1000)\n",
        "\n",
        "\n",
        "\n",
        "  # 4. CALCULATE FIDELITY\n",
        "  #=======================\n",
        "  prob_0 = np.sum(result.measurements['anc']) / len(result.measurements['anc'])\n",
        "  fidelity = 1 - 2*prob_0\n",
        "\n",
        "  fidelities += [fidelity]\n",
        "\n",
        "\n",
        "\n",
        "fidelities"
      ],
      "metadata": {
        "id": "g6EhDGCsmyPi"
      },
      "execution_count": null,
      "outputs": []
    },
    {
      "cell_type": "markdown",
      "source": [
        "###### **Solution**"
      ],
      "metadata": {
        "id": "KiElIkKOjETK"
      }
    },
    {
      "cell_type": "code",
      "source": [
        "fidelities = []\n",
        "\n",
        "for prob in depol_probabilities:\n",
        "\n",
        "  # 1. PREPARE QUBITS\n",
        "  #===================\n",
        "  # Create qubits\n",
        "  q0 = cirq.NamedQubit('state 0')\n",
        "  q1 = cirq.NamedQubit('state 1')\n",
        "  ancilla = cirq.NamedQubit('anc')\n",
        "\n",
        "  # Prepare the given states\n",
        "  circuit_0 = cirq.Circuit()\n",
        "  circuit_0.append(cirq.I(q0))\n",
        "\n",
        "  circuit_1 = cirq.Circuit()\n",
        "  circuit_1.append(cirq.I(q1))\n",
        "\n",
        "\n",
        "  noise = cirq.depolarize(prob)\n",
        "  circuit = circuit_0 + circuit_1.with_noise(noise)\n",
        "\n",
        "\n",
        "\n",
        "  # 2. SWAP TEST CIRCUIT\n",
        "  #======================\n",
        "  # Put ancilla in superposition\n",
        "  circuit.append(cirq.H(ancilla))\n",
        "\n",
        "  # Controlled-Swap controlled by ancilla and targeting q0 and q1\n",
        "  circuit.append(cirq.CSWAP(ancilla, q0, q1))\n",
        "\n",
        "  # Apply an H gate on the ancilla.\n",
        "  circuit.append(cirq.H(ancilla))\n",
        "\n",
        "  # Measure ancilla\n",
        "  circuit.append(cirq.measure(ancilla))\n",
        "\n",
        "\n",
        "\n",
        "  # 3. RUN CIRCUIT\n",
        "  #================\n",
        "  simulator = cirq.Simulator()\n",
        "  result = simulator.run(circuit, repetitions=1000)\n",
        "\n",
        "\n",
        "\n",
        "  # 4. CALCULATE FIDELITY\n",
        "  #=======================\n",
        "  prob_0 = np.sum(result.measurements['anc']) / len(result.measurements['anc'])\n",
        "  fidelity = 1 - 2*prob_0\n",
        "\n",
        "  fidelities += [fidelity]\n",
        "\n",
        "\n",
        "\n",
        "fidelities"
      ],
      "metadata": {
        "id": "F0jSK78Jj8zw",
        "colab": {
          "base_uri": "https://localhost:8080/"
        },
        "outputId": "c203750e-d03c-4daa-c04c-6e71f0e74869"
      },
      "execution_count": null,
      "outputs": [
        {
          "output_type": "execute_result",
          "data": {
            "text/plain": [
              "[1.0,\n",
              " 0.978,\n",
              " 0.916,\n",
              " 0.902,\n",
              " 0.854,\n",
              " 0.854,\n",
              " 0.802,\n",
              " 0.754,\n",
              " 0.736,\n",
              " 0.6739999999999999,\n",
              " 0.644,\n",
              " 0.6599999999999999,\n",
              " 0.526,\n",
              " 0.538,\n",
              " 0.52,\n",
              " 0.45799999999999996,\n",
              " 0.42200000000000004,\n",
              " 0.388,\n",
              " 0.354,\n",
              " 0.366]"
            ]
          },
          "metadata": {},
          "execution_count": 30
        }
      ]
    },
    {
      "cell_type": "markdown",
      "source": [
        "#### **Problem #2.2.4**\n",
        "\n",
        "**Run the code below** to plot these results and compare them to theoretical predictions for the fidelity of a single qubit state with a given probability of depolarization ($\\mathbf{\\text{fidelity} = 1 - \\frac{\\text{prob}}{2}}$)."
      ],
      "metadata": {
        "id": "X0xFAMvbjanr"
      }
    },
    {
      "cell_type": "code",
      "source": [
        "plt.scatter(depol_probabilities, fidelities, label = 'Simulation')\n",
        "\n",
        "theoretical_fidelities = [1 - p/2 for p in depol_probabilities]\n",
        "plt.scatter(depol_probabilities, theoretical_fidelities, label = 'Theory')\n",
        "\n",
        "plt.xlabel('Depolarization Probability')\n",
        "plt.ylabel('Fidelity')\n",
        "\n",
        "plt.legend()\n",
        "plt.show()"
      ],
      "metadata": {
        "colab": {
          "base_uri": "https://localhost:8080/",
          "height": 441
        },
        "id": "pv1L7483xCP_",
        "outputId": "3b84bc68-9fcc-437f-95e9-51b683191ecc"
      },
      "execution_count": null,
      "outputs": [
        {
          "output_type": "display_data",
          "data": {
            "text/plain": [
              "<Figure size 640x480 with 1 Axes>"
            ],
            "image/png": "[encoded data removed]"
          },
          "metadata": {}
        }
      ]
    },
    {
      "cell_type": "markdown",
      "source": [
        "#### **Problem #2.2.5**\n",
        "\n",
        "**Together**, let's now attempt this experiment in a *more realistic* way: with noise on the whole circuit.\n",
        "\n",
        "<br>\n",
        "\n",
        "**NOTE**: This simulation takes a noticeably longer time, so we have decreased the number of repetitions per simulation from 1000 to 100 making our simulation 10 times faster (but less precise). We are *just* starting to push the limits of how complex we can make our simulations before we need an actual quantum computer!"
      ],
      "metadata": {
        "id": "3Kmof1D0l6Sl"
      }
    },
    {
      "cell_type": "code",
      "source": [
        "noisy_fidelities = []\n",
        "\n",
        "for prob in depol_probabilities:\n",
        "\n",
        "  # 1. PREPARE QUBITS\n",
        "  #===================\n",
        "  # Create qubits\n",
        "  q0 = cirq.NamedQubit('state 0')\n",
        "  q1 = cirq.NamedQubit('state 1')\n",
        "  ancilla = cirq.NamedQubit('anc')\n",
        "\n",
        "  # Prepare the given states\n",
        "  circuit_0 = cirq.Circuit()\n",
        "  circuit_0.append(cirq.I(q0))\n",
        "\n",
        "  circuit_1 = cirq.Circuit()\n",
        "  circuit_1.append(cirq.I(q1))\n",
        "\n",
        "  circuit = circuit_0 + circuit_1\n",
        "\n",
        "\n",
        "  # 2. SWAP TEST CIRCUIT\n",
        "  #======================\n",
        "  # Put ancilla in superposition\n",
        "  circuit.append(cirq.H(ancilla))\n",
        "\n",
        "  # Controlled-Swap controlled by ancilla and targeting q0 and q1\n",
        "  circuit.append(cirq.CSWAP(ancilla, q0, q1))\n",
        "\n",
        "  # Apply an H gate on the ancilla.\n",
        "  circuit.append(cirq.H(ancilla))\n",
        "\n",
        "  # Measure ancilla\n",
        "  circuit.append(cirq.measure(ancilla))\n",
        "\n",
        "\n",
        "\n",
        "  # 3. RUN CIRCUIT\n",
        "  #================\n",
        "  noise = # COMPLETE THIS CODE\n",
        "\n",
        "  simulator = cirq.Simulator()\n",
        "  result = simulator.run(circuit.with_noise(# COMPLETE THIS CODE\n",
        "\n",
        "\n",
        "\n",
        "  # 4. CALCULATE FIDELITY\n",
        "  #=======================\n",
        "  prob_0 = np.sum(result.measurements['anc']) / len(result.measurements['anc'])\n",
        "  fidelity = 1 - 2*prob_0\n",
        "\n",
        "  noisy_fidelities += [fidelity]\n",
        "\n",
        "\n",
        "\n",
        "\n",
        "# PLOT THE RESULTS\n",
        "#==================\n",
        "plt.scatter(depol_probabilities, fidelities, label = 'Simulation')\n",
        "plt.scatter(depol_probabilities, noisy_fidelities, label = 'Full Noise Simulation')\n",
        "\n",
        "theoretical_fidelities = [1 - p/2 for p in depol_probabilities]\n",
        "plt.scatter(depol_probabilities, theoretical_fidelities, label = 'Theory')\n",
        "\n",
        "plt.xlabel('Depolarization Probability')\n",
        "plt.ylabel('Fidelity')\n",
        "\n",
        "plt.legend()\n",
        "plt.show()"
      ],
      "metadata": {
        "id": "id-iZadbl6Sx"
      },
      "execution_count": null,
      "outputs": []
    },
    {
      "cell_type": "markdown",
      "source": [
        "###### **Solution**"
      ],
      "metadata": {
        "id": "yklSlM3-l6Sx"
      }
    },
    {
      "cell_type": "code",
      "source": [
        "noisy_fidelities = []\n",
        "\n",
        "for prob in depol_probabilities:\n",
        "\n",
        "  # 1. PREPARE QUBITS\n",
        "  #===================\n",
        "  # Create qubits\n",
        "  q0 = cirq.NamedQubit('state 0')\n",
        "  q1 = cirq.NamedQubit('state 1')\n",
        "  ancilla = cirq.NamedQubit('anc')\n",
        "\n",
        "  # Prepare the given states\n",
        "  circuit_0 = cirq.Circuit()\n",
        "  circuit_0.append(cirq.I(q0))\n",
        "\n",
        "  circuit_1 = cirq.Circuit()\n",
        "  circuit_1.append(cirq.I(q1))\n",
        "\n",
        "  circuit = circuit_0 + circuit_1\n",
        "\n",
        "\n",
        "  # 2. SWAP TEST CIRCUIT\n",
        "  #======================\n",
        "  # Put ancilla in superposition\n",
        "  circuit.append(cirq.H(ancilla))\n",
        "\n",
        "  # Controlled-Swap controlled by ancilla and targeting q0 and q1\n",
        "  circuit.append(cirq.CSWAP(ancilla, q0, q1))\n",
        "\n",
        "  # Apply an H gate on the ancilla.\n",
        "  circuit.append(cirq.H(ancilla))\n",
        "\n",
        "  # Measure ancilla\n",
        "  circuit.append(cirq.measure(ancilla))\n",
        "\n",
        "\n",
        "\n",
        "  # 3. RUN CIRCUIT\n",
        "  #================\n",
        "  noise = cirq.depolarize(prob)\n",
        "\n",
        "  simulator = cirq.Simulator()\n",
        "  result = simulator.run(circuit.with_noise(noise), repetitions=500)\n",
        "\n",
        "\n",
        "\n",
        "  # 4. CALCULATE FIDELITY\n",
        "  #=======================\n",
        "  prob_0 = np.sum(result.measurements['anc']) / len(result.measurements['anc'])\n",
        "  fidelity = 1 - 2*prob_0\n",
        "\n",
        "  noisy_fidelities += [fidelity]\n",
        "\n",
        "\n",
        "\n",
        "\n",
        "# PLOT THE RESULTS\n",
        "#==================\n",
        "plt.scatter(depol_probabilities, fidelities, label = 'Simulation')\n",
        "plt.scatter(depol_probabilities, noisy_fidelities, label = 'Full Noise Simulation')\n",
        "\n",
        "theoretical_fidelities = [1 - p/2 for p in depol_probabilities]\n",
        "plt.scatter(depol_probabilities, theoretical_fidelities, label = 'Theory')\n",
        "\n",
        "plt.xlabel('Depolarization Probability')\n",
        "plt.ylabel('Fidelity')\n",
        "\n",
        "plt.legend()\n",
        "plt.show()"
      ],
      "metadata": {
        "colab": {
          "base_uri": "https://localhost:8080/",
          "height": 441
        },
        "outputId": "29a5f162-e43e-4281-d9a9-70ae143e834f",
        "id": "IcFKoy8al6Sx"
      },
      "execution_count": null,
      "outputs": [
        {
          "output_type": "display_data",
          "data": {
            "text/plain": [
              "<Figure size 640x480 with 1 Axes>"
            ],
            "image/png": "[encoded data removed]"
          },
          "metadata": {}
        }
      ]
    },
    {
      "cell_type": "markdown",
      "source": [
        "#End of notebook\n",
        "---\n",
        "© 2024 The Coding School, All rights reserved"
      ],
      "metadata": {
        "id": "7dzC09dLlEhm"
      }
    }
  ]
}