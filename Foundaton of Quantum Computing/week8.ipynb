{
  "nbformat": 4,
  "nbformat_minor": 0,
  "metadata": {
    "colab": {
      "provenance": [],
      "collapsed_sections": [
        "tormQKNz6HLQ",
        "FoO6AXgmjP4b",
        "kfEwNvD46b3R",
        "faFUoXC6jbX8",
        "z4lApfzh7MPf",
        "ivXm2mtu6uoQ",
        "K-opUSfj908f",
        "ZMwT-NGZ-TrO",
        "KWBaJeKr-0hG",
        "C33csuiy_Emb",
        "MVO7uY7t_uad",
        "3aiugiFTAfSz",
        "m1R6_DnvC7XS",
        "4R6Ppc_NFANP",
        "pkDKzAxB6YK2",
        "W5-7Z0jlFnSu",
        "kLs1ZDokGLK4",
        "7kgP2kvBIA0b",
        "9p8a-boRO908",
        "ZW9OPORQQEO-",
        "eFXq-w3nQ29m",
        "mRudgr2ARU5Y",
        "jHfBeLFeTbFa",
        "IbKXRhxCQWYh",
        "d0uMlbxrQnom",
        "7xUl_yi0RJB9",
        "h4NW3cZ9SOKB",
        "zuNyXFv6Scuh",
        "YO5m13jQTCb_",
        "iGOWNhGmTN7l",
        "slcvbXS2U2Gp",
        "uAAcWgppT575",
        "nRYyCZDmU4X_"
      ],
      "include_colab_link": true
    },
    "kernelspec": {
      "name": "python3",
      "display_name": "Python 3"
    },
    "language_info": {
      "name": "python"
    }
  },
  "cells": [
    {
      "cell_type": "markdown",
      "metadata": {
        "id": "view-in-github",
        "colab_type": "text"
      },
      "source": [
        "<a href=\"https://colab.research.google.com/github/SubhashMOthukuri/QUANTUM-COMPUTING-LAB-BY-THE-CODING-SCHOOL/blob/main/week8.ipynb\" target=\"_parent\"><img src=\"https://colab.research.google.com/assets/colab-badge.svg\" alt=\"Open In Colab\"/></a>"
      ]
    },
    {
      "cell_type": "markdown",
      "source": [
        "# **Lab 8: Multi-Qubit Circuits and Entanglement**\n",
        "---\n",
        "\n",
        "### **Description**\n",
        "In today's lab, you will learn how to create and work with multi-qubit circuits. We will begin by reviewing how to build quantum circuits and apply quantum gates to those circuit. Next, we will begin creating and working with multi-qubit circuits. Then, we will use those circuits to create entanglement between qubits. Finally, we will represent the final states of qubits using histograms.\n",
        "\n",
        "<br>\n",
        "\n",
        "### **Lab Structure**\n",
        "**Part 1**: [Creating Multi-Qubit Circuits](#p1)\n",
        "\n",
        "**Part 2**: [Creating Entanglement with CNOT](#p2)\n",
        "\n",
        "**Part 3**: [Working with Histograms](#p3)\n",
        "\n",
        "**Part 4**: [Additional Practice [OPTIONAL]](#p4)\n",
        "\n",
        "<br>\n",
        "\n",
        "\n",
        "### **Learning Objectives**\n",
        "By the end of this lab, we will:\n",
        "1. Recognize how to implement multi-qubit circuits, including the CNOT gate, in Cirq.\n",
        "2. Recognize how to simulate and interpret measurement results in Cirq.\n",
        "\n",
        "<br>\n",
        "\n",
        "###**Resources**\n",
        "* [Cirq Basics Cheat Sheet](https://docs.google.com/document/d/1j0vEwtS6fK-tD1DWAPry4tJdxEiq8fwMtXuYNGRhK_M/edit?usp=drive_link)\n",
        "\n",
        "<br>\n",
        "\n",
        "\n",
        "**Before starting, run the code below to import all necessary functions and libraries.**\n"
      ],
      "metadata": {
        "id": "_YmOYBzITIna"
      }
    },
    {
      "cell_type": "code",
      "source": [
        "# @title\n",
        "!pip install cirq --quiet\n",
        "import cirq\n",
        "import cirq_web\n",
        "import numpy as np\n",
        "import cirq_web.bloch_sphere as bloch_sphere\n",
        "import matplotlib.pyplot as plt\n",
        "def binary_labels(num_qubits):\n",
        "    return [bin(x)[2:].zfill(num_qubits) for x in range(2 ** num_qubits)]\n",
        "print(\"Libraries imported successfully!\")"
      ],
      "metadata": {
        "colab": {
          "base_uri": "https://localhost:8080/"
        },
        "id": "hDb4kAe2rQUu",
        "outputId": "a1c7c36c-9b23-413b-b84f-7e9b42531316",
        "cellView": "form"
      },
      "execution_count": null,
      "outputs": [
        {
          "output_type": "stream",
          "name": "stdout",
          "text": [
            "\u001b[?25l     \u001b[90m━━━━━━━━━━━━━━━━━━━━━━━━━━━━━━━━━━━━━━━━\u001b[0m \u001b[32m0.0/45.6 kB\u001b[0m \u001b[31m?\u001b[0m eta \u001b[36m-:--:--\u001b[0m\r\u001b[2K     \u001b[90m━━━━━━━━━━━━━━━━━━━━━━━━━━━━━━━━━━━━━━━━\u001b[0m \u001b[32m45.6/45.6 kB\u001b[0m \u001b[31m2.0 MB/s\u001b[0m eta \u001b[36m0:00:00\u001b[0m\n",
            "\u001b[?25h  Preparing metadata (setup.py) ... \u001b[?25l\u001b[?25hdone\n",
            "\u001b[2K   \u001b[90m━━━━━━━━━━━━━━━━━━━━━━━━━━━━━━━━━━━━━━━━\u001b[0m \u001b[32m1.9/1.9 MB\u001b[0m \u001b[31m23.9 MB/s\u001b[0m eta \u001b[36m0:00:00\u001b[0m\n",
            "\u001b[2K   \u001b[90m━━━━━━━━━━━━━━━━━━━━━━━━━━━━━━━━━━━━━━━━\u001b[0m \u001b[32m532.7/532.7 kB\u001b[0m \u001b[31m14.0 MB/s\u001b[0m eta \u001b[36m0:00:00\u001b[0m\n",
            "\u001b[2K   \u001b[90m━━━━━━━━━━━━━━━━━━━━━━━━━━━━━━━━━━━━━━━━\u001b[0m \u001b[32m60.5/60.5 kB\u001b[0m \u001b[31m2.8 MB/s\u001b[0m eta \u001b[36m0:00:00\u001b[0m\n",
            "\u001b[2K   \u001b[90m━━━━━━━━━━━━━━━━━━━━━━━━━━━━━━━━━━━━━━━━\u001b[0m \u001b[32m69.3/69.3 kB\u001b[0m \u001b[31m3.4 MB/s\u001b[0m eta \u001b[36m0:00:00\u001b[0m\n",
            "\u001b[2K   \u001b[90m━━━━━━━━━━━━━━━━━━━━━━━━━━━━━━━━━━━━━━━━\u001b[0m \u001b[32m596.5/596.5 kB\u001b[0m \u001b[31m26.6 MB/s\u001b[0m eta \u001b[36m0:00:00\u001b[0m\n",
            "\u001b[2K   \u001b[90m━━━━━━━━━━━━━━━━━━━━━━━━━━━━━━━━━━━━━━━━\u001b[0m \u001b[32m202.8/202.8 kB\u001b[0m \u001b[31m12.0 MB/s\u001b[0m eta \u001b[36m0:00:00\u001b[0m\n",
            "\u001b[2K   \u001b[90m━━━━━━━━━━━━━━━━━━━━━━━━━━━━━━━━━━━━━━━━\u001b[0m \u001b[32m53.0/53.0 kB\u001b[0m \u001b[31m3.7 MB/s\u001b[0m eta \u001b[36m0:00:00\u001b[0m\n",
            "\u001b[2K   \u001b[90m━━━━━━━━━━━━━━━━━━━━━━━━━━━━━━━━━━━━━━━━\u001b[0m \u001b[32m7.0/7.0 MB\u001b[0m \u001b[31m70.1 MB/s\u001b[0m eta \u001b[36m0:00:00\u001b[0m\n",
            "\u001b[2K   \u001b[90m━━━━━━━━━━━━━━━━━━━━━━━━━━━━━━━━━━━━━━━━\u001b[0m \u001b[32m2.0/2.0 MB\u001b[0m \u001b[31m43.7 MB/s\u001b[0m eta \u001b[36m0:00:00\u001b[0m\n",
            "\u001b[2K   \u001b[90m━━━━━━━━━━━━━━━━━━━━━━━━━━━━━━━━━━━━━━━━\u001b[0m \u001b[32m2.9/2.9 MB\u001b[0m \u001b[31m49.1 MB/s\u001b[0m eta \u001b[36m0:00:00\u001b[0m\n",
            "\u001b[2K   \u001b[90m━━━━━━━━━━━━━━━━━━━━━━━━━━━━━━━━━━━━━━━━\u001b[0m \u001b[32m1.7/1.7 MB\u001b[0m \u001b[31m50.1 MB/s\u001b[0m eta \u001b[36m0:00:00\u001b[0m\n",
            "\u001b[2K   \u001b[90m━━━━━━━━━━━━━━━━━━━━━━━━━━━━━━━━━━━━━━━━\u001b[0m \u001b[32m117.8/117.8 kB\u001b[0m \u001b[31m7.1 MB/s\u001b[0m eta \u001b[36m0:00:00\u001b[0m\n",
            "\u001b[2K   \u001b[90m━━━━━━━━━━━━━━━━━━━━━━━━━━━━━━━━━━━━━━━━\u001b[0m \u001b[32m76.4/76.4 kB\u001b[0m \u001b[31m4.5 MB/s\u001b[0m eta \u001b[36m0:00:00\u001b[0m\n",
            "\u001b[2K   \u001b[90m━━━━━━━━━━━━━━━━━━━━━━━━━━━━━━━━━━━━━━━━\u001b[0m \u001b[32m77.9/77.9 kB\u001b[0m \u001b[31m5.1 MB/s\u001b[0m eta \u001b[36m0:00:00\u001b[0m\n",
            "\u001b[2K   \u001b[90m━━━━━━━━━━━━━━━━━━━━━━━━━━━━━━━━━━━━━━━━\u001b[0m \u001b[32m526.7/526.7 kB\u001b[0m \u001b[31m28.3 MB/s\u001b[0m eta \u001b[36m0:00:00\u001b[0m\n",
            "\u001b[2K   \u001b[90m━━━━━━━━━━━━━━━━━━━━━━━━━━━━━━━━━━━━━━━━\u001b[0m \u001b[32m58.3/58.3 kB\u001b[0m \u001b[31m3.5 MB/s\u001b[0m eta \u001b[36m0:00:00\u001b[0m\n",
            "\u001b[?25h  Building wheel for rpcq (setup.py) ... \u001b[?25l\u001b[?25hdone\n",
            "Libraries imported successfully!\n"
          ]
        }
      ]
    },
    {
      "cell_type": "markdown",
      "source": [
        "<a name=\"p1\"></a>\n",
        "\n",
        "---\n",
        "## **Part 1: Creating Multi-Qubit Circuits**\n",
        "---"
      ],
      "metadata": {
        "id": "8GlGEK2BbRbx"
      }
    },
    {
      "cell_type": "markdown",
      "source": [
        "### **Problem #1.1**\n",
        "\n",
        "**Together,** create 3 qubits using the `range()` method. Output your qubits."
      ],
      "metadata": {
        "id": "tormQKNz6HLQ"
      }
    },
    {
      "cell_type": "code",
      "source": [
        "my_qubits = # COMPLETE THIS CODE"
      ],
      "metadata": {
        "id": "Ws-kMrtAjQmw"
      },
      "execution_count": null,
      "outputs": []
    },
    {
      "cell_type": "markdown",
      "source": [
        "#####**Solution**"
      ],
      "metadata": {
        "id": "FoO6AXgmjP4b"
      }
    },
    {
      "cell_type": "code",
      "source": [
        "my_qubits = cirq.NamedQubit.range( 3, prefix = \"q\")\n",
        "my_qubits"
      ],
      "metadata": {
        "colab": {
          "base_uri": "https://localhost:8080/"
        },
        "id": "-e1dy72I6TkL",
        "outputId": "04bf62b1-bab1-4d7b-ffb8-d5e183a2f5b0"
      },
      "execution_count": null,
      "outputs": [
        {
          "output_type": "execute_result",
          "data": {
            "text/plain": [
              "[cirq.NamedQubit('q0'), cirq.NamedQubit('q1'), cirq.NamedQubit('q2')]"
            ]
          },
          "metadata": {},
          "execution_count": 10
        }
      ]
    },
    {
      "cell_type": "markdown",
      "source": [
        "###**Problem #1.2**\n",
        "**Together**, add a fourth qubit to the list below. Output your new list."
      ],
      "metadata": {
        "id": "kfEwNvD46b3R"
      }
    },
    {
      "cell_type": "code",
      "source": [
        "my_qubits = cirq.NamedQubit.range( 3, prefix = \"q\")\n",
        "# COMPLETE THIS CODE"
      ],
      "metadata": {
        "id": "2jpRpwQ5jcIF"
      },
      "execution_count": null,
      "outputs": []
    },
    {
      "cell_type": "markdown",
      "source": [
        "#####**Solution**"
      ],
      "metadata": {
        "id": "faFUoXC6jbX8"
      }
    },
    {
      "cell_type": "code",
      "source": [
        "my_qubits = cirq.NamedQubit.range( 3, prefix = \"q\")\n",
        "my_qubits.append(cirq.NamedQubit(\"q3\"))\n",
        "my_qubits"
      ],
      "metadata": {
        "colab": {
          "base_uri": "https://localhost:8080/"
        },
        "id": "WJRWI6gZbi0i",
        "outputId": "2d4c5df2-19c7-45d6-d884-3828f35a827b"
      },
      "execution_count": null,
      "outputs": [
        {
          "output_type": "execute_result",
          "data": {
            "text/plain": [
              "[cirq.NamedQubit('q0'),\n",
              " cirq.NamedQubit('q1'),\n",
              " cirq.NamedQubit('q2'),\n",
              " cirq.NamedQubit('q3')]"
            ]
          },
          "metadata": {},
          "execution_count": 3
        }
      ]
    },
    {
      "cell_type": "markdown",
      "source": [
        "###**Problem #1.3**\n",
        "**Together**, using the `range()` method, create 4 qubits."
      ],
      "metadata": {
        "id": "z4lApfzh7MPf"
      }
    },
    {
      "cell_type": "code",
      "source": [
        "# COMPLETE THIS CODE"
      ],
      "metadata": {
        "id": "j6InE7k8jj15"
      },
      "execution_count": null,
      "outputs": []
    },
    {
      "cell_type": "markdown",
      "source": [
        "#####**Solution**"
      ],
      "metadata": {
        "id": "7aY31Gf4jjIe"
      }
    },
    {
      "cell_type": "code",
      "source": [
        "my_qubits = cirq.NamedQubit.range( 4, prefix = \"q\")"
      ],
      "metadata": {
        "id": "fxVWlr6-7ehI"
      },
      "execution_count": null,
      "outputs": []
    },
    {
      "cell_type": "markdown",
      "source": [
        "###**Problem #1.4**\n",
        "**Together,** create 100 qubits."
      ],
      "metadata": {
        "id": "ivXm2mtu6uoQ"
      }
    },
    {
      "cell_type": "code",
      "source": [
        "# COMPLETE THIS CODE"
      ],
      "metadata": {
        "id": "vZ0U1_x7jolU"
      },
      "execution_count": null,
      "outputs": []
    },
    {
      "cell_type": "markdown",
      "source": [
        "#####**Solution**"
      ],
      "metadata": {
        "id": "KAYnxs8wjoI4"
      }
    },
    {
      "cell_type": "code",
      "source": [
        "my_qubits = cirq.NamedQubit.range( 100, prefix = \"q\")"
      ],
      "metadata": {
        "id": "Le5O6I1x6-ma"
      },
      "execution_count": null,
      "outputs": []
    },
    {
      "cell_type": "markdown",
      "source": [
        "###**Problem #1.5**\n",
        "**Together**, create 3 qubits. Add a measurement to the first qubit. Output your circuit."
      ],
      "metadata": {
        "id": "K-opUSfj908f"
      }
    },
    {
      "cell_type": "code",
      "source": [
        "# COMPLETE THIS CODE"
      ],
      "metadata": {
        "id": "SoLFw4dDk4e8"
      },
      "execution_count": null,
      "outputs": []
    },
    {
      "cell_type": "markdown",
      "source": [
        "#####**Solution**"
      ],
      "metadata": {
        "id": "A_TdEl15k38S"
      }
    },
    {
      "cell_type": "code",
      "source": [
        "my_qubits = cirq.NamedQubit.range( 3, prefix = \"q\")\n",
        "my_circuit = cirq.Circuit()\n",
        "my_circuit.append(cirq.measure(cirq.NamedQubit(\"q0\")))\n",
        "my_circuit"
      ],
      "metadata": {
        "colab": {
          "base_uri": "https://localhost:8080/",
          "height": 34
        },
        "id": "J5yh5c9N-FYz",
        "outputId": "e47bd220-54bf-4967-bf39-9f60205e9b87"
      },
      "execution_count": null,
      "outputs": [
        {
          "output_type": "execute_result",
          "data": {
            "text/plain": [
              "q0: ───M───"
            ],
            "text/html": [
              "<pre style=\"overflow: auto; white-space: pre;\">q0: ───M───</pre>"
            ]
          },
          "metadata": {},
          "execution_count": 16
        }
      ]
    },
    {
      "cell_type": "markdown",
      "source": [
        "###**Problem #1.6**\n",
        "**Together**, create 5 qubits. Add a measurement to each qubit. Output your circuit."
      ],
      "metadata": {
        "id": "ZMwT-NGZ-TrO"
      }
    },
    {
      "cell_type": "code",
      "source": [
        "# COMPLETE THIS CODE"
      ],
      "metadata": {
        "id": "Mtf6DEVok7ry"
      },
      "execution_count": null,
      "outputs": []
    },
    {
      "cell_type": "markdown",
      "source": [
        "#####**Solution**"
      ],
      "metadata": {
        "id": "wRevGRZnk7Sw"
      }
    },
    {
      "cell_type": "code",
      "source": [
        "my_qubits = cirq.NamedQubit.range( 5, prefix = \"q\")\n",
        "my_circuit = cirq.Circuit()\n",
        "my_circuit.append(cirq.measure(my_qubits))\n",
        "my_circuit"
      ],
      "metadata": {
        "colab": {
          "base_uri": "https://localhost:8080/",
          "height": 173
        },
        "id": "JlSQNAiG-ayC",
        "outputId": "a4212b7a-5858-4c1a-f111-762c2b96c516"
      },
      "execution_count": null,
      "outputs": [
        {
          "output_type": "execute_result",
          "data": {
            "text/plain": [
              "q0: ───M───\n",
              "       │\n",
              "q1: ───M───\n",
              "       │\n",
              "q2: ───M───\n",
              "       │\n",
              "q3: ───M───\n",
              "       │\n",
              "q4: ───M───"
            ],
            "text/html": [
              "<pre style=\"overflow: auto; white-space: pre;\">q0: ───M───\n",
              "       │\n",
              "q1: ───M───\n",
              "       │\n",
              "q2: ───M───\n",
              "       │\n",
              "q3: ───M───\n",
              "       │\n",
              "q4: ───M───</pre>"
            ]
          },
          "metadata": {},
          "execution_count": 18
        }
      ]
    },
    {
      "cell_type": "markdown",
      "source": [
        "###**Problem #1.7**\n",
        "**Independently**, create 5 qubits. Add an H gate to the the last qubit. Output your circuit."
      ],
      "metadata": {
        "id": "KWBaJeKr-0hG"
      }
    },
    {
      "cell_type": "code",
      "source": [
        "# COMPLETE THIS CODE"
      ],
      "metadata": {
        "id": "VIp98KrBk_OJ"
      },
      "execution_count": null,
      "outputs": []
    },
    {
      "cell_type": "markdown",
      "source": [
        "#####**Solution**"
      ],
      "metadata": {
        "id": "hF_j0BmPk-v0"
      }
    },
    {
      "cell_type": "code",
      "source": [
        "my_qubits = cirq.NamedQubit.range( 5, prefix = \"q\")\n",
        "my_circuit = cirq.Circuit()\n",
        "my_circuit.append(cirq.H(cirq.NamedQubit(\"q4\")))\n",
        "my_circuit"
      ],
      "metadata": {
        "colab": {
          "base_uri": "https://localhost:8080/",
          "height": 34
        },
        "id": "bjWcMiQ---Pu",
        "outputId": "73c746d5-fc45-462e-bda6-05cc13de3bac"
      },
      "execution_count": null,
      "outputs": [
        {
          "output_type": "execute_result",
          "data": {
            "text/plain": [
              "q4: ───H───"
            ],
            "text/html": [
              "<pre style=\"overflow: auto; white-space: pre;\">q4: ───H───</pre>"
            ]
          },
          "metadata": {},
          "execution_count": 19
        }
      ]
    },
    {
      "cell_type": "markdown",
      "source": [
        "###**Problem #1.8**\n",
        "**Independently**, create 5 qubits. Add an X gate to each of them. Output your circuit."
      ],
      "metadata": {
        "id": "C33csuiy_Emb"
      }
    },
    {
      "cell_type": "code",
      "source": [
        "# COMPLETE THIS CODE"
      ],
      "metadata": {
        "id": "pG_uI8_YlDXi"
      },
      "execution_count": null,
      "outputs": []
    },
    {
      "cell_type": "markdown",
      "source": [
        "#####**Solution**"
      ],
      "metadata": {
        "id": "BH71Zie3lC-1"
      }
    },
    {
      "cell_type": "code",
      "source": [
        "my_qubits = cirq.NamedQubit.range( 5, prefix = \"q\")\n",
        "my_circuit = cirq.Circuit()\n",
        "my_circuit.append(cirq.H.on_each(my_qubits))\n",
        "my_circuit"
      ],
      "metadata": {
        "colab": {
          "base_uri": "https://localhost:8080/",
          "height": 173
        },
        "id": "EIIz8Kcc_UIz",
        "outputId": "c02e4f31-7f54-42d7-a327-2ac869752d8e"
      },
      "execution_count": null,
      "outputs": [
        {
          "output_type": "execute_result",
          "data": {
            "text/plain": [
              "q0: ───H───\n",
              "\n",
              "q1: ───H───\n",
              "\n",
              "q2: ───H───\n",
              "\n",
              "q3: ───H───\n",
              "\n",
              "q4: ───H───"
            ],
            "text/html": [
              "<pre style=\"overflow: auto; white-space: pre;\">q0: ───H───\n",
              "\n",
              "q1: ───H───\n",
              "\n",
              "q2: ───H───\n",
              "\n",
              "q3: ───H───\n",
              "\n",
              "q4: ───H───</pre>"
            ]
          },
          "metadata": {},
          "execution_count": 20
        }
      ]
    },
    {
      "cell_type": "markdown",
      "source": [
        "###**Problem #1.9**\n",
        "**Independently**, create 3 qubits. Add an X gate to the first, a Z gate to the second, and an H gate to the last. Add a measurement to each of them. Output your circuit."
      ],
      "metadata": {
        "id": "MVO7uY7t_uad"
      }
    },
    {
      "cell_type": "code",
      "source": [
        "# COMPLETE THIS CODE"
      ],
      "metadata": {
        "id": "YmQjDB0WlIQa"
      },
      "execution_count": null,
      "outputs": []
    },
    {
      "cell_type": "markdown",
      "source": [
        "#####**Solution**"
      ],
      "metadata": {
        "id": "q9PyHBcYlHo2"
      }
    },
    {
      "cell_type": "code",
      "source": [
        "my_qubits = cirq.NamedQubit.range( 3, prefix = \"q\")\n",
        "my_circuit = cirq.Circuit()\n",
        "my_circuit.append(cirq.X(cirq.NamedQubit(\"q0\")))\n",
        "my_circuit.append(cirq.Z(cirq.NamedQubit(\"q1\")))\n",
        "my_circuit.append(cirq.H(cirq.NamedQubit(\"q2\")))\n",
        "my_circuit.append(cirq.measure(my_qubits))\n",
        "my_circuit"
      ],
      "metadata": {
        "colab": {
          "base_uri": "https://localhost:8080/",
          "height": 104
        },
        "id": "jOY0y73QAAfD",
        "outputId": "336f5452-8634-4caa-9701-59d25960ac94"
      },
      "execution_count": null,
      "outputs": [
        {
          "output_type": "execute_result",
          "data": {
            "text/plain": [
              "q0: ───X───M───\n",
              "           │\n",
              "q1: ───Z───M───\n",
              "           │\n",
              "q2: ───H───M───"
            ],
            "text/html": [
              "<pre style=\"overflow: auto; white-space: pre;\">q0: ───X───M───\n",
              "           │\n",
              "q1: ───Z───M───\n",
              "           │\n",
              "q2: ───H───M───</pre>"
            ]
          },
          "metadata": {},
          "execution_count": 21
        }
      ]
    },
    {
      "cell_type": "markdown",
      "source": [
        "###**Problem #1.10**\n",
        "**Independently**, create 5 qubits. Add an H gate to each of them. Add a measurement to the first of them. Add an X gate to the second qubit. Add a Z gate to the last. Add a measurement to the last two qubits."
      ],
      "metadata": {
        "id": "3aiugiFTAfSz"
      }
    },
    {
      "cell_type": "code",
      "source": [
        "# COMPLETE THIS CODE"
      ],
      "metadata": {
        "id": "QYImBqAolcRt"
      },
      "execution_count": null,
      "outputs": []
    },
    {
      "cell_type": "markdown",
      "source": [
        "#####**Solution**"
      ],
      "metadata": {
        "id": "FN120IR0lbzQ"
      }
    },
    {
      "cell_type": "code",
      "source": [
        "my_qubits = cirq.NamedQubit.range( 3, prefix = \"q\")\n",
        "my_circuit = cirq.Circuit()\n",
        "my_circuit.append(cirq.H.on_each(my_qubits))\n",
        "my_circuit.append(cirq.measure(cirq.NamedQubit(\"q0\")))\n",
        "my_circuit.append(cirq.X(cirq.NamedQubit(\"q1\")))\n",
        "my_circuit.append(cirq.Z(cirq.NamedQubit(\"q2\")))\n",
        "my_circuit.append(cirq.measure(cirq.NamedQubit(\"q1\")))\n",
        "my_circuit.append(cirq.measure(cirq.NamedQubit(\"q2\")))\n",
        "my_circuit"
      ],
      "metadata": {
        "colab": {
          "base_uri": "https://localhost:8080/",
          "height": 104
        },
        "id": "3yqwfdBAA1cs",
        "outputId": "3f79c59d-deb3-44e5-81c2-b2c31276d2c2"
      },
      "execution_count": null,
      "outputs": [
        {
          "output_type": "execute_result",
          "data": {
            "text/plain": [
              "q0: ───H───M───────\n",
              "\n",
              "q1: ───H───X───M───\n",
              "\n",
              "q2: ───H───Z───M───"
            ],
            "text/html": [
              "<pre style=\"overflow: auto; white-space: pre;\">q0: ───H───M───────\n",
              "\n",
              "q1: ───H───X───M───\n",
              "\n",
              "q2: ───H───Z───M───</pre>"
            ]
          },
          "metadata": {},
          "execution_count": 22
        }
      ]
    },
    {
      "cell_type": "markdown",
      "source": [
        "<a name=\"p3\"></a>\n",
        "\n",
        "---\n",
        "## **Part 2: Creating Entanglement with CNOT**\n",
        "---\n"
      ],
      "metadata": {
        "id": "nx4dYh7-bjfu"
      }
    },
    {
      "cell_type": "markdown",
      "source": [
        "###**Problem #2.1**\n",
        "**Together**, create two qubits. Create a circuit and add a CNOT gate such the the first qubit is the control and the second is the target. Output your circuit. Print out the ket representation of your circuit's final state."
      ],
      "metadata": {
        "id": "m1R6_DnvC7XS"
      }
    },
    {
      "cell_type": "code",
      "source": [
        "# COMPLETE THIS CODE"
      ],
      "metadata": {
        "id": "ihDsThOJmyw3"
      },
      "execution_count": null,
      "outputs": []
    },
    {
      "cell_type": "code",
      "source": [
        "# COMPLETE THIS CODE"
      ],
      "metadata": {
        "id": "IGfWX6idmyoa"
      },
      "execution_count": null,
      "outputs": []
    },
    {
      "cell_type": "markdown",
      "source": [
        "#####**Solution**"
      ],
      "metadata": {
        "id": "PqdO5X85mwAa"
      }
    },
    {
      "cell_type": "code",
      "source": [
        "my_qubits = cirq.NamedQubit.range( 2, prefix = \"q\")\n",
        "my_circuit = cirq.Circuit()\n",
        "my_circuit.append(cirq.CNOT(cirq.NamedQubit(\"q0\"), cirq.NamedQubit(\"q1\")))\n",
        "my_circuit"
      ],
      "metadata": {
        "colab": {
          "base_uri": "https://localhost:8080/",
          "height": 69
        },
        "id": "y01r30dWC6cf",
        "outputId": "854690f7-3d3f-4ae6-f95c-90a9fd74ea11"
      },
      "execution_count": null,
      "outputs": [
        {
          "output_type": "execute_result",
          "data": {
            "text/plain": [
              "q0: ───@───\n",
              "       │\n",
              "q1: ───X───"
            ],
            "text/html": [
              "<pre style=\"overflow: auto; white-space: pre;\">q0: ───@───\n",
              "       │\n",
              "q1: ───X───</pre>"
            ]
          },
          "metadata": {},
          "execution_count": 14
        }
      ]
    },
    {
      "cell_type": "code",
      "source": [
        "state_vector = cirq.final_state_vector(my_circuit)\n",
        "ket = cirq.dirac_notation( state_vector=state_vector )\n",
        "print(ket)"
      ],
      "metadata": {
        "colab": {
          "base_uri": "https://localhost:8080/"
        },
        "id": "-Gu1bOlUDr0r",
        "outputId": "0cf11db0-3f42-40f2-c4ee-197c3a914647"
      },
      "execution_count": null,
      "outputs": [
        {
          "output_type": "stream",
          "name": "stdout",
          "text": [
            "|00⟩\n"
          ]
        }
      ]
    },
    {
      "cell_type": "markdown",
      "source": [
        "###**Problem #2.2**\n",
        "**Together**, create two qubits. Create a circuit and add an H gate to the first qubit. Add a CNOT gate such the the first qubit is the control and the second is the target. Output your circuit. Print out the ket representation of your circuit's final state."
      ],
      "metadata": {
        "id": "4R6Ppc_NFANP"
      }
    },
    {
      "cell_type": "code",
      "source": [
        "# COMPLETE THIS CODE"
      ],
      "metadata": {
        "id": "XhVtr8kQm5Ac"
      },
      "execution_count": null,
      "outputs": []
    },
    {
      "cell_type": "code",
      "source": [
        "# COMPLETE THIS CODE"
      ],
      "metadata": {
        "id": "7NO7Nyyzm3he"
      },
      "execution_count": null,
      "outputs": []
    },
    {
      "cell_type": "markdown",
      "source": [
        "#####**Solution**"
      ],
      "metadata": {
        "id": "8VExNFhym3DS"
      }
    },
    {
      "cell_type": "code",
      "source": [
        "my_qubits = cirq.NamedQubit.range( 2, prefix = \"q\")\n",
        "my_circuit = cirq.Circuit()\n",
        "my_circuit.append(cirq.H(cirq.NamedQubit(\"q0\")))\n",
        "my_circuit.append(cirq.CNOT(cirq.NamedQubit(\"q0\"), cirq.NamedQubit(\"q1\")))\n",
        "my_circuit"
      ],
      "metadata": {
        "colab": {
          "base_uri": "https://localhost:8080/",
          "height": 69
        },
        "id": "YxDdmE29FWSu",
        "outputId": "57b98583-4c86-4d19-81a4-1509a9eff29e"
      },
      "execution_count": null,
      "outputs": [
        {
          "output_type": "execute_result",
          "data": {
            "text/plain": [
              "q0: ───H───@───\n",
              "           │\n",
              "q1: ───────X───"
            ],
            "text/html": [
              "<pre style=\"overflow: auto; white-space: pre;\">q0: ───H───@───\n",
              "           │\n",
              "q1: ───────X───</pre>"
            ]
          },
          "metadata": {},
          "execution_count": 37
        }
      ]
    },
    {
      "cell_type": "code",
      "source": [
        "state_vector = cirq.final_state_vector(my_circuit)\n",
        "ket = cirq.dirac_notation( state_vector=state_vector )\n",
        "print(ket)"
      ],
      "metadata": {
        "colab": {
          "base_uri": "https://localhost:8080/"
        },
        "id": "zskftvLlFji4",
        "outputId": "cb5527ba-8ab3-4464-8fde-381f5a64581d"
      },
      "execution_count": null,
      "outputs": [
        {
          "output_type": "stream",
          "name": "stdout",
          "text": [
            "0.71|00⟩ + 0.71|11⟩\n"
          ]
        }
      ]
    },
    {
      "cell_type": "markdown",
      "source": [
        "###**Problem #2.3**\n",
        "**Independently**, Modify the circuit in Problem 2.2 to create a new entangled state by adding an initial X gate to one of the qubits. Output your circuit. Print out the ket representation of your circuit's final state."
      ],
      "metadata": {
        "id": "pkDKzAxB6YK2"
      }
    },
    {
      "cell_type": "code",
      "source": [
        "# COMPLETE THIS CODE"
      ],
      "metadata": {
        "id": "fNzc81Ok7RG8"
      },
      "execution_count": null,
      "outputs": []
    },
    {
      "cell_type": "code",
      "source": [
        "# COMPLETE THIS CODE"
      ],
      "metadata": {
        "id": "A-k7mc1I7Wm4"
      },
      "execution_count": null,
      "outputs": []
    },
    {
      "cell_type": "markdown",
      "source": [
        "#####**Solution**"
      ],
      "metadata": {
        "id": "neXGBrU07bNh"
      }
    },
    {
      "cell_type": "code",
      "source": [
        "my_qubits = cirq.NamedQubit.range( 2, prefix = \"q\")\n",
        "my_circuit = cirq.Circuit()\n",
        "my_circuit.append(cirq.X(cirq.NamedQubit(\"q0\")))\n",
        "my_circuit.append(cirq.H(cirq.NamedQubit(\"q0\")))\n",
        "my_circuit.append(cirq.CNOT(cirq.NamedQubit(\"q0\"), cirq.NamedQubit(\"q1\")))\n",
        "my_circuit"
      ],
      "metadata": {
        "colab": {
          "base_uri": "https://localhost:8080/",
          "height": 69
        },
        "id": "g-7Z_-0t7iVF",
        "outputId": "e2908026-b634-4987-a7ed-930668b9f090"
      },
      "execution_count": null,
      "outputs": [
        {
          "output_type": "execute_result",
          "data": {
            "text/plain": [
              "q0: ───X───H───@───\n",
              "               │\n",
              "q1: ───────────X───"
            ],
            "text/html": [
              "<pre style=\"overflow: auto; white-space: pre;\">q0: ───X───H───@───\n",
              "               │\n",
              "q1: ───────────X───</pre>"
            ]
          },
          "metadata": {},
          "execution_count": 4
        }
      ]
    },
    {
      "cell_type": "code",
      "source": [
        "state_vector = cirq.final_state_vector(my_circuit)\n",
        "ket = cirq.dirac_notation( state_vector=state_vector )\n",
        "print(ket)"
      ],
      "metadata": {
        "colab": {
          "base_uri": "https://localhost:8080/"
        },
        "id": "Aae4MKej7oTO",
        "outputId": "9b719713-e3a8-49ea-e571-651510681751"
      },
      "execution_count": null,
      "outputs": [
        {
          "output_type": "stream",
          "name": "stdout",
          "text": [
            "0.71|00⟩ - 0.71|11⟩\n"
          ]
        }
      ]
    },
    {
      "cell_type": "markdown",
      "source": [
        "###**Problem #2.4**\n",
        "**Independently**, add measurements to each of your qubits from your circuit in Problem #2.2. Simulate the results of your circuit. Output the results."
      ],
      "metadata": {
        "id": "W5-7Z0jlFnSu"
      }
    },
    {
      "cell_type": "code",
      "source": [
        "# COMPLETE THIS CODE"
      ],
      "metadata": {
        "id": "_mafOYzcm8aW"
      },
      "execution_count": null,
      "outputs": []
    },
    {
      "cell_type": "markdown",
      "source": [
        "#####**Solution**"
      ],
      "metadata": {
        "id": "OuuBTvlGm7yd"
      }
    },
    {
      "cell_type": "code",
      "source": [
        "my_circuit.append(cirq.measure(my_qubits))\n",
        "sim = cirq.Simulator()\n",
        "result = sim.run(my_circuit)\n",
        "result"
      ],
      "metadata": {
        "colab": {
          "base_uri": "https://localhost:8080/"
        },
        "id": "a-kk_5zhF2fQ",
        "outputId": "dde80ae3-24f8-41de-c8d7-978197f54843"
      },
      "execution_count": null,
      "outputs": [
        {
          "output_type": "execute_result",
          "data": {
            "text/plain": [
              "q0,q1=0, 0"
            ]
          },
          "metadata": {},
          "execution_count": 40
        }
      ]
    },
    {
      "cell_type": "markdown",
      "source": [
        "###**Problem #2.5**\n",
        "**Independently**, simulate the results from the circuit in Problem #2.3 10 times."
      ],
      "metadata": {
        "id": "kLs1ZDokGLK4"
      }
    },
    {
      "cell_type": "code",
      "source": [
        "# COMPLETE THIS CODE"
      ],
      "metadata": {
        "id": "qRwEkHk7nAwa"
      },
      "execution_count": null,
      "outputs": []
    },
    {
      "cell_type": "markdown",
      "source": [
        "#####**Solution**"
      ],
      "metadata": {
        "id": "hK0drGeunAHB"
      }
    },
    {
      "cell_type": "code",
      "source": [
        "sim = cirq.Simulator()\n",
        "result = sim.run(my_circuit, repetitions=10)\n",
        "result"
      ],
      "metadata": {
        "colab": {
          "base_uri": "https://localhost:8080/"
        },
        "id": "DxDqfk71GKr2",
        "outputId": "c0b10ac9-0e6d-4bd3-f68b-e1135922978d"
      },
      "execution_count": null,
      "outputs": [
        {
          "output_type": "execute_result",
          "data": {
            "text/plain": [
              "q0,q1=1001111101, 1001111101"
            ]
          },
          "metadata": {},
          "execution_count": 41
        }
      ]
    },
    {
      "cell_type": "markdown",
      "source": [
        "###**Problem #2.6**\n",
        "**Independently**, create two qubits. Create a circuit and add an X gate to the first qubit. Add a CNOT gate such the the first qubit is the control and the second is the target. Output your circuit. Print out the ket representation of your circuit's final state."
      ],
      "metadata": {
        "id": "7kgP2kvBIA0b"
      }
    },
    {
      "cell_type": "code",
      "source": [
        "# COMPLETE THIS CODE"
      ],
      "metadata": {
        "id": "Ke9if7KjnG60"
      },
      "execution_count": null,
      "outputs": []
    },
    {
      "cell_type": "code",
      "source": [
        "# COMPLETE THIS CODE"
      ],
      "metadata": {
        "id": "YZn1m8X6nGyh"
      },
      "execution_count": null,
      "outputs": []
    },
    {
      "cell_type": "markdown",
      "source": [
        "#####**Solution**"
      ],
      "metadata": {
        "id": "bI97g-rZnGTf"
      }
    },
    {
      "cell_type": "code",
      "source": [
        "my_qubits = cirq.NamedQubit.range( 2, prefix = \"q\")\n",
        "my_circuit = cirq.Circuit()\n",
        "my_circuit.append(cirq.X(cirq.NamedQubit(\"q0\")))\n",
        "my_circuit.append(cirq.CNOT(cirq.NamedQubit(\"q0\"), cirq.NamedQubit(\"q1\")))\n",
        "my_circuit"
      ],
      "metadata": {
        "colab": {
          "base_uri": "https://localhost:8080/",
          "height": 69
        },
        "id": "wAzhQCH5ISFG",
        "outputId": "56459554-992e-4dac-ce7f-f43f6db49f8a"
      },
      "execution_count": null,
      "outputs": [
        {
          "output_type": "execute_result",
          "data": {
            "text/plain": [
              "q0: ───X───@───\n",
              "           │\n",
              "q1: ───────X───"
            ],
            "text/html": [
              "<pre style=\"overflow: auto; white-space: pre;\">q0: ───X───@───\n",
              "           │\n",
              "q1: ───────X───</pre>"
            ]
          },
          "metadata": {},
          "execution_count": 42
        }
      ]
    },
    {
      "cell_type": "code",
      "source": [
        "state_vector = cirq.final_state_vector(my_circuit)\n",
        "ket = cirq.dirac_notation( state_vector=state_vector )\n",
        "print(ket)"
      ],
      "metadata": {
        "colab": {
          "base_uri": "https://localhost:8080/"
        },
        "id": "D-88xUK4IWPU",
        "outputId": "b7d9c888-69e4-4e56-a08d-275ab8788f0b"
      },
      "execution_count": null,
      "outputs": [
        {
          "output_type": "stream",
          "name": "stdout",
          "text": [
            "|11⟩\n"
          ]
        }
      ]
    },
    {
      "cell_type": "markdown",
      "source": [],
      "metadata": {
        "id": "CF4_fmvO6T1b"
      }
    },
    {
      "cell_type": "markdown",
      "source": [
        "<a name=\"p4\"></a>\n",
        "\n",
        "---\n",
        "## **Part 3: Working with Histograms**\n",
        "---\n"
      ],
      "metadata": {
        "id": "0pzH5UPkbq_2"
      }
    },
    {
      "cell_type": "markdown",
      "source": [
        "###**Problem #3.1**\n",
        "**Together**, create 3 qubits. Append those qubits to a circuit with a measurement. Simulate the results of your circuit 10 times. Then, create a histogram of the final states of the qubits."
      ],
      "metadata": {
        "id": "9p8a-boRO908"
      }
    },
    {
      "cell_type": "code",
      "source": [
        "# COMPLETE THIS CODE"
      ],
      "metadata": {
        "id": "KrPf_Yd5nSAS"
      },
      "execution_count": null,
      "outputs": []
    },
    {
      "cell_type": "code",
      "source": [
        "# COMPLETE THIS CODE"
      ],
      "metadata": {
        "id": "CdyKLbrJnR5k"
      },
      "execution_count": null,
      "outputs": []
    },
    {
      "cell_type": "code",
      "source": [
        "hist = cirq.plot_state_histogram(result, plt.subplot(), title = 'Qubit States', xlabel = 'States', ylabel = 'Occurrences', tick_label=binary_labels(3))\n",
        "\n",
        "plt.show()"
      ],
      "metadata": {
        "id": "wfgzM_jMnRyH"
      },
      "execution_count": null,
      "outputs": []
    },
    {
      "cell_type": "markdown",
      "source": [
        "#####**Solution**"
      ],
      "metadata": {
        "id": "n8q0Jmf6nP4_"
      }
    },
    {
      "cell_type": "code",
      "source": [
        "my_qubits = cirq.NamedQubit.range( 3, prefix = \"q\")\n",
        "my_circuit = cirq.Circuit()\n",
        "my_circuit.append(cirq.measure(my_qubits))"
      ],
      "metadata": {
        "id": "T4rGG7_mPfvP"
      },
      "execution_count": null,
      "outputs": []
    },
    {
      "cell_type": "code",
      "source": [
        "sim = cirq.Simulator()\n",
        "result = sim.run(my_circuit, repetitions=10)"
      ],
      "metadata": {
        "id": "ISiX2TWwPvSa"
      },
      "execution_count": null,
      "outputs": []
    },
    {
      "cell_type": "code",
      "source": [
        "hist = cirq.plot_state_histogram(result, plt.subplot(), title = 'Qubit States', xlabel = 'States', ylabel = 'Occurrences', tick_label=binary_labels(3))\n",
        "\n",
        "plt.show()"
      ],
      "metadata": {
        "colab": {
          "base_uri": "https://localhost:8080/",
          "height": 472
        },
        "id": "0ABQSGgSPmAQ",
        "outputId": "2feb4724-c2c1-444b-fa72-9bd764d4b8c9"
      },
      "execution_count": null,
      "outputs": [
        {
          "output_type": "display_data",
          "data": {
            "text/plain": [
              "<Figure size 640x480 with 1 Axes>"
            ],
            "image/png": "[encoded data removed]"
          },
          "metadata": {}
        }
      ]
    },
    {
      "cell_type": "markdown",
      "source": [
        "###**Problem #3.2**\n",
        "**Together**, simulate the results of your circuit from Problem #2.3 10 times. Then, create a histogram of the final states of the qubits."
      ],
      "metadata": {
        "id": "ZW9OPORQQEO-"
      }
    },
    {
      "cell_type": "code",
      "source": [
        "# COMPLETE THIS CODE"
      ],
      "metadata": {
        "id": "F7G6d-lNnYji"
      },
      "execution_count": null,
      "outputs": []
    },
    {
      "cell_type": "code",
      "source": [
        "# COMPLETE THIS CODE"
      ],
      "metadata": {
        "id": "4p9rCOy0nYfA"
      },
      "execution_count": null,
      "outputs": []
    },
    {
      "cell_type": "code",
      "source": [
        "hist = cirq.plot_state_histogram(# COMPLETE THIS CODE\n",
        "\n",
        "plt.show()"
      ],
      "metadata": {
        "id": "AQwVrDBGnYB_"
      },
      "execution_count": null,
      "outputs": []
    },
    {
      "cell_type": "markdown",
      "source": [
        "#####**Solution**"
      ],
      "metadata": {
        "id": "V4fZQ_xDnXf5"
      }
    },
    {
      "cell_type": "code",
      "source": [
        "my_qubits = cirq.NamedQubit.range( 2, prefix = \"q\")\n",
        "my_circuit = cirq.Circuit()\n",
        "my_circuit.append(cirq.H(cirq.NamedQubit(\"q0\")))\n",
        "my_circuit.append(cirq.CNOT(cirq.NamedQubit(\"q0\"), cirq.NamedQubit(\"q1\")))\n",
        "my_circuit.append(cirq.measure(my_qubits))\n",
        "my_circuit"
      ],
      "metadata": {
        "colab": {
          "base_uri": "https://localhost:8080/",
          "height": 69
        },
        "id": "NOgTNPq0ObDv",
        "outputId": "dbec2854-9d38-40e3-b01e-91180a71f206"
      },
      "execution_count": null,
      "outputs": [
        {
          "output_type": "execute_result",
          "data": {
            "text/plain": [
              "q0: ───H───@───M───\n",
              "           │   │\n",
              "q1: ───────X───M───"
            ],
            "text/html": [
              "<pre style=\"overflow: auto; white-space: pre;\">q0: ───H───@───M───\n",
              "           │   │\n",
              "q1: ───────X───M───</pre>"
            ]
          },
          "metadata": {},
          "execution_count": 9
        }
      ]
    },
    {
      "cell_type": "code",
      "source": [
        "sim = cirq.Simulator()\n",
        "result = sim.run(my_circuit, repetitions=10)"
      ],
      "metadata": {
        "id": "pE8Q4PiQQuxq"
      },
      "execution_count": null,
      "outputs": []
    },
    {
      "cell_type": "code",
      "source": [
        "hist = cirq.plot_state_histogram(result, plt.subplot(), title = 'Qubit States', xlabel = 'States', ylabel = 'Occurrences', tick_label=binary_labels(2))\n",
        "\n",
        "plt.show()"
      ],
      "metadata": {
        "colab": {
          "base_uri": "https://localhost:8080/",
          "height": 472
        },
        "id": "aIF8a1NOOZ-s",
        "outputId": "6d46d058-fcc4-4554-b901-c2bc8f7333ea"
      },
      "execution_count": null,
      "outputs": [
        {
          "output_type": "display_data",
          "data": {
            "text/plain": [
              "<Figure size 640x480 with 1 Axes>"
            ],
            "image/png": "[encoded data removed]"
          },
          "metadata": {}
        }
      ]
    },
    {
      "cell_type": "markdown",
      "source": [
        "###**Problem #3.3**\n",
        "**Independently**, repeat Problem #3.2, but with 100 repitions"
      ],
      "metadata": {
        "id": "eFXq-w3nQ29m"
      }
    },
    {
      "cell_type": "code",
      "source": [
        "# COMPLETE THIS CODE"
      ],
      "metadata": {
        "id": "wdH2s5BEne-H"
      },
      "execution_count": null,
      "outputs": []
    },
    {
      "cell_type": "code",
      "source": [
        "# COMPLETE THIS CODE"
      ],
      "metadata": {
        "id": "15ECECUcngF0"
      },
      "execution_count": null,
      "outputs": []
    },
    {
      "cell_type": "code",
      "source": [
        "# COMPLETE THIS CODE"
      ],
      "metadata": {
        "id": "0z0ewJuYnf96"
      },
      "execution_count": null,
      "outputs": []
    },
    {
      "cell_type": "markdown",
      "source": [
        "#####**Solution**"
      ],
      "metadata": {
        "id": "FizqkUX1neNE"
      }
    },
    {
      "cell_type": "code",
      "source": [
        "my_qubits = cirq.NamedQubit.range( 2, prefix = \"q\")\n",
        "my_circuit = cirq.Circuit()\n",
        "my_circuit.append(cirq.H(cirq.NamedQubit(\"q0\")))\n",
        "my_circuit.append(cirq.CNOT(cirq.NamedQubit(\"q0\"), cirq.NamedQubit(\"q1\")))\n",
        "my_circuit.append(cirq.measure(my_qubits))\n",
        "my_circuit"
      ],
      "metadata": {
        "colab": {
          "base_uri": "https://localhost:8080/",
          "height": 69
        },
        "id": "q3Ma7BVCREFa",
        "outputId": "62acb4fb-1d11-4679-c2bf-56d2895f45b6"
      },
      "execution_count": null,
      "outputs": [
        {
          "output_type": "execute_result",
          "data": {
            "text/plain": [
              "q0: ───H───@───M───\n",
              "           │   │\n",
              "q1: ───────X───M───"
            ],
            "text/html": [
              "<pre style=\"overflow: auto; white-space: pre;\">q0: ───H───@───M───\n",
              "           │   │\n",
              "q1: ───────X───M───</pre>"
            ]
          },
          "metadata": {},
          "execution_count": 14
        }
      ]
    },
    {
      "cell_type": "code",
      "source": [
        "sim = cirq.Simulator()\n",
        "result = sim.run(my_circuit, repetitions=100)"
      ],
      "metadata": {
        "id": "dGrY00-MREVy"
      },
      "execution_count": null,
      "outputs": []
    },
    {
      "cell_type": "code",
      "source": [
        "hist = cirq.plot_state_histogram(result, plt.subplot(), title = 'Qubit States', xlabel = 'States', ylabel = 'Occurrences', tick_label=binary_labels(2))\n",
        "\n",
        "plt.show()"
      ],
      "metadata": {
        "colab": {
          "base_uri": "https://localhost:8080/",
          "height": 472
        },
        "id": "_1tbizv-REne",
        "outputId": "4fd28fd2-17be-41e3-af22-bf4e87e87298"
      },
      "execution_count": null,
      "outputs": [
        {
          "output_type": "display_data",
          "data": {
            "text/plain": [
              "<Figure size 640x480 with 1 Axes>"
            ],
            "image/png": "[encoded data removed]"
          },
          "metadata": {}
        }
      ]
    },
    {
      "cell_type": "markdown",
      "source": [
        "###**Problem #3.4**\n",
        "**Independently**, create three qubits. Create an empty quantum circuit. Append an H gate and a measurement to each qubit. Simulate the results of the circuit 100 times. Plot the results on a histogram."
      ],
      "metadata": {
        "id": "mRudgr2ARU5Y"
      }
    },
    {
      "cell_type": "code",
      "source": [
        "# COMPLETE THIS CODE"
      ],
      "metadata": {
        "id": "aeNjTHj9nojV"
      },
      "execution_count": null,
      "outputs": []
    },
    {
      "cell_type": "code",
      "source": [
        "# COMPLETE THIS CODE"
      ],
      "metadata": {
        "id": "y1oQA2QhnoYj"
      },
      "execution_count": null,
      "outputs": []
    },
    {
      "cell_type": "code",
      "source": [
        "# COMPLETE THIS CODE"
      ],
      "metadata": {
        "id": "_e1kLk6rnoVS"
      },
      "execution_count": null,
      "outputs": []
    },
    {
      "cell_type": "markdown",
      "source": [
        "#####**Solution**"
      ],
      "metadata": {
        "id": "eyh1vfzknnxu"
      }
    },
    {
      "cell_type": "code",
      "source": [
        "my_qubits = cirq.NamedQubit.range( 3, prefix = \"q\")\n",
        "my_circuit = cirq.Circuit()\n",
        "my_circuit.append(cirq.H.on_each(my_qubits))\n",
        "my_circuit.append(cirq.measure(my_qubits))"
      ],
      "metadata": {
        "id": "l60AW6XbSkf0"
      },
      "execution_count": null,
      "outputs": []
    },
    {
      "cell_type": "code",
      "source": [
        "sim = cirq.Simulator()\n",
        "result = sim.run(my_circuit, repetitions = 100)"
      ],
      "metadata": {
        "id": "fZNJS4DwS9ou"
      },
      "execution_count": null,
      "outputs": []
    },
    {
      "cell_type": "code",
      "source": [
        "hist = cirq.plot_state_histogram(result, plt.subplot(), title = 'Qubit States', xlabel = 'States', ylabel = 'Occurrences', tick_label=binary_labels(3))\n",
        "\n",
        "plt.show()"
      ],
      "metadata": {
        "colab": {
          "base_uri": "https://localhost:8080/",
          "height": 472
        },
        "id": "QG0IwhMATNjb",
        "outputId": "8a609044-6172-4e6a-e4dd-a16960e6690a"
      },
      "execution_count": null,
      "outputs": [
        {
          "output_type": "display_data",
          "data": {
            "text/plain": [
              "<Figure size 640x480 with 1 Axes>"
            ],
            "image/png": "[encoded data removed]"
          },
          "metadata": {}
        }
      ]
    },
    {
      "cell_type": "markdown",
      "source": [
        "###**Problem #3.5**\n",
        "**Independently**, create a circuit with 3 qubits. Append an H gate the the first qubit. Add a CNOT gate such that the first qubit is the control and the second is the target. Add another CNOT gate such that second qubit is the control and the third is the target. Append a measurement to each qubit. Output your circuit. Simulate the results of your circuit 1000 times. Output the results on a histogram. What is the name of this type of entangled state?"
      ],
      "metadata": {
        "id": "jHfBeLFeTbFa"
      }
    },
    {
      "cell_type": "code",
      "source": [
        "# COMPLETE THIS CODE"
      ],
      "metadata": {
        "id": "8HeUvKOcnwm_"
      },
      "execution_count": null,
      "outputs": []
    },
    {
      "cell_type": "code",
      "source": [
        "# COMPLETE THIS CODE"
      ],
      "metadata": {
        "id": "UQy-3-xynwhF"
      },
      "execution_count": null,
      "outputs": []
    },
    {
      "cell_type": "code",
      "source": [
        "# COMPLETE THIS CODE"
      ],
      "metadata": {
        "id": "lvFZh0F2nwY0"
      },
      "execution_count": null,
      "outputs": []
    },
    {
      "cell_type": "markdown",
      "source": [
        "#####**Solution**"
      ],
      "metadata": {
        "id": "6LeYKOqqnuKG"
      }
    },
    {
      "cell_type": "code",
      "source": [
        "my_qubits = cirq.NamedQubit.range(3, prefix = \"q\")\n",
        "my_circuit = cirq.Circuit()\n",
        "my_circuit.append(cirq.H(cirq.NamedQubit(\"q0\")))\n",
        "my_circuit.append(cirq.CNOT(cirq.NamedQubit(\"q0\"), cirq.NamedQubit(\"q1\")))\n",
        "my_circuit.append(cirq.CNOT(cirq.NamedQubit(\"q1\"), cirq.NamedQubit(\"q2\")))\n",
        "my_circuit.append(cirq.measure(my_qubits))\n",
        "my_circuit"
      ],
      "metadata": {
        "colab": {
          "base_uri": "https://localhost:8080/",
          "height": 104
        },
        "id": "Hxlw_25SUYqI",
        "outputId": "4dda4de3-8e80-4330-bcb6-455a1c918c99"
      },
      "execution_count": null,
      "outputs": [
        {
          "output_type": "execute_result",
          "data": {
            "text/plain": [
              "q0: ───H───@───────M───\n",
              "           │       │\n",
              "q1: ───────X───@───M───\n",
              "               │   │\n",
              "q2: ───────────X───M───"
            ],
            "text/html": [
              "<pre style=\"overflow: auto; white-space: pre;\">q0: ───H───@───────M───\n",
              "           │       │\n",
              "q1: ───────X───@───M───\n",
              "               │   │\n",
              "q2: ───────────X───M───</pre>"
            ]
          },
          "metadata": {},
          "execution_count": 18
        }
      ]
    },
    {
      "cell_type": "code",
      "source": [
        "sim = cirq.Simulator()\n",
        "result = sim.run(my_circuit, repetitions = 1000)"
      ],
      "metadata": {
        "id": "_Rnct-sJctvs"
      },
      "execution_count": null,
      "outputs": []
    },
    {
      "cell_type": "code",
      "source": [
        "hist = cirq.plot_state_histogram(result, plt.subplot(), title = 'Qubit States', xlabel = 'States', ylabel = 'Occurrences', tick_label=binary_labels(3))\n",
        "\n",
        "plt.show()\n",
        "print('This is a 3-qubit GHZ state!')"
      ],
      "metadata": {
        "id": "N-A4tmz3cwK8",
        "outputId": "5bbf4520-4900-4d43-db97-e9acb9526df4",
        "colab": {
          "base_uri": "https://localhost:8080/",
          "height": 489
        }
      },
      "execution_count": null,
      "outputs": [
        {
          "output_type": "display_data",
          "data": {
            "text/plain": [
              "<Figure size 640x480 with 1 Axes>"
            ],
            "image/png": "[encoded data removed]"
          },
          "metadata": {}
        },
        {
          "output_type": "stream",
          "name": "stdout",
          "text": [
            "This is a 3-qubit GHZ state!\n"
          ]
        }
      ]
    },
    {
      "cell_type": "markdown",
      "source": [
        "<a name=\"p5\"></a>\n",
        "\n",
        "---\n",
        "## **Part 4: Additional Practice [OPTIONAL]**\n",
        "---\n"
      ],
      "metadata": {
        "id": "3O86p9YnbxOX"
      }
    },
    {
      "cell_type": "markdown",
      "source": [
        "###**Problem #4.1**\n",
        "**Independently**, create three qubits. Add an H gate to each qubit, and a Z gate to the second. Output your circuit. Add a measurement to each circuit."
      ],
      "metadata": {
        "id": "IbKXRhxCQWYh"
      }
    },
    {
      "cell_type": "code",
      "source": [
        "# COMPLETE THIS CODE"
      ],
      "metadata": {
        "id": "G0SXJL36c0J3"
      },
      "execution_count": null,
      "outputs": []
    },
    {
      "cell_type": "markdown",
      "source": [
        "#####**Solution**"
      ],
      "metadata": {
        "id": "3aAx9jJGciTE"
      }
    },
    {
      "cell_type": "code",
      "source": [
        "my_qubits = cirq.NamedQubit.range( 3, prefix = \"q\")\n",
        "my_circuit = cirq.Circuit()\n",
        "my_circuit.append(cirq.H.on_each(my_qubits))\n",
        "my_circuit.append(cirq.Z(cirq.NamedQubit(\"q1\")))\n",
        "my_circuit.append(cirq.measure(my_qubits))\n",
        "my_circuit"
      ],
      "metadata": {
        "colab": {
          "base_uri": "https://localhost:8080/",
          "height": 104
        },
        "id": "OZYBYGv3Vd6S",
        "outputId": "566bc30e-056c-43d5-c797-73cf3e1ffaa3"
      },
      "execution_count": null,
      "outputs": [
        {
          "output_type": "execute_result",
          "data": {
            "text/plain": [
              "q0: ───H───────M───\n",
              "               │\n",
              "q1: ───H───Z───M───\n",
              "               │\n",
              "q2: ───H───────M───"
            ],
            "text/html": [
              "<pre style=\"overflow: auto; white-space: pre;\">q0: ───H───────M───\n",
              "               │\n",
              "q1: ───H───Z───M───\n",
              "               │\n",
              "q2: ───H───────M───</pre>"
            ]
          },
          "metadata": {},
          "execution_count": 13
        }
      ]
    },
    {
      "cell_type": "markdown",
      "source": [
        "###**Problem #4.2**\n",
        "**Independently**, simulate the results of your circuit from Problem #4.1 100 times. Output the results on a histogram."
      ],
      "metadata": {
        "id": "d0uMlbxrQnom"
      }
    },
    {
      "cell_type": "code",
      "source": [
        "# COMPLETE THIS CODE"
      ],
      "metadata": {
        "id": "Jw4FlpXQc3xO"
      },
      "execution_count": null,
      "outputs": []
    },
    {
      "cell_type": "code",
      "source": [
        "# COMPLETE THIS CODE"
      ],
      "metadata": {
        "id": "6WBMv-_Qc3on"
      },
      "execution_count": null,
      "outputs": []
    },
    {
      "cell_type": "markdown",
      "source": [
        "#####**Solution**"
      ],
      "metadata": {
        "id": "wSDCqfREcnmO"
      }
    },
    {
      "cell_type": "code",
      "source": [
        "sim = cirq.Simulator()\n",
        "result = sim.run(my_circuit, repetitions = 100)"
      ],
      "metadata": {
        "id": "FFDGLTtWV0x1"
      },
      "execution_count": null,
      "outputs": []
    },
    {
      "cell_type": "code",
      "source": [
        "hist = cirq.plot_state_histogram(result, plt.subplot(), title = 'Qubit States', xlabel = 'States', ylabel = 'Occurrences', tick_label=binary_labels(3))\n",
        "\n",
        "plt.show()"
      ],
      "metadata": {
        "colab": {
          "base_uri": "https://localhost:8080/",
          "height": 472
        },
        "id": "Y0gnrQU6V4dO",
        "outputId": "cf2497f4-e6c3-4d73-c609-eec976b3fbef"
      },
      "execution_count": null,
      "outputs": [
        {
          "output_type": "display_data",
          "data": {
            "text/plain": [
              "<Figure size 640x480 with 1 Axes>"
            ],
            "image/png": "[encoded data removed]"
          },
          "metadata": {}
        }
      ]
    },
    {
      "cell_type": "markdown",
      "source": [
        "###**Problem #4.3**\n",
        "**Independently**, create three qubits. Append an X gate to each qubit.Append an H gate to the second qubit, then a Z gate to the second qubit. Append a measurement to each gate. Output your circuit."
      ],
      "metadata": {
        "id": "7xUl_yi0RJB9"
      }
    },
    {
      "cell_type": "code",
      "source": [
        "# COMPLETE THIS CODE"
      ],
      "metadata": {
        "id": "DiVlEn-5c5al"
      },
      "execution_count": null,
      "outputs": []
    },
    {
      "cell_type": "markdown",
      "source": [
        "#####**Solution**"
      ],
      "metadata": {
        "id": "KKbA3IG6coyn"
      }
    },
    {
      "cell_type": "code",
      "source": [
        "my_qubits = cirq.NamedQubit.range( 3, prefix = \"q\")\n",
        "my_circuit = cirq.Circuit()\n",
        "my_circuit.append(cirq.X.on_each(my_qubits))\n",
        "my_circuit.append(cirq.H(cirq.NamedQubit(\"q1\")))\n",
        "my_circuit.append(cirq.Z(cirq.NamedQubit(\"q1\")))\n",
        "my_circuit.append(cirq.measure(my_qubits))\n",
        "my_circuit"
      ],
      "metadata": {
        "colab": {
          "base_uri": "https://localhost:8080/",
          "height": 104
        },
        "id": "tpMEBKxwWBv_",
        "outputId": "c699347e-ee22-429d-80d0-5ded311d6233"
      },
      "execution_count": null,
      "outputs": [
        {
          "output_type": "execute_result",
          "data": {
            "text/plain": [
              "q0: ───X───────────M───\n",
              "                   │\n",
              "q1: ───X───H───Z───M───\n",
              "                   │\n",
              "q2: ───X───────────M───"
            ],
            "text/html": [
              "<pre style=\"overflow: auto; white-space: pre;\">q0: ───X───────────M───\n",
              "                   │\n",
              "q1: ───X───H───Z───M───\n",
              "                   │\n",
              "q2: ───X───────────M───</pre>"
            ]
          },
          "metadata": {},
          "execution_count": 10
        }
      ]
    },
    {
      "cell_type": "markdown",
      "source": [
        "###**Problem #4.4**\n",
        "**Independently**, Simulate the results of your circuit 100 times. Plot the results on a histogram."
      ],
      "metadata": {
        "id": "h4NW3cZ9SOKB"
      }
    },
    {
      "cell_type": "code",
      "source": [
        "# COMPLETE THIS CODE"
      ],
      "metadata": {
        "id": "VW4ScD4uc6Sn"
      },
      "execution_count": null,
      "outputs": []
    },
    {
      "cell_type": "code",
      "source": [
        "# COMPLETE THIS CODE"
      ],
      "metadata": {
        "id": "FPdkECkOc6Od"
      },
      "execution_count": null,
      "outputs": []
    },
    {
      "cell_type": "markdown",
      "source": [
        "#####**Solution**"
      ],
      "metadata": {
        "id": "_6J1GANbcp_A"
      }
    },
    {
      "cell_type": "code",
      "source": [
        "sim = cirq.Simulator()\n",
        "result = sim.run(my_circuit, repetitions = 100)"
      ],
      "metadata": {
        "id": "dDJXTJPRWDci"
      },
      "execution_count": null,
      "outputs": []
    },
    {
      "cell_type": "code",
      "source": [
        "hist = cirq.plot_state_histogram(result, plt.subplot(), title = 'Qubit States', xlabel = 'States', ylabel = 'Occurrences', tick_label=binary_labels(3))\n",
        "\n",
        "plt.show()"
      ],
      "metadata": {
        "colab": {
          "base_uri": "https://localhost:8080/",
          "height": 472
        },
        "id": "lvc8B-PkWDT4",
        "outputId": "bd845de8-e749-477c-d757-352a3690a50f"
      },
      "execution_count": null,
      "outputs": [
        {
          "output_type": "display_data",
          "data": {
            "text/plain": [
              "<Figure size 640x480 with 1 Axes>"
            ],
            "image/png": "[encoded data removed]"
          },
          "metadata": {}
        }
      ]
    },
    {
      "cell_type": "markdown",
      "source": [
        "###**Problem #4.5**\n",
        "**Independently**, create two qubits. Append the first to a circuit using an X gate. Append the second to the circuit using an H gate, then a Z gate. Next append a CNOT gate such that the second qubit is the target qubit and the first is the control qubit. Finally, add a measurement to each qubit. Output your circuit."
      ],
      "metadata": {
        "id": "zuNyXFv6Scuh"
      }
    },
    {
      "cell_type": "code",
      "source": [
        "# COMPLETE THIS CODE"
      ],
      "metadata": {
        "id": "8QeX3g0Sc7-R"
      },
      "execution_count": null,
      "outputs": []
    },
    {
      "cell_type": "markdown",
      "source": [
        "#####**Solution**"
      ],
      "metadata": {
        "id": "4E6AH2VrcrKX"
      }
    },
    {
      "cell_type": "code",
      "source": [
        "my_qubits = cirq.NamedQubit.range( 2, prefix = \"q\")\n",
        "my_circuit = cirq.Circuit()\n",
        "my_circuit.append(cirq.X(cirq.NamedQubit(\"q0\")))\n",
        "my_circuit.append(cirq.H(cirq.NamedQubit(\"q1\")))\n",
        "my_circuit.append(cirq.Z(cirq.NamedQubit(\"q1\")))\n",
        "my_circuit.append(cirq.CNOT(cirq.NamedQubit(\"q0\"), cirq.NamedQubit(\"q1\")))\n",
        "my_circuit.append(cirq.measure(my_qubits))\n",
        "my_circuit"
      ],
      "metadata": {
        "colab": {
          "base_uri": "https://localhost:8080/",
          "height": 69
        },
        "id": "JctzQN41WZ38",
        "outputId": "82186d6a-fa94-4a92-d823-7577c96470d5"
      },
      "execution_count": null,
      "outputs": [
        {
          "output_type": "execute_result",
          "data": {
            "text/plain": [
              "q0: ───X───────@───M───\n",
              "               │   │\n",
              "q1: ───H───Z───X───M───"
            ],
            "text/html": [
              "<pre style=\"overflow: auto; white-space: pre;\">q0: ───X───────@───M───\n",
              "               │   │\n",
              "q1: ───H───Z───X───M───</pre>"
            ]
          },
          "metadata": {},
          "execution_count": 22
        }
      ]
    },
    {
      "cell_type": "markdown",
      "source": [
        "###**Problem #4.6**\n",
        "**Independently**, simulate the results of your circuit 100 times. Plot the histogram."
      ],
      "metadata": {
        "id": "YO5m13jQTCb_"
      }
    },
    {
      "cell_type": "code",
      "source": [
        "# COMPLETE THIS CODE"
      ],
      "metadata": {
        "id": "-ugB69f1c-QF"
      },
      "execution_count": null,
      "outputs": []
    },
    {
      "cell_type": "code",
      "source": [
        "# COMPLETE THIS CODE"
      ],
      "metadata": {
        "id": "BfCvVigtc-JC"
      },
      "execution_count": null,
      "outputs": []
    },
    {
      "cell_type": "markdown",
      "source": [
        "#####**Solution**"
      ],
      "metadata": {
        "id": "LI7ASELVcsaK"
      }
    },
    {
      "cell_type": "code",
      "source": [
        "sim = cirq.Simulator()\n",
        "result = sim.run(my_circuit, repetitions = 100)"
      ],
      "metadata": {
        "id": "uB7CsqTeWaeo"
      },
      "execution_count": null,
      "outputs": []
    },
    {
      "cell_type": "code",
      "source": [
        "hist = cirq.plot_state_histogram(result, plt.subplot(), title = 'Qubit States', xlabel = 'States', ylabel = 'Occurrences', tick_label=binary_labels(2))\n",
        "\n",
        "plt.show()"
      ],
      "metadata": {
        "colab": {
          "base_uri": "https://localhost:8080/",
          "height": 472
        },
        "id": "JBN4VkbvWaXp",
        "outputId": "d0ebd137-87da-473b-b4ca-cd3169f9ce58"
      },
      "execution_count": null,
      "outputs": [
        {
          "output_type": "display_data",
          "data": {
            "text/plain": [
              "<Figure size 640x480 with 1 Axes>"
            ],
            "image/png": "[encoded data removed]"
          },
          "metadata": {}
        }
      ]
    },
    {
      "cell_type": "markdown",
      "source": [
        "###**Problem #4.7**\n",
        "**Independently**, create a two qubits. Append the second qubit to the circuit using an X gate. Next, add a CNOT gate such that the first qubit is the target qubit and the second qubit is the control qubit. Append a measurement to both qubits. Output your circuit."
      ],
      "metadata": {
        "id": "iGOWNhGmTN7l"
      }
    },
    {
      "cell_type": "code",
      "source": [
        "# COMPLETE THIS CODE"
      ],
      "metadata": {
        "id": "mZg7ywGZc_ng"
      },
      "execution_count": null,
      "outputs": []
    },
    {
      "cell_type": "markdown",
      "source": [
        "#####**Solution**"
      ],
      "metadata": {
        "id": "CBJF-Z83cugf"
      }
    },
    {
      "cell_type": "code",
      "source": [
        "my_qubits = cirq.NamedQubit.range( 2, prefix = \"q\")\n",
        "my_circuit = cirq.Circuit()\n",
        "my_circuit.append(cirq.X(cirq.NamedQubit(\"q1\")))\n",
        "my_circuit.append(cirq.CNOT(cirq.NamedQubit(\"q1\"), cirq.NamedQubit(\"q0\")))\n",
        "my_circuit.append(cirq.measure(my_qubits))\n",
        "my_circuit"
      ],
      "metadata": {
        "colab": {
          "base_uri": "https://localhost:8080/",
          "height": 69
        },
        "id": "T14gMZjaZZD0",
        "outputId": "580ec5e0-927a-49cc-8901-14f32c2fb53d"
      },
      "execution_count": null,
      "outputs": [
        {
          "output_type": "execute_result",
          "data": {
            "text/plain": [
              "q0: ───────X───M───\n",
              "           │   │\n",
              "q1: ───X───@───M───"
            ],
            "text/html": [
              "<pre style=\"overflow: auto; white-space: pre;\">q0: ───────X───M───\n",
              "           │   │\n",
              "q1: ───X───@───M───</pre>"
            ]
          },
          "metadata": {},
          "execution_count": 25
        }
      ]
    },
    {
      "cell_type": "markdown",
      "source": [
        "###**Problem #4.8**\n",
        "**Independently**, simulate the results of your circuit 100 times. Plot the histogram."
      ],
      "metadata": {
        "id": "slcvbXS2U2Gp"
      }
    },
    {
      "cell_type": "code",
      "source": [
        "# COMPLETE THIS CODE"
      ],
      "metadata": {
        "id": "JM5_JrgIdAnz"
      },
      "execution_count": null,
      "outputs": []
    },
    {
      "cell_type": "code",
      "source": [
        "# COMPLETE THIS CODE"
      ],
      "metadata": {
        "id": "iQK6ZFdndAgX"
      },
      "execution_count": null,
      "outputs": []
    },
    {
      "cell_type": "markdown",
      "source": [
        "#####**Solution**"
      ],
      "metadata": {
        "id": "5BaednAscviT"
      }
    },
    {
      "cell_type": "code",
      "source": [
        "sim = cirq.Simulator()\n",
        "result = sim.run(my_circuit, repetitions = 100)"
      ],
      "metadata": {
        "id": "mQULxWFzZuWR"
      },
      "execution_count": null,
      "outputs": []
    },
    {
      "cell_type": "code",
      "source": [
        "hist = cirq.plot_state_histogram(result, plt.subplot(), title = 'Qubit States', xlabel = 'States', ylabel = 'Occurrences', tick_label=binary_labels(2))\n",
        "\n",
        "plt.show()"
      ],
      "metadata": {
        "colab": {
          "base_uri": "https://localhost:8080/",
          "height": 472
        },
        "id": "h_p4ZsWhZxbT",
        "outputId": "8c0ca375-d80a-482b-f7ab-8dbb44a40754"
      },
      "execution_count": null,
      "outputs": [
        {
          "output_type": "display_data",
          "data": {
            "text/plain": [
              "<Figure size 640x480 with 1 Axes>"
            ],
            "image/png": "[encoded data removed]"
          },
          "metadata": {}
        }
      ]
    },
    {
      "cell_type": "markdown",
      "source": [
        "###**Problem #4.9**\n",
        "**Independently**, create two qubits. Append the first qubit to the circuit using an H gate. Append the second qubit to the circuit using an X gate. Add a CNOT gate to the circuit such the the second qubit is the target and the first is the control. Append a measurement to each qubit. Output your circuit."
      ],
      "metadata": {
        "id": "uAAcWgppT575"
      }
    },
    {
      "cell_type": "code",
      "source": [
        "# COMPLETE THIS CODE"
      ],
      "metadata": {
        "id": "e4bP-SERdB5n"
      },
      "execution_count": null,
      "outputs": []
    },
    {
      "cell_type": "markdown",
      "source": [
        "#####**Solution**"
      ],
      "metadata": {
        "id": "K_wqRc_Kcw4K"
      }
    },
    {
      "cell_type": "code",
      "source": [
        "my_qubits = cirq.NamedQubit.range( 2, prefix = \"q\")\n",
        "my_circuit = cirq.Circuit()\n",
        "my_circuit.append(cirq.H(cirq.NamedQubit(\"q0\")))\n",
        "my_circuit.append(cirq.X(cirq.NamedQubit(\"q1\")))\n",
        "my_circuit.append(cirq.CNOT(cirq.NamedQubit(\"q0\"), cirq.NamedQubit(\"q1\")))\n",
        "my_circuit.append(cirq.measure(my_qubits))\n",
        "my_circuit"
      ],
      "metadata": {
        "colab": {
          "base_uri": "https://localhost:8080/",
          "height": 69
        },
        "id": "-hM8V3XmZ3QT",
        "outputId": "0788a9b8-8175-4c34-9f2b-d16cbccefb2d"
      },
      "execution_count": null,
      "outputs": [
        {
          "output_type": "execute_result",
          "data": {
            "text/plain": [
              "q0: ───H───@───M───\n",
              "           │   │\n",
              "q1: ───X───X───M───"
            ],
            "text/html": [
              "<pre style=\"overflow: auto; white-space: pre;\">q0: ───H───@───M───\n",
              "           │   │\n",
              "q1: ───X───X───M───</pre>"
            ]
          },
          "metadata": {},
          "execution_count": 28
        }
      ]
    },
    {
      "cell_type": "markdown",
      "source": [
        "###**Problem #4.10**\n",
        "**Independently**, simulate the results of your circuit 100 times. Plot the histogram."
      ],
      "metadata": {
        "id": "nRYyCZDmU4X_"
      }
    },
    {
      "cell_type": "code",
      "source": [
        "# COMPLETE THIS CODE"
      ],
      "metadata": {
        "id": "ZlznP2FydC6s"
      },
      "execution_count": null,
      "outputs": []
    },
    {
      "cell_type": "code",
      "source": [
        "# COMPLETE THIS CODE"
      ],
      "metadata": {
        "id": "_xW6X8qcdCzR"
      },
      "execution_count": null,
      "outputs": []
    },
    {
      "cell_type": "markdown",
      "source": [
        "#####**Solution**"
      ],
      "metadata": {
        "id": "7KfWFZJRcyDv"
      }
    },
    {
      "cell_type": "code",
      "source": [
        "sim = cirq.Simulator()\n",
        "result = sim.run(my_circuit, repetitions = 100)"
      ],
      "metadata": {
        "id": "6S5s721CaQuW"
      },
      "execution_count": null,
      "outputs": []
    },
    {
      "cell_type": "code",
      "source": [
        "hist = cirq.plot_state_histogram(result, plt.subplot(), title = 'Qubit States', xlabel = 'States', ylabel = 'Occurrences', tick_label=binary_labels(2))\n",
        "\n",
        "plt.show()"
      ],
      "metadata": {
        "colab": {
          "base_uri": "https://localhost:8080/",
          "height": 472
        },
        "id": "GiIoM1azaQmg",
        "outputId": "9e348c92-10f2-4cb0-d7ea-8fe1cf12c888"
      },
      "execution_count": null,
      "outputs": [
        {
          "output_type": "display_data",
          "data": {
            "text/plain": [
              "<Figure size 640x480 with 1 Axes>"
            ],
            "image/png": "[encoded data removed]"
          },
          "metadata": {}
        }
      ]
    },
    {
      "cell_type": "markdown",
      "source": [
        "#End of notebook\n",
        "---\n",
        "© 2023 The Coding School, All rights reserved"
      ],
      "metadata": {
        "id": "ikaAqJ11bWfM"
      }
    }
  ]
}